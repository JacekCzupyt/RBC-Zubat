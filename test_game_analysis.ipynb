{
 "cells": [
  {
   "cell_type": "code",
   "execution_count": 1,
   "outputs": [],
   "source": [
    "%load_ext autoreload\n",
    "%autoreload 2"
   ],
   "metadata": {
    "collapsed": false
   }
  },
  {
   "cell_type": "code",
   "execution_count": 2,
   "outputs": [],
   "source": [
    "import csv\n",
    "import re\n",
    "import pandas as pd\n",
    "\n",
    "import pandas\n",
    "import os\n",
    "\n",
    "import pandas as pd\n",
    "from reconchess import GameHistory"
   ],
   "metadata": {
    "collapsed": false
   }
  },
  {
   "cell_type": "code",
   "execution_count": 7,
   "outputs": [
    {
     "data": {
      "text/plain": "203"
     },
     "execution_count": 7,
     "metadata": {},
     "output_type": "execute_result"
    }
   ],
   "source": [
    "from typing import List\n",
    "\n",
    "path = \"game_logs/remote_test_games/batch_5\"\n",
    "\n",
    "games = os.listdir(path)\n",
    "\n",
    "games = [os.path.join(path, game_id, f\"game_{game_id}.log\") for game_id in games]\n",
    "\n",
    "games = [x for x in games if os.path.exists(x)]\n",
    "game_hists: List[GameHistory] = [GameHistory.from_file(x) for x in games]\n",
    "len(game_hists)"
   ],
   "metadata": {
    "collapsed": false
   }
  },
  {
   "cell_type": "code",
   "execution_count": 8,
   "outputs": [
    {
     "data": {
      "text/plain": "16"
     },
     "execution_count": 8,
     "metadata": {},
     "output_type": "execute_result"
    }
   ],
   "source": [
    "sum([(game.get_white_player_name() == \"Zubat\") == game.get_winner_color() for game in game_hists])"
   ],
   "metadata": {
    "collapsed": false
   }
  },
  {
   "cell_type": "code",
   "execution_count": 9,
   "outputs": [
    {
     "data": {
      "text/plain": "('Zubat', True)"
     },
     "execution_count": 9,
     "metadata": {},
     "output_type": "execute_result"
    }
   ],
   "source": [
    "game_hists[7].get_white_player_name(), game_hists[7].get_winner_color()"
   ],
   "metadata": {
    "collapsed": false
   }
  },
  {
   "cell_type": "code",
   "execution_count": 10,
   "outputs": [
    {
     "data": {
      "text/plain": "[<WinReason.KING_CAPTURE: 1>,\n <WinReason.KING_CAPTURE: 1>,\n <WinReason.KING_CAPTURE: 1>,\n <WinReason.KING_CAPTURE: 1>,\n <WinReason.KING_CAPTURE: 1>,\n <WinReason.KING_CAPTURE: 1>,\n <WinReason.KING_CAPTURE: 1>,\n <WinReason.KING_CAPTURE: 1>,\n <WinReason.KING_CAPTURE: 1>,\n <WinReason.KING_CAPTURE: 1>,\n <WinReason.KING_CAPTURE: 1>,\n <WinReason.KING_CAPTURE: 1>,\n <WinReason.KING_CAPTURE: 1>,\n <WinReason.KING_CAPTURE: 1>,\n <WinReason.KING_CAPTURE: 1>,\n <WinReason.KING_CAPTURE: 1>,\n <WinReason.KING_CAPTURE: 1>,\n <WinReason.KING_CAPTURE: 1>,\n <WinReason.KING_CAPTURE: 1>,\n <WinReason.KING_CAPTURE: 1>,\n <WinReason.KING_CAPTURE: 1>,\n <WinReason.KING_CAPTURE: 1>,\n <WinReason.KING_CAPTURE: 1>,\n <WinReason.KING_CAPTURE: 1>,\n <WinReason.KING_CAPTURE: 1>,\n <WinReason.KING_CAPTURE: 1>,\n <WinReason.KING_CAPTURE: 1>,\n <WinReason.KING_CAPTURE: 1>,\n <WinReason.KING_CAPTURE: 1>,\n <WinReason.KING_CAPTURE: 1>,\n <WinReason.TIMEOUT: 2>,\n <WinReason.KING_CAPTURE: 1>,\n <WinReason.KING_CAPTURE: 1>,\n <WinReason.KING_CAPTURE: 1>,\n <WinReason.KING_CAPTURE: 1>,\n <WinReason.KING_CAPTURE: 1>,\n <WinReason.KING_CAPTURE: 1>,\n <WinReason.KING_CAPTURE: 1>,\n <WinReason.KING_CAPTURE: 1>,\n <WinReason.KING_CAPTURE: 1>,\n <WinReason.KING_CAPTURE: 1>,\n <WinReason.KING_CAPTURE: 1>,\n <WinReason.KING_CAPTURE: 1>,\n <WinReason.KING_CAPTURE: 1>,\n <WinReason.KING_CAPTURE: 1>,\n <WinReason.KING_CAPTURE: 1>,\n <WinReason.KING_CAPTURE: 1>,\n <WinReason.KING_CAPTURE: 1>,\n <WinReason.KING_CAPTURE: 1>,\n <WinReason.KING_CAPTURE: 1>,\n <WinReason.KING_CAPTURE: 1>,\n <WinReason.KING_CAPTURE: 1>,\n <WinReason.KING_CAPTURE: 1>,\n <WinReason.KING_CAPTURE: 1>,\n <WinReason.KING_CAPTURE: 1>,\n <WinReason.KING_CAPTURE: 1>,\n <WinReason.KING_CAPTURE: 1>,\n <WinReason.KING_CAPTURE: 1>,\n <WinReason.KING_CAPTURE: 1>,\n <WinReason.KING_CAPTURE: 1>,\n <WinReason.KING_CAPTURE: 1>,\n <WinReason.KING_CAPTURE: 1>,\n <WinReason.KING_CAPTURE: 1>,\n <WinReason.MOVE_LIMIT: 5>,\n <WinReason.KING_CAPTURE: 1>,\n <WinReason.KING_CAPTURE: 1>,\n <WinReason.KING_CAPTURE: 1>,\n <WinReason.KING_CAPTURE: 1>,\n <WinReason.KING_CAPTURE: 1>,\n <WinReason.KING_CAPTURE: 1>,\n <WinReason.KING_CAPTURE: 1>,\n <WinReason.KING_CAPTURE: 1>,\n <WinReason.KING_CAPTURE: 1>,\n <WinReason.KING_CAPTURE: 1>,\n <WinReason.KING_CAPTURE: 1>,\n <WinReason.KING_CAPTURE: 1>,\n <WinReason.KING_CAPTURE: 1>,\n <WinReason.KING_CAPTURE: 1>,\n <WinReason.KING_CAPTURE: 1>,\n <WinReason.KING_CAPTURE: 1>,\n <WinReason.KING_CAPTURE: 1>,\n <WinReason.KING_CAPTURE: 1>,\n <WinReason.KING_CAPTURE: 1>,\n <WinReason.KING_CAPTURE: 1>,\n <WinReason.KING_CAPTURE: 1>,\n <WinReason.KING_CAPTURE: 1>,\n <WinReason.KING_CAPTURE: 1>,\n <WinReason.KING_CAPTURE: 1>,\n <WinReason.KING_CAPTURE: 1>,\n <WinReason.KING_CAPTURE: 1>,\n <WinReason.KING_CAPTURE: 1>,\n <WinReason.KING_CAPTURE: 1>,\n <WinReason.KING_CAPTURE: 1>,\n <WinReason.KING_CAPTURE: 1>,\n <WinReason.KING_CAPTURE: 1>,\n <WinReason.KING_CAPTURE: 1>,\n <WinReason.KING_CAPTURE: 1>,\n <WinReason.KING_CAPTURE: 1>,\n <WinReason.KING_CAPTURE: 1>,\n <WinReason.KING_CAPTURE: 1>,\n <WinReason.KING_CAPTURE: 1>,\n <WinReason.KING_CAPTURE: 1>,\n <WinReason.KING_CAPTURE: 1>,\n <WinReason.KING_CAPTURE: 1>,\n <WinReason.KING_CAPTURE: 1>,\n <WinReason.KING_CAPTURE: 1>,\n <WinReason.KING_CAPTURE: 1>,\n <WinReason.KING_CAPTURE: 1>,\n <WinReason.KING_CAPTURE: 1>,\n <WinReason.KING_CAPTURE: 1>,\n <WinReason.KING_CAPTURE: 1>,\n <WinReason.KING_CAPTURE: 1>,\n <WinReason.KING_CAPTURE: 1>,\n <WinReason.KING_CAPTURE: 1>,\n <WinReason.KING_CAPTURE: 1>,\n <WinReason.KING_CAPTURE: 1>,\n <WinReason.KING_CAPTURE: 1>,\n <WinReason.KING_CAPTURE: 1>,\n <WinReason.KING_CAPTURE: 1>,\n <WinReason.KING_CAPTURE: 1>,\n <WinReason.KING_CAPTURE: 1>,\n <WinReason.KING_CAPTURE: 1>,\n <WinReason.KING_CAPTURE: 1>,\n <WinReason.KING_CAPTURE: 1>,\n <WinReason.KING_CAPTURE: 1>,\n <WinReason.KING_CAPTURE: 1>,\n <WinReason.KING_CAPTURE: 1>,\n <WinReason.KING_CAPTURE: 1>,\n <WinReason.KING_CAPTURE: 1>,\n <WinReason.KING_CAPTURE: 1>,\n <WinReason.KING_CAPTURE: 1>,\n <WinReason.KING_CAPTURE: 1>,\n <WinReason.KING_CAPTURE: 1>,\n <WinReason.KING_CAPTURE: 1>,\n <WinReason.KING_CAPTURE: 1>,\n <WinReason.KING_CAPTURE: 1>,\n <WinReason.KING_CAPTURE: 1>,\n <WinReason.KING_CAPTURE: 1>,\n <WinReason.KING_CAPTURE: 1>,\n <WinReason.KING_CAPTURE: 1>,\n <WinReason.KING_CAPTURE: 1>,\n <WinReason.KING_CAPTURE: 1>,\n <WinReason.KING_CAPTURE: 1>,\n <WinReason.KING_CAPTURE: 1>,\n <WinReason.KING_CAPTURE: 1>,\n <WinReason.KING_CAPTURE: 1>,\n <WinReason.KING_CAPTURE: 1>,\n <WinReason.KING_CAPTURE: 1>,\n <WinReason.KING_CAPTURE: 1>,\n <WinReason.KING_CAPTURE: 1>,\n <WinReason.KING_CAPTURE: 1>,\n <WinReason.KING_CAPTURE: 1>,\n <WinReason.KING_CAPTURE: 1>,\n <WinReason.KING_CAPTURE: 1>,\n <WinReason.MOVE_LIMIT: 5>,\n <WinReason.KING_CAPTURE: 1>,\n <WinReason.KING_CAPTURE: 1>,\n <WinReason.KING_CAPTURE: 1>,\n <WinReason.KING_CAPTURE: 1>,\n <WinReason.TIMEOUT: 2>,\n <WinReason.KING_CAPTURE: 1>,\n <WinReason.KING_CAPTURE: 1>,\n <WinReason.KING_CAPTURE: 1>,\n <WinReason.KING_CAPTURE: 1>,\n <WinReason.KING_CAPTURE: 1>,\n <WinReason.KING_CAPTURE: 1>,\n <WinReason.KING_CAPTURE: 1>,\n <WinReason.KING_CAPTURE: 1>,\n <WinReason.KING_CAPTURE: 1>,\n <WinReason.KING_CAPTURE: 1>,\n <WinReason.KING_CAPTURE: 1>,\n <WinReason.KING_CAPTURE: 1>,\n <WinReason.KING_CAPTURE: 1>,\n <WinReason.KING_CAPTURE: 1>,\n <WinReason.KING_CAPTURE: 1>,\n <WinReason.KING_CAPTURE: 1>,\n <WinReason.KING_CAPTURE: 1>,\n <WinReason.KING_CAPTURE: 1>,\n <WinReason.KING_CAPTURE: 1>,\n <WinReason.KING_CAPTURE: 1>,\n <WinReason.KING_CAPTURE: 1>,\n <WinReason.KING_CAPTURE: 1>,\n <WinReason.KING_CAPTURE: 1>,\n <WinReason.KING_CAPTURE: 1>,\n <WinReason.KING_CAPTURE: 1>,\n <WinReason.KING_CAPTURE: 1>,\n <WinReason.KING_CAPTURE: 1>,\n <WinReason.KING_CAPTURE: 1>,\n <WinReason.KING_CAPTURE: 1>,\n <WinReason.KING_CAPTURE: 1>,\n <WinReason.KING_CAPTURE: 1>,\n <WinReason.KING_CAPTURE: 1>,\n <WinReason.KING_CAPTURE: 1>,\n <WinReason.KING_CAPTURE: 1>,\n <WinReason.KING_CAPTURE: 1>,\n <WinReason.KING_CAPTURE: 1>,\n <WinReason.KING_CAPTURE: 1>,\n <WinReason.KING_CAPTURE: 1>,\n <WinReason.KING_CAPTURE: 1>,\n <WinReason.KING_CAPTURE: 1>,\n <WinReason.KING_CAPTURE: 1>,\n <WinReason.KING_CAPTURE: 1>,\n <WinReason.KING_CAPTURE: 1>]"
     },
     "execution_count": 10,
     "metadata": {},
     "output_type": "execute_result"
    }
   ],
   "source": [
    "[game.get_win_reason() for game in game_hists]"
   ],
   "metadata": {
    "collapsed": false
   }
  },
  {
   "cell_type": "code",
   "execution_count": null,
   "outputs": [],
   "source": [
    "game"
   ],
   "metadata": {
    "collapsed": false
   }
  },
  {
   "cell_type": "markdown",
   "source": [
    "### Move score analysis"
   ],
   "metadata": {
    "collapsed": false
   }
  },
  {
   "cell_type": "code",
   "execution_count": 13,
   "outputs": [
    {
     "ename": "EmptyDataError",
     "evalue": "No columns to parse from file",
     "output_type": "error",
     "traceback": [
      "\u001B[1;31m---------------------------------------------------------------------------\u001B[0m",
      "\u001B[1;31mEmptyDataError\u001B[0m                            Traceback (most recent call last)",
      "Cell \u001B[1;32mIn[13], line 3\u001B[0m\n\u001B[0;32m      1\u001B[0m move_score_files \u001B[38;5;241m=\u001B[39m [(game_id, [f \u001B[38;5;28;01mfor\u001B[39;00m f \u001B[38;5;129;01min\u001B[39;00m os\u001B[38;5;241m.\u001B[39mlistdir(os\u001B[38;5;241m.\u001B[39mpath\u001B[38;5;241m.\u001B[39mjoin(path, game_id)) \u001B[38;5;28;01mif\u001B[39;00m re\u001B[38;5;241m.\u001B[39mmatch(\u001B[38;5;124m\"\u001B[39m\u001B[38;5;124mmove_scores*\u001B[39m\u001B[38;5;124m\"\u001B[39m, f)][\u001B[38;5;241m0\u001B[39m]) \u001B[38;5;28;01mfor\u001B[39;00m game_id \u001B[38;5;129;01min\u001B[39;00m os\u001B[38;5;241m.\u001B[39mlistdir(path)]\n\u001B[0;32m      2\u001B[0m move_score_files \u001B[38;5;241m=\u001B[39m [os\u001B[38;5;241m.\u001B[39mpath\u001B[38;5;241m.\u001B[39mjoin(path, game_id, f) \u001B[38;5;28;01mfor\u001B[39;00m (game_id, f) \u001B[38;5;129;01min\u001B[39;00m move_score_files]\n\u001B[1;32m----> 3\u001B[0m move_score_files \u001B[38;5;241m=\u001B[39m [pd\u001B[38;5;241m.\u001B[39mread_csv(file) \u001B[38;5;28;01mfor\u001B[39;00m file \u001B[38;5;129;01min\u001B[39;00m move_score_files]\n",
      "Cell \u001B[1;32mIn[13], line 3\u001B[0m, in \u001B[0;36m<listcomp>\u001B[1;34m(.0)\u001B[0m\n\u001B[0;32m      1\u001B[0m move_score_files \u001B[38;5;241m=\u001B[39m [(game_id, [f \u001B[38;5;28;01mfor\u001B[39;00m f \u001B[38;5;129;01min\u001B[39;00m os\u001B[38;5;241m.\u001B[39mlistdir(os\u001B[38;5;241m.\u001B[39mpath\u001B[38;5;241m.\u001B[39mjoin(path, game_id)) \u001B[38;5;28;01mif\u001B[39;00m re\u001B[38;5;241m.\u001B[39mmatch(\u001B[38;5;124m\"\u001B[39m\u001B[38;5;124mmove_scores*\u001B[39m\u001B[38;5;124m\"\u001B[39m, f)][\u001B[38;5;241m0\u001B[39m]) \u001B[38;5;28;01mfor\u001B[39;00m game_id \u001B[38;5;129;01min\u001B[39;00m os\u001B[38;5;241m.\u001B[39mlistdir(path)]\n\u001B[0;32m      2\u001B[0m move_score_files \u001B[38;5;241m=\u001B[39m [os\u001B[38;5;241m.\u001B[39mpath\u001B[38;5;241m.\u001B[39mjoin(path, game_id, f) \u001B[38;5;28;01mfor\u001B[39;00m (game_id, f) \u001B[38;5;129;01min\u001B[39;00m move_score_files]\n\u001B[1;32m----> 3\u001B[0m move_score_files \u001B[38;5;241m=\u001B[39m [\u001B[43mpd\u001B[49m\u001B[38;5;241;43m.\u001B[39;49m\u001B[43mread_csv\u001B[49m\u001B[43m(\u001B[49m\u001B[43mfile\u001B[49m\u001B[43m)\u001B[49m \u001B[38;5;28;01mfor\u001B[39;00m file \u001B[38;5;129;01min\u001B[39;00m move_score_files]\n",
      "File \u001B[1;32m~\\AppData\\Roaming\\Python\\Python310\\site-packages\\pandas\\util\\_decorators.py:311\u001B[0m, in \u001B[0;36mdeprecate_nonkeyword_arguments.<locals>.decorate.<locals>.wrapper\u001B[1;34m(*args, **kwargs)\u001B[0m\n\u001B[0;32m    305\u001B[0m \u001B[38;5;28;01mif\u001B[39;00m \u001B[38;5;28mlen\u001B[39m(args) \u001B[38;5;241m>\u001B[39m num_allow_args:\n\u001B[0;32m    306\u001B[0m     warnings\u001B[38;5;241m.\u001B[39mwarn(\n\u001B[0;32m    307\u001B[0m         msg\u001B[38;5;241m.\u001B[39mformat(arguments\u001B[38;5;241m=\u001B[39marguments),\n\u001B[0;32m    308\u001B[0m         \u001B[38;5;167;01mFutureWarning\u001B[39;00m,\n\u001B[0;32m    309\u001B[0m         stacklevel\u001B[38;5;241m=\u001B[39mstacklevel,\n\u001B[0;32m    310\u001B[0m     )\n\u001B[1;32m--> 311\u001B[0m \u001B[38;5;28;01mreturn\u001B[39;00m func(\u001B[38;5;241m*\u001B[39margs, \u001B[38;5;241m*\u001B[39m\u001B[38;5;241m*\u001B[39mkwargs)\n",
      "File \u001B[1;32m~\\AppData\\Roaming\\Python\\Python310\\site-packages\\pandas\\io\\parsers\\readers.py:586\u001B[0m, in \u001B[0;36mread_csv\u001B[1;34m(filepath_or_buffer, sep, delimiter, header, names, index_col, usecols, squeeze, prefix, mangle_dupe_cols, dtype, engine, converters, true_values, false_values, skipinitialspace, skiprows, skipfooter, nrows, na_values, keep_default_na, na_filter, verbose, skip_blank_lines, parse_dates, infer_datetime_format, keep_date_col, date_parser, dayfirst, cache_dates, iterator, chunksize, compression, thousands, decimal, lineterminator, quotechar, quoting, doublequote, escapechar, comment, encoding, encoding_errors, dialect, error_bad_lines, warn_bad_lines, on_bad_lines, delim_whitespace, low_memory, memory_map, float_precision, storage_options)\u001B[0m\n\u001B[0;32m    571\u001B[0m kwds_defaults \u001B[38;5;241m=\u001B[39m _refine_defaults_read(\n\u001B[0;32m    572\u001B[0m     dialect,\n\u001B[0;32m    573\u001B[0m     delimiter,\n\u001B[1;32m   (...)\u001B[0m\n\u001B[0;32m    582\u001B[0m     defaults\u001B[38;5;241m=\u001B[39m{\u001B[38;5;124m\"\u001B[39m\u001B[38;5;124mdelimiter\u001B[39m\u001B[38;5;124m\"\u001B[39m: \u001B[38;5;124m\"\u001B[39m\u001B[38;5;124m,\u001B[39m\u001B[38;5;124m\"\u001B[39m},\n\u001B[0;32m    583\u001B[0m )\n\u001B[0;32m    584\u001B[0m kwds\u001B[38;5;241m.\u001B[39mupdate(kwds_defaults)\n\u001B[1;32m--> 586\u001B[0m \u001B[38;5;28;01mreturn\u001B[39;00m \u001B[43m_read\u001B[49m\u001B[43m(\u001B[49m\u001B[43mfilepath_or_buffer\u001B[49m\u001B[43m,\u001B[49m\u001B[43m \u001B[49m\u001B[43mkwds\u001B[49m\u001B[43m)\u001B[49m\n",
      "File \u001B[1;32m~\\AppData\\Roaming\\Python\\Python310\\site-packages\\pandas\\io\\parsers\\readers.py:482\u001B[0m, in \u001B[0;36m_read\u001B[1;34m(filepath_or_buffer, kwds)\u001B[0m\n\u001B[0;32m    479\u001B[0m _validate_names(kwds\u001B[38;5;241m.\u001B[39mget(\u001B[38;5;124m\"\u001B[39m\u001B[38;5;124mnames\u001B[39m\u001B[38;5;124m\"\u001B[39m, \u001B[38;5;28;01mNone\u001B[39;00m))\n\u001B[0;32m    481\u001B[0m \u001B[38;5;66;03m# Create the parser.\u001B[39;00m\n\u001B[1;32m--> 482\u001B[0m parser \u001B[38;5;241m=\u001B[39m TextFileReader(filepath_or_buffer, \u001B[38;5;241m*\u001B[39m\u001B[38;5;241m*\u001B[39mkwds)\n\u001B[0;32m    484\u001B[0m \u001B[38;5;28;01mif\u001B[39;00m chunksize \u001B[38;5;129;01mor\u001B[39;00m iterator:\n\u001B[0;32m    485\u001B[0m     \u001B[38;5;28;01mreturn\u001B[39;00m parser\n",
      "File \u001B[1;32m~\\AppData\\Roaming\\Python\\Python310\\site-packages\\pandas\\io\\parsers\\readers.py:811\u001B[0m, in \u001B[0;36mTextFileReader.__init__\u001B[1;34m(self, f, engine, **kwds)\u001B[0m\n\u001B[0;32m    808\u001B[0m \u001B[38;5;28;01mif\u001B[39;00m \u001B[38;5;124m\"\u001B[39m\u001B[38;5;124mhas_index_names\u001B[39m\u001B[38;5;124m\"\u001B[39m \u001B[38;5;129;01min\u001B[39;00m kwds:\n\u001B[0;32m    809\u001B[0m     \u001B[38;5;28mself\u001B[39m\u001B[38;5;241m.\u001B[39moptions[\u001B[38;5;124m\"\u001B[39m\u001B[38;5;124mhas_index_names\u001B[39m\u001B[38;5;124m\"\u001B[39m] \u001B[38;5;241m=\u001B[39m kwds[\u001B[38;5;124m\"\u001B[39m\u001B[38;5;124mhas_index_names\u001B[39m\u001B[38;5;124m\"\u001B[39m]\n\u001B[1;32m--> 811\u001B[0m \u001B[38;5;28mself\u001B[39m\u001B[38;5;241m.\u001B[39m_engine \u001B[38;5;241m=\u001B[39m \u001B[38;5;28;43mself\u001B[39;49m\u001B[38;5;241;43m.\u001B[39;49m\u001B[43m_make_engine\u001B[49m\u001B[43m(\u001B[49m\u001B[38;5;28;43mself\u001B[39;49m\u001B[38;5;241;43m.\u001B[39;49m\u001B[43mengine\u001B[49m\u001B[43m)\u001B[49m\n",
      "File \u001B[1;32m~\\AppData\\Roaming\\Python\\Python310\\site-packages\\pandas\\io\\parsers\\readers.py:1040\u001B[0m, in \u001B[0;36mTextFileReader._make_engine\u001B[1;34m(self, engine)\u001B[0m\n\u001B[0;32m   1036\u001B[0m     \u001B[38;5;28;01mraise\u001B[39;00m \u001B[38;5;167;01mValueError\u001B[39;00m(\n\u001B[0;32m   1037\u001B[0m         \u001B[38;5;124mf\u001B[39m\u001B[38;5;124m\"\u001B[39m\u001B[38;5;124mUnknown engine: \u001B[39m\u001B[38;5;132;01m{\u001B[39;00mengine\u001B[38;5;132;01m}\u001B[39;00m\u001B[38;5;124m (valid options are \u001B[39m\u001B[38;5;132;01m{\u001B[39;00mmapping\u001B[38;5;241m.\u001B[39mkeys()\u001B[38;5;132;01m}\u001B[39;00m\u001B[38;5;124m)\u001B[39m\u001B[38;5;124m\"\u001B[39m\n\u001B[0;32m   1038\u001B[0m     )\n\u001B[0;32m   1039\u001B[0m \u001B[38;5;66;03m# error: Too many arguments for \"ParserBase\"\u001B[39;00m\n\u001B[1;32m-> 1040\u001B[0m \u001B[38;5;28;01mreturn\u001B[39;00m mapping[engine](\u001B[38;5;28mself\u001B[39m\u001B[38;5;241m.\u001B[39mf, \u001B[38;5;241m*\u001B[39m\u001B[38;5;241m*\u001B[39m\u001B[38;5;28mself\u001B[39m\u001B[38;5;241m.\u001B[39moptions)\n",
      "File \u001B[1;32m~\\AppData\\Roaming\\Python\\Python310\\site-packages\\pandas\\io\\parsers\\c_parser_wrapper.py:69\u001B[0m, in \u001B[0;36mCParserWrapper.__init__\u001B[1;34m(self, src, **kwds)\u001B[0m\n\u001B[0;32m     67\u001B[0m kwds[\u001B[38;5;124m\"\u001B[39m\u001B[38;5;124mdtype\u001B[39m\u001B[38;5;124m\"\u001B[39m] \u001B[38;5;241m=\u001B[39m ensure_dtype_objs(kwds\u001B[38;5;241m.\u001B[39mget(\u001B[38;5;124m\"\u001B[39m\u001B[38;5;124mdtype\u001B[39m\u001B[38;5;124m\"\u001B[39m, \u001B[38;5;28;01mNone\u001B[39;00m))\n\u001B[0;32m     68\u001B[0m \u001B[38;5;28;01mtry\u001B[39;00m:\n\u001B[1;32m---> 69\u001B[0m     \u001B[38;5;28mself\u001B[39m\u001B[38;5;241m.\u001B[39m_reader \u001B[38;5;241m=\u001B[39m parsers\u001B[38;5;241m.\u001B[39mTextReader(\u001B[38;5;28mself\u001B[39m\u001B[38;5;241m.\u001B[39mhandles\u001B[38;5;241m.\u001B[39mhandle, \u001B[38;5;241m*\u001B[39m\u001B[38;5;241m*\u001B[39mkwds)\n\u001B[0;32m     70\u001B[0m \u001B[38;5;28;01mexcept\u001B[39;00m \u001B[38;5;167;01mException\u001B[39;00m:\n\u001B[0;32m     71\u001B[0m     \u001B[38;5;28mself\u001B[39m\u001B[38;5;241m.\u001B[39mhandles\u001B[38;5;241m.\u001B[39mclose()\n",
      "File \u001B[1;32m~\\AppData\\Roaming\\Python\\Python310\\site-packages\\pandas\\_libs\\parsers.pyx:549\u001B[0m, in \u001B[0;36mpandas._libs.parsers.TextReader.__cinit__\u001B[1;34m()\u001B[0m\n",
      "\u001B[1;31mEmptyDataError\u001B[0m: No columns to parse from file"
     ]
    }
   ],
   "source": [
    "move_score_files = [(game_id, [f for f in os.listdir(os.path.join(path, game_id)) if re.match(\"move_scores*\", f)][0]) for game_id in os.listdir(path)]\n",
    "move_score_files = [os.path.join(path, game_id, f) for (game_id, f) in move_score_files]\n",
    "# move_score_files = [pd.read_csv(file) for file in move_score_files]"
   ],
   "metadata": {
    "collapsed": false
   }
  },
  {
   "cell_type": "code",
   "execution_count": 26,
   "outputs": [
    {
     "name": "stdout",
     "output_type": "stream",
     "text": [
      "1\n",
      "1\n",
      "1\n",
      "1\n",
      "1\n",
      "1\n",
      "1\n",
      "1\n",
      "1\n",
      "1\n",
      "1\n",
      "1\n",
      "1\n",
      "1\n",
      "1\n",
      "1\n",
      "1\n",
      "1\n",
      "1\n",
      "1\n",
      "2\n",
      "2\n",
      "2\n",
      "2\n",
      "2\n",
      "2\n",
      "2\n",
      "2\n",
      "2\n",
      "2\n",
      "2\n",
      "2\n",
      "2\n",
      "2\n",
      "2\n",
      "2\n",
      "2\n",
      "2\n",
      "2\n",
      "2\n",
      "2\n",
      "2\n",
      "3\n",
      "3\n",
      "3\n",
      "3\n",
      "3\n",
      "3\n",
      "3\n",
      "3\n",
      "3\n",
      "3\n",
      "3\n",
      "3\n",
      "3\n",
      "3\n",
      "3\n",
      "3\n",
      "3\n",
      "3\n",
      "3\n",
      "3\n",
      "3\n",
      "3\n",
      "3\n",
      "3\n",
      "3\n",
      "3\n",
      "3\n",
      "3\n",
      "3\n",
      "3\n",
      "4\n",
      "4\n",
      "4\n",
      "4\n",
      "4\n",
      "4\n",
      "4\n",
      "4\n",
      "4\n",
      "4\n",
      "4\n",
      "4\n",
      "4\n",
      "4\n",
      "4\n",
      "4\n",
      "4\n",
      "4\n",
      "4\n",
      "4\n",
      "4\n",
      "4\n",
      "4\n",
      "4\n",
      "4\n",
      "4\n",
      "4\n",
      "4\n",
      "4\n",
      "4\n",
      "5\n",
      "5\n",
      "5\n",
      "5\n",
      "5\n",
      "5\n",
      "5\n",
      "5\n",
      "5\n",
      "5\n",
      "5\n",
      "5\n",
      "5\n",
      "5\n",
      "5\n",
      "5\n",
      "5\n",
      "5\n",
      "5\n",
      "5\n",
      "5\n",
      "5\n",
      "5\n",
      "5\n",
      "5\n",
      "5\n",
      "5\n",
      "5\n",
      "5\n",
      "5\n",
      "5\n",
      "5\n",
      "5\n",
      "5\n",
      "5\n",
      "6\n",
      "6\n",
      "6\n",
      "6\n",
      "6\n",
      "6\n",
      "6\n",
      "6\n",
      "6\n",
      "6\n",
      "6\n",
      "6\n",
      "6\n",
      "6\n",
      "6\n",
      "6\n",
      "6\n",
      "6\n",
      "6\n",
      "6\n",
      "6\n",
      "6\n",
      "6\n",
      "6\n",
      "6\n",
      "6\n",
      "6\n",
      "6\n",
      "6\n",
      "6\n",
      "6\n",
      "7\n",
      "7\n",
      "7\n",
      "7\n",
      "7\n",
      "7\n",
      "7\n",
      "7\n",
      "7\n",
      "7\n",
      "7\n",
      "7\n",
      "7\n",
      "7\n",
      "7\n",
      "7\n",
      "7\n",
      "7\n",
      "7\n",
      "7\n",
      "7\n",
      "7\n",
      "7\n",
      "7\n",
      "7\n",
      "7\n",
      "7\n",
      "7\n",
      "7\n",
      "7\n",
      "7\n",
      "7\n",
      "8\n",
      "8\n",
      "8\n",
      "8\n",
      "8\n",
      "8\n",
      "8\n",
      "8\n",
      "8\n",
      "8\n",
      "8\n",
      "8\n",
      "8\n",
      "8\n",
      "8\n",
      "8\n",
      "8\n",
      "8\n",
      "8\n",
      "8\n",
      "8\n",
      "8\n",
      "8\n",
      "8\n",
      "8\n",
      "8\n",
      "8\n",
      "8\n",
      "8\n",
      "8\n",
      "8\n",
      "8\n",
      "8\n",
      "8\n",
      "8\n",
      "8\n",
      "9\n",
      "9\n",
      "9\n",
      "9\n",
      "9\n",
      "9\n",
      "9\n",
      "9\n",
      "9\n",
      "9\n",
      "9\n",
      "9\n",
      "9\n",
      "9\n",
      "9\n",
      "9\n",
      "9\n",
      "9\n",
      "9\n",
      "9\n",
      "9\n",
      "9\n",
      "9\n",
      "9\n",
      "9\n",
      "9\n",
      "9\n",
      "9\n",
      "9\n",
      "9\n",
      "9\n",
      "9\n",
      "9\n",
      "9\n",
      "9\n",
      "9\n",
      "10\n",
      "10\n",
      "10\n",
      "10\n",
      "10\n",
      "10\n",
      "10\n",
      "10\n",
      "10\n",
      "10\n",
      "10\n",
      "10\n",
      "10\n",
      "10\n",
      "10\n",
      "10\n",
      "10\n",
      "10\n",
      "10\n",
      "10\n",
      "10\n",
      "10\n",
      "10\n",
      "10\n",
      "10\n",
      "10\n",
      "10\n",
      "10\n",
      "10\n",
      "10\n",
      "10\n",
      "10\n",
      "11\n",
      "11\n",
      "11\n",
      "11\n",
      "11\n",
      "11\n",
      "11\n",
      "11\n",
      "11\n",
      "11\n",
      "11\n",
      "11\n",
      "11\n",
      "11\n",
      "11\n",
      "11\n",
      "11\n",
      "11\n",
      "11\n",
      "11\n",
      "11\n",
      "11\n",
      "11\n",
      "11\n",
      "11\n",
      "11\n",
      "11\n",
      "11\n",
      "11\n",
      "11\n",
      "11\n",
      "11\n",
      "11\n",
      "11\n",
      "11\n",
      "11\n",
      "11\n",
      "11\n",
      "12\n",
      "12\n",
      "12\n",
      "12\n",
      "12\n",
      "12\n",
      "12\n",
      "12\n",
      "12\n",
      "12\n",
      "12\n",
      "12\n",
      "12\n",
      "12\n",
      "12\n",
      "12\n",
      "12\n",
      "12\n",
      "12\n",
      "12\n",
      "12\n",
      "12\n",
      "12\n",
      "12\n",
      "12\n",
      "12\n",
      "12\n",
      "12\n",
      "12\n",
      "12\n",
      "13\n",
      "13\n",
      "13\n",
      "13\n",
      "13\n",
      "13\n",
      "13\n",
      "13\n",
      "13\n",
      "13\n",
      "13\n",
      "13\n",
      "13\n",
      "13\n",
      "13\n",
      "13\n",
      "13\n",
      "13\n",
      "13\n",
      "13\n",
      "13\n",
      "13\n",
      "13\n",
      "13\n",
      "13\n",
      "13\n",
      "13\n",
      "13\n",
      "13\n",
      "13\n",
      "13\n",
      "13\n",
      "13\n",
      "13\n",
      "13\n",
      "13\n",
      "14\n",
      "14\n",
      "14\n",
      "14\n",
      "14\n",
      "14\n",
      "14\n",
      "14\n",
      "14\n",
      "14\n",
      "14\n",
      "14\n",
      "14\n",
      "14\n",
      "14\n",
      "14\n",
      "14\n",
      "14\n",
      "14\n",
      "14\n",
      "14\n",
      "14\n",
      "14\n",
      "14\n",
      "14\n",
      "14\n",
      "14\n",
      "14\n",
      "14\n",
      "14\n",
      "14\n",
      "15\n",
      "15\n",
      "15\n",
      "15\n",
      "15\n",
      "15\n",
      "15\n",
      "15\n",
      "15\n",
      "15\n",
      "15\n",
      "15\n",
      "15\n",
      "15\n",
      "15\n",
      "15\n",
      "15\n",
      "15\n",
      "15\n",
      "15\n",
      "15\n",
      "15\n",
      "15\n",
      "15\n",
      "15\n",
      "15\n",
      "15\n",
      "15\n",
      "16\n",
      "16\n",
      "16\n",
      "16\n",
      "16\n",
      "16\n",
      "16\n",
      "16\n",
      "16\n",
      "16\n",
      "16\n",
      "16\n",
      "16\n",
      "16\n",
      "16\n",
      "16\n",
      "16\n",
      "16\n",
      "16\n",
      "16\n",
      "16\n",
      "16\n",
      "16\n",
      "16\n",
      "16\n",
      "16\n",
      "16\n",
      "16\n",
      "16\n",
      "16\n",
      "17\n",
      "17\n",
      "17\n",
      "17\n",
      "17\n",
      "17\n",
      "17\n",
      "17\n",
      "17\n",
      "17\n",
      "17\n",
      "17\n",
      "17\n",
      "17\n",
      "17\n",
      "17\n",
      "17\n",
      "17\n",
      "17\n",
      "17\n",
      "17\n",
      "17\n",
      "17\n",
      "17\n",
      "17\n",
      "17\n",
      "17\n",
      "17\n",
      "17\n",
      "18\n",
      "18\n",
      "18\n",
      "18\n",
      "18\n",
      "18\n",
      "18\n",
      "18\n",
      "18\n",
      "18\n",
      "18\n",
      "18\n",
      "18\n",
      "18\n",
      "18\n",
      "18\n",
      "18\n",
      "18\n",
      "18\n",
      "18\n",
      "18\n",
      "18\n",
      "18\n",
      "18\n",
      "18\n",
      "18\n",
      "18\n",
      "18\n",
      "19\n",
      "19\n",
      "19\n",
      "19\n",
      "19\n",
      "19\n",
      "19\n",
      "19\n",
      "19\n",
      "19\n",
      "19\n",
      "19\n",
      "19\n",
      "19\n",
      "19\n",
      "19\n",
      "19\n",
      "19\n",
      "19\n",
      "19\n",
      "19\n",
      "19\n",
      "19\n",
      "19\n",
      "19\n",
      "19\n",
      "19\n",
      "19\n",
      "20\n",
      "20\n",
      "20\n",
      "20\n",
      "20\n",
      "20\n",
      "20\n",
      "20\n",
      "20\n",
      "20\n",
      "20\n",
      "20\n",
      "20\n",
      "20\n",
      "20\n",
      "20\n",
      "20\n",
      "20\n",
      "20\n",
      "20\n",
      "20\n",
      "20\n",
      "20\n",
      "20\n",
      "20\n",
      "20\n",
      "20\n",
      "20\n",
      "20\n",
      "21\n",
      "21\n",
      "21\n",
      "21\n",
      "21\n",
      "21\n",
      "21\n",
      "21\n",
      "21\n",
      "21\n",
      "21\n",
      "21\n",
      "21\n",
      "21\n",
      "21\n",
      "21\n",
      "21\n",
      "21\n",
      "21\n",
      "21\n",
      "21\n",
      "21\n",
      "21\n",
      "21\n",
      "21\n",
      "21\n",
      "21\n",
      "21\n",
      "22\n",
      "22\n",
      "22\n",
      "22\n",
      "22\n",
      "22\n",
      "22\n",
      "22\n",
      "22\n",
      "22\n",
      "22\n",
      "22\n",
      "22\n",
      "22\n",
      "22\n",
      "22\n",
      "22\n",
      "22\n",
      "22\n",
      "22\n",
      "22\n",
      "22\n",
      "22\n",
      "22\n",
      "23\n",
      "23\n",
      "23\n",
      "23\n",
      "23\n",
      "23\n",
      "23\n",
      "23\n",
      "23\n",
      "23\n",
      "23\n",
      "23\n",
      "23\n",
      "23\n",
      "23\n",
      "23\n",
      "23\n",
      "23\n",
      "23\n",
      "23\n",
      "23\n",
      "23\n",
      "23\n",
      "23\n",
      "23\n",
      "23\n",
      "23\n",
      "24\n",
      "24\n",
      "24\n",
      "24\n",
      "24\n",
      "24\n",
      "24\n",
      "24\n",
      "24\n",
      "24\n",
      "24\n",
      "24\n",
      "24\n",
      "24\n",
      "24\n",
      "24\n",
      "24\n",
      "24\n",
      "24\n",
      "24\n",
      "24\n",
      "24\n",
      "24\n",
      "25\n",
      "25\n",
      "25\n",
      "25\n",
      "25\n",
      "25\n",
      "25\n",
      "25\n",
      "25\n",
      "25\n",
      "25\n",
      "25\n",
      "25\n",
      "25\n",
      "25\n",
      "25\n",
      "25\n",
      "25\n",
      "25\n",
      "25\n",
      "26\n",
      "26\n",
      "26\n",
      "26\n",
      "26\n",
      "26\n",
      "26\n",
      "26\n",
      "26\n",
      "26\n",
      "26\n",
      "26\n",
      "26\n",
      "26\n",
      "26\n",
      "26\n",
      "26\n",
      "26\n",
      "26\n",
      "26\n",
      "26\n",
      "26\n",
      "26\n",
      "26\n",
      "26\n",
      "26\n",
      "26\n",
      "27\n",
      "27\n",
      "27\n",
      "27\n",
      "27\n",
      "27\n",
      "27\n",
      "27\n",
      "27\n",
      "27\n",
      "27\n",
      "27\n",
      "27\n",
      "27\n",
      "27\n",
      "27\n",
      "27\n",
      "27\n",
      "27\n",
      "27\n",
      "27\n",
      "27\n",
      "27\n",
      "27\n",
      "27\n",
      "27\n",
      "28\n",
      "28\n",
      "28\n",
      "28\n",
      "28\n",
      "28\n",
      "28\n",
      "28\n",
      "28\n",
      "28\n",
      "28\n",
      "28\n",
      "28\n",
      "28\n",
      "28\n",
      "28\n",
      "28\n",
      "28\n",
      "28\n",
      "28\n",
      "28\n",
      "28\n",
      "28\n",
      "28\n",
      "28\n",
      "28\n",
      "28\n",
      "29\n",
      "29\n",
      "29\n",
      "29\n",
      "29\n",
      "29\n",
      "29\n",
      "29\n",
      "29\n",
      "29\n",
      "29\n",
      "29\n",
      "29\n",
      "29\n",
      "29\n",
      "29\n",
      "29\n",
      "29\n",
      "29\n",
      "29\n",
      "29\n",
      "29\n",
      "29\n",
      "30\n",
      "30\n",
      "30\n",
      "30\n",
      "30\n",
      "30\n",
      "30\n",
      "30\n",
      "30\n",
      "30\n",
      "30\n",
      "30\n",
      "30\n",
      "30\n",
      "30\n",
      "30\n",
      "30\n",
      "30\n",
      "30\n",
      "30\n",
      "30\n",
      "30\n",
      "30\n",
      "30\n",
      "30\n",
      "30\n",
      "31\n",
      "31\n",
      "31\n",
      "31\n",
      "31\n",
      "31\n",
      "31\n",
      "31\n",
      "31\n",
      "31\n",
      "31\n",
      "31\n",
      "31\n",
      "31\n",
      "31\n",
      "31\n",
      "31\n",
      "31\n",
      "31\n",
      "31\n",
      "31\n",
      "31\n",
      "31\n",
      "32\n",
      "32\n",
      "32\n",
      "32\n",
      "32\n",
      "32\n",
      "32\n",
      "32\n",
      "32\n",
      "32\n",
      "32\n",
      "32\n",
      "32\n",
      "32\n",
      "32\n",
      "32\n",
      "32\n",
      "32\n",
      "32\n",
      "32\n",
      "32\n",
      "32\n",
      "32\n",
      "32\n",
      "33\n",
      "33\n",
      "33\n",
      "33\n",
      "33\n",
      "33\n",
      "33\n",
      "33\n",
      "33\n",
      "33\n",
      "33\n",
      "33\n",
      "33\n",
      "33\n",
      "33\n",
      "33\n",
      "33\n",
      "33\n",
      "33\n",
      "33\n",
      "33\n",
      "34\n",
      "34\n",
      "34\n",
      "34\n",
      "34\n",
      "34\n",
      "34\n",
      "34\n",
      "34\n",
      "34\n",
      "34\n",
      "34\n",
      "34\n",
      "34\n",
      "34\n",
      "34\n",
      "34\n",
      "34\n",
      "34\n",
      "34\n",
      "34\n",
      "34\n",
      "34\n",
      "34\n",
      "34\n",
      "34\n",
      "34\n",
      "34\n",
      "35\n",
      "35\n",
      "35\n",
      "35\n",
      "35\n",
      "35\n",
      "35\n",
      "35\n",
      "35\n",
      "35\n",
      "35\n",
      "35\n",
      "35\n",
      "35\n",
      "35\n",
      "35\n",
      "35\n",
      "35\n",
      "35\n",
      "35\n",
      "35\n",
      "35\n",
      "36\n",
      "36\n",
      "36\n",
      "36\n",
      "36\n",
      "36\n",
      "36\n",
      "36\n",
      "36\n",
      "36\n",
      "36\n",
      "36\n",
      "36\n",
      "36\n",
      "36\n",
      "36\n",
      "36\n",
      "36\n",
      "36\n",
      "36\n",
      "36\n",
      "36\n",
      "36\n",
      "36\n",
      "36\n",
      "36\n",
      "36\n",
      "37\n",
      "37\n",
      "37\n",
      "37\n",
      "37\n",
      "37\n",
      "37\n",
      "37\n",
      "37\n",
      "37\n",
      "37\n",
      "37\n",
      "37\n",
      "37\n",
      "37\n",
      "37\n",
      "37\n",
      "37\n",
      "37\n",
      "37\n",
      "37\n",
      "37\n",
      "37\n",
      "37\n",
      "38\n",
      "38\n",
      "38\n",
      "38\n",
      "38\n",
      "38\n",
      "38\n",
      "38\n",
      "38\n",
      "38\n",
      "38\n",
      "38\n",
      "38\n",
      "38\n",
      "38\n",
      "38\n",
      "38\n",
      "38\n",
      "38\n",
      "38\n",
      "38\n",
      "39\n",
      "39\n",
      "39\n",
      "39\n",
      "39\n",
      "39\n",
      "39\n",
      "39\n",
      "39\n",
      "39\n",
      "39\n",
      "39\n",
      "39\n",
      "39\n",
      "39\n",
      "39\n",
      "39\n",
      "39\n",
      "39\n",
      "39\n",
      "39\n",
      "39\n",
      "39\n",
      "39\n",
      "39\n",
      "40\n",
      "40\n",
      "40\n",
      "40\n",
      "40\n",
      "40\n",
      "40\n",
      "40\n",
      "40\n",
      "40\n",
      "40\n",
      "40\n",
      "40\n",
      "40\n",
      "40\n",
      "40\n",
      "40\n",
      "40\n",
      "40\n",
      "40\n",
      "40\n",
      "40\n",
      "40\n",
      "40\n",
      "40\n",
      "40\n",
      "40\n",
      "40\n",
      "40\n",
      "40\n",
      "41\n",
      "41\n",
      "41\n",
      "41\n",
      "41\n",
      "41\n",
      "41\n",
      "41\n",
      "41\n",
      "41\n",
      "41\n",
      "41\n",
      "41\n",
      "41\n",
      "41\n",
      "41\n",
      "41\n",
      "41\n",
      "41\n",
      "41\n",
      "41\n",
      "41\n",
      "41\n",
      "41\n",
      "41\n",
      "41\n",
      "41\n",
      "41\n",
      "42\n",
      "42\n",
      "42\n",
      "42\n",
      "42\n",
      "42\n",
      "42\n",
      "42\n",
      "42\n",
      "42\n",
      "42\n",
      "42\n",
      "42\n",
      "42\n",
      "42\n",
      "42\n",
      "42\n",
      "42\n",
      "42\n",
      "42\n",
      "42\n",
      "42\n",
      "42\n"
     ]
    }
   ],
   "source": [
    "for file in move_score_files[2:3]:\n",
    "    try:\n",
    "        data = pd.read_csv(file)\n",
    "        for i in range(len(data)):\n",
    "            if data[\"move_number\"][i] == data[\"move_number\"][i+1] and data[\"analytical\"][i] < data[\"analytical\"][i+1] + 200:\n",
    "                print(data[\"move_number\"][i])\n",
    "    except:\n",
    "        continue\n"
   ],
   "metadata": {
    "collapsed": false
   }
  },
  {
   "cell_type": "code",
   "execution_count": 20,
   "outputs": [
    {
     "data": {
      "text/plain": "418.0307647058824"
     },
     "execution_count": 20,
     "metadata": {},
     "output_type": "execute_result"
    }
   ],
   "source": [
    "data[\"gamble\"][0]"
   ],
   "metadata": {
    "collapsed": false
   }
  },
  {
   "cell_type": "code",
   "execution_count": 27,
   "outputs": [
    {
     "data": {
      "text/plain": "'game_logs/remote_test_games/batch_4\\\\1691451636\\\\move_scores_zubat_1691451636_b.csv'"
     },
     "execution_count": 27,
     "metadata": {},
     "output_type": "execute_result"
    }
   ],
   "source": [
    "file"
   ],
   "metadata": {
    "collapsed": false
   }
  },
  {
   "cell_type": "markdown",
   "source": [
    "### Replay game"
   ],
   "metadata": {
    "collapsed": false
   }
  },
  {
   "cell_type": "code",
   "execution_count": 3,
   "outputs": [],
   "source": [
    "from game_log_reader.playback import playback\n",
    "from strangefish.zubat_strategy.zubat_strategy import Zubat\n",
    "from strangefish.models.uncertainty_lstm import uncertainty_lstm_1"
   ],
   "metadata": {
    "collapsed": false
   }
  },
  {
   "cell_type": "code",
   "execution_count": 4,
   "outputs": [],
   "source": [
    "game_id = 1691451636\n",
    "game_path = f\"game_logs/remote_test_games/batch_4/{game_id}/game_{game_id}.log\"\n",
    "game_hist = GameHistory.from_file(game_path)\n",
    "color = False"
   ],
   "metadata": {
    "collapsed": false
   }
  },
  {
   "cell_type": "code",
   "execution_count": 5,
   "outputs": [],
   "source": [
    "zubat = Zubat(uncertainty_model=uncertainty_lstm_1('uncertainty_model/uncertainty_lstm_3/weights'), game_id=game_id)"
   ],
   "metadata": {
    "collapsed": false
   }
  },
  {
   "cell_type": "code",
   "execution_count": 6,
   "outputs": [
    {
     "name": "stdout",
     "output_type": "stream",
     "text": [
      "22328 10:55:55  ⚽  Zubat starting a new game as black against StrangeFish2.\n"
     ]
    },
    {
     "name": "stderr",
     "output_type": "stream",
     "text": [
      "Sense quantity evaluation: 100%|██████████| 21/21 [00:00<00:00, 5251.95boards/s]\n",
      "black Filtering 21 boards by sense results: 100%|██████████| 21/21 [00:00<?, ?boards/s]\n"
     ]
    },
    {
     "name": "stdout",
     "output_type": "stream",
     "text": [
      "35/35 [==============================] - 2s 29ms/step\n"
     ]
    },
    {
     "name": "stderr",
     "output_type": "stream",
     "text": [
      "Writing move maps: 100%|██████████| 13/13 [00:00<00:00, 4335.72boards/s]\n",
      "Reading pre-computed move scores: 100%|██████████| 13/13 [00:00<?, ?boards/s]\n",
      "Zubat: Computing move scores: 546evals [00:00, 631.21evals/s]                      \n",
      "Sampling for gambles: 100%|██████████| 3000/3000 [00:03<00:00, 824.75Samples/s] \n",
      "black Filtering 13 boards by move results: 100%|██████████| 13/13 [00:00<?, ?boards/s]\n",
      "Sense quantity evaluation: 100%|██████████| 239/239 [00:00<00:00, 7242.64boards/s]\n",
      "black Filtering 239 boards by sense results: 100%|██████████| 239/239 [00:00<?, ?boards/s]"
     ]
    },
    {
     "name": "stdout",
     "output_type": "stream",
     "text": [
      "      1/Unknown - 0s 23ms/step"
     ]
    },
    {
     "name": "stderr",
     "output_type": "stream",
     "text": [
      "\n"
     ]
    },
    {
     "name": "stdout",
     "output_type": "stream",
     "text": [
      "35/35 [==============================] - 0s 2ms/step\n"
     ]
    },
    {
     "name": "stderr",
     "output_type": "stream",
     "text": [
      "Writing move maps: 100%|██████████| 13/13 [00:00<00:00, 4333.65boards/s]\n",
      "Reading pre-computed move scores: 100%|██████████| 13/13 [00:00<00:00, 12997.84boards/s]\n",
      "Zubat: Computing move scores: 598evals [00:00, 1202.89evals/s]                      \n",
      "Sampling for gambles: 100%|██████████| 3000/3000 [00:02<00:00, 1137.69Samples/s]\n",
      "black Filtering 13 boards by move results: 100%|██████████| 13/13 [00:00<?, ?boards/s]\n",
      "Sense quantity evaluation: 100%|██████████| 236/236 [00:00<00:00, 6555.68boards/s]\n",
      "black Filtering 236 boards by sense results: 100%|██████████| 236/236 [00:00<00:00, 236242.42boards/s]\n"
     ]
    },
    {
     "name": "stdout",
     "output_type": "stream",
     "text": [
      "43/43 [==============================] - 0s 3ms/step\n"
     ]
    },
    {
     "name": "stderr",
     "output_type": "stream",
     "text": [
      "Writing move maps: 100%|██████████| 16/16 [00:00<00:00, 3199.93boards/s]\n",
      "Reading pre-computed move scores: 100%|██████████| 16/16 [00:00<00:00, 15966.90boards/s]\n",
      "Zubat: Computing move scores: 1018evals [00:01, 958.57evals/s]                     \n",
      "Sampling for gambles: 100%|██████████| 3000/3000 [00:01<00:00, 1562.50Samples/s]\n",
      "black Filtering 16 boards by move results: 100%|██████████| 16/16 [00:00<?, ?boards/s]\n",
      "Sense quantity evaluation: 100%|██████████| 38/38 [00:00<00:00, 192.90boards/s]\n",
      "black Filtering 38 boards by sense results: 100%|██████████| 38/38 [00:00<00:00, 37948.46boards/s]"
     ]
    },
    {
     "name": "stdout",
     "output_type": "stream",
     "text": [
      "43/43 [==============================] - 0s 3ms/step\n"
     ]
    },
    {
     "name": "stderr",
     "output_type": "stream",
     "text": [
      "\n",
      "Writing move maps: 100%|██████████| 1/1 [00:00<?, ?boards/s]\n",
      "Reading pre-computed move scores: 100%|██████████| 1/1 [00:00<?, ?boards/s]\n",
      "Zubat: Computing move scores: 62evals [00:00, 765.44evals/s]           \n",
      "Sampling for gambles: 100%|██████████| 3000/3000 [00:02<00:00, 1393.41Samples/s]\n",
      "black Filtering 1 boards by move results: 100%|██████████| 1/1 [00:00<?, ?boards/s]\n",
      "Sense quantity evaluation: 100%|██████████| 34/34 [00:00<00:00, 5667.53boards/s]\n",
      "black Filtering 34 boards by sense results: 100%|██████████| 34/34 [00:00<00:00, 33889.34boards/s]\n"
     ]
    },
    {
     "name": "stdout",
     "output_type": "stream",
     "text": [
      "45/45 [==============================] - 0s 3ms/step\n"
     ]
    },
    {
     "name": "stderr",
     "output_type": "stream",
     "text": [
      "Writing move maps: 100%|██████████| 16/16 [00:00<00:00, 3199.93boards/s]\n",
      "Reading pre-computed move scores: 100%|██████████| 16/16 [00:00<00:00, 7993.91boards/s]\n",
      "Zubat: Computing move scores: 1132evals [00:01, 1029.09evals/s]                     \n",
      "Sampling for gambles: 100%|██████████| 3000/3000 [00:02<00:00, 1418.44Samples/s]\n",
      "black Filtering 16 boards by move results: 100%|██████████| 16/16 [00:00<?, ?boards/s]\n",
      "black Filtering 1 boards by sense results: 100%|██████████| 1/1 [00:00<?, ?boards/s]"
     ]
    },
    {
     "name": "stdout",
     "output_type": "stream",
     "text": [
      "      1/Unknown - 0s 19ms/step"
     ]
    },
    {
     "name": "stderr",
     "output_type": "stream",
     "text": [
      "\n"
     ]
    },
    {
     "name": "stdout",
     "output_type": "stream",
     "text": [
      "46/46 [==============================] - 0s 2ms/step\n"
     ]
    },
    {
     "name": "stderr",
     "output_type": "stream",
     "text": [
      "Writing move maps: 100%|██████████| 1/1 [00:00<00:00, 1000.55boards/s]\n",
      "Reading pre-computed move scores: 100%|██████████| 1/1 [00:00<00:00, 998.64boards/s]\n",
      "Zubat: Computing move scores: 66evals [00:00, 1245.30evals/s]          \n",
      "Sampling for gambles: 100%|██████████| 3000/3000 [00:02<00:00, 1488.08Samples/s]\n",
      "black Filtering 1 boards by move results: 100%|██████████| 1/1 [00:00<?, ?boards/s]\n",
      "black Filtering 1 boards by sense results: 100%|██████████| 1/1 [00:00<?, ?boards/s]\n"
     ]
    },
    {
     "name": "stdout",
     "output_type": "stream",
     "text": [
      "51/51 [==============================] - 0s 2ms/step\n"
     ]
    },
    {
     "name": "stderr",
     "output_type": "stream",
     "text": [
      "Writing move maps: 100%|██████████| 1/1 [00:00<00:00, 999.83boards/s]\n",
      "Reading pre-computed move scores: 100%|██████████| 1/1 [00:00<00:00, 999.36boards/s]\n",
      "Zubat: Computing move scores: 68evals [00:00, 1133.40evals/s]          \n",
      "Sampling for gambles: 100%|██████████| 3000/3000 [00:01<00:00, 2012.07Samples/s]\n",
      "black Filtering 1 boards by move results: 100%|██████████| 1/1 [00:00<?, ?boards/s]\n",
      "Sense quantity evaluation: 100%|██████████| 34/34 [00:00<00:00, 8499.10boards/s]\n",
      "black Filtering 34 boards by sense results: 100%|██████████| 34/34 [00:00<?, ?boards/s]\n"
     ]
    },
    {
     "name": "stdout",
     "output_type": "stream",
     "text": [
      "53/53 [==============================] - 0s 2ms/step\n"
     ]
    },
    {
     "name": "stderr",
     "output_type": "stream",
     "text": [
      "Writing move maps: 100%|██████████| 1/1 [00:00<?, ?boards/s]\n",
      "Reading pre-computed move scores: 100%|██████████| 1/1 [00:00<?, ?boards/s]\n",
      "Zubat: Computing move scores: 82evals [00:00, 1123.28evals/s]          \n",
      "Sampling for gambles: 100%|██████████| 3000/3000 [00:01<00:00, 2212.39Samples/s]\n",
      "black Filtering 1 boards by move results: 100%|██████████| 1/1 [00:00<?, ?boards/s]\n",
      "Sense quantity evaluation: 100%|██████████| 25/25 [00:00<00:00, 6250.45boards/s]\n",
      "black Filtering 25 boards by sense results: 100%|██████████| 25/25 [00:00<00:00, 25019.71boards/s]\n"
     ]
    },
    {
     "name": "stdout",
     "output_type": "stream",
     "text": [
      "56/56 [==============================] - 0s 3ms/step\n"
     ]
    },
    {
     "name": "stderr",
     "output_type": "stream",
     "text": [
      "Writing move maps: 100%|██████████| 1/1 [00:00<00:00, 1001.03boards/s]\n",
      "Reading pre-computed move scores: 100%|██████████| 1/1 [00:00<?, ?boards/s]\n",
      "Zubat: Computing move scores: 86evals [00:00, 1228.62evals/s]          \n",
      "Sampling for gambles: 100%|██████████| 3000/3000 [00:01<00:00, 1905.97Samples/s]\n",
      "black Filtering 1 boards by move results: 100%|██████████| 1/1 [00:00<?, ?boards/s]\n",
      "Sense quantity evaluation: 100%|██████████| 2/2 [00:00<00:00, 1996.81boards/s]\n",
      "black Filtering 2 boards by sense results: 100%|██████████| 2/2 [00:00<?, ?boards/s]\n"
     ]
    },
    {
     "name": "stdout",
     "output_type": "stream",
     "text": [
      "44/44 [==============================] - 0s 3ms/step\n"
     ]
    },
    {
     "name": "stderr",
     "output_type": "stream",
     "text": [
      "Writing move maps: 100%|██████████| 1/1 [00:00<?, ?boards/s]\n",
      "Reading pre-computed move scores: 100%|██████████| 1/1 [00:00<?, ?boards/s]\n",
      "Zubat: Computing move scores: 66evals [00:00, 776.49evals/s]           \n",
      "Sampling for gambles: 100%|██████████| 3000/3000 [00:01<00:00, 2380.96Samples/s]\n",
      "black Filtering 1 boards by move results: 100%|██████████| 1/1 [00:00<?, ?boards/s]\n",
      "Sense quantity evaluation: 100%|██████████| 26/26 [00:00<00:00, 8669.36boards/s]\n",
      "black Filtering 26 boards by sense results: 100%|██████████| 26/26 [00:00<?, ?boards/s]\n"
     ]
    },
    {
     "name": "stdout",
     "output_type": "stream",
     "text": [
      "50/50 [==============================] - 0s 4ms/step\n"
     ]
    },
    {
     "name": "stderr",
     "output_type": "stream",
     "text": [
      "Writing move maps: 100%|██████████| 1/1 [00:00<?, ?boards/s]\n",
      "Reading pre-computed move scores: 100%|██████████| 1/1 [00:00<00:00, 1001.03boards/s]\n",
      "Zubat: Computing move scores: 78evals [00:00, 666.67evals/s]           \n",
      "Sampling for gambles: 100%|██████████| 3000/3000 [00:01<00:00, 1813.78Samples/s]\n",
      "black Filtering 1 boards by move results: 100%|██████████| 1/1 [00:00<?, ?boards/s]\n",
      "Sense quantity evaluation: 100%|██████████| 2/2 [00:00<?, ?boards/s]\n",
      "black Filtering 2 boards by sense results: 100%|██████████| 2/2 [00:00<?, ?boards/s]\n"
     ]
    },
    {
     "name": "stdout",
     "output_type": "stream",
     "text": [
      "42/42 [==============================] - 0s 4ms/step\n"
     ]
    },
    {
     "name": "stderr",
     "output_type": "stream",
     "text": [
      "Writing move maps: 100%|██████████| 1/1 [00:00<00:00, 999.12boards/s]\n",
      "Reading pre-computed move scores: 100%|██████████| 1/1 [00:00<?, ?boards/s]\n",
      "Zubat: Computing move scores: 62evals [00:00, 688.90evals/s]           \n",
      "Sampling for gambles: 100%|██████████| 3000/3000 [00:02<00:00, 1363.02Samples/s]\n",
      "black Filtering 1 boards by move results: 100%|██████████| 1/1 [00:00<?, ?boards/s]\n",
      "Sense quantity evaluation: 100%|██████████| 27/27 [00:00<00:00, 6755.32boards/s]\n",
      "black Filtering 27 boards by sense results: 100%|██████████| 27/27 [00:00<?, ?boards/s]"
     ]
    },
    {
     "name": "stdout",
     "output_type": "stream",
     "text": [
      "      1/Unknown - 0s 22ms/step"
     ]
    },
    {
     "name": "stderr",
     "output_type": "stream",
     "text": [
      "\n"
     ]
    },
    {
     "name": "stdout",
     "output_type": "stream",
     "text": [
      "49/49 [==============================] - 0s 4ms/step\n"
     ]
    },
    {
     "name": "stderr",
     "output_type": "stream",
     "text": [
      "Writing move maps: 100%|██████████| 11/11 [00:00<00:00, 2750.69boards/s]\n",
      "Reading pre-computed move scores: 100%|██████████| 11/11 [00:00<00:00, 10985.08boards/s]\n",
      "Zubat: Computing move scores: 813evals [00:00, 813.00evals/s]                      \n",
      "Sampling for gambles: 100%|██████████| 3000/3000 [00:02<00:00, 1374.25Samples/s]\n",
      "black Filtering 11 boards by move results: 100%|██████████| 11/11 [00:00<00:00, 11008.67boards/s]\n",
      "Sense quantity evaluation: 100%|██████████| 261/261 [00:00<00:00, 6365.13boards/s]\n",
      "black Filtering 261 boards by sense results: 100%|██████████| 261/261 [00:00<00:00, 261081.17boards/s]"
     ]
    },
    {
     "name": "stdout",
     "output_type": "stream",
     "text": [
      "      1/Unknown - 0s 24ms/step"
     ]
    },
    {
     "name": "stderr",
     "output_type": "stream",
     "text": [
      "\n"
     ]
    },
    {
     "name": "stdout",
     "output_type": "stream",
     "text": [
      "42/42 [==============================] - 0s 4ms/step\n"
     ]
    },
    {
     "name": "stderr",
     "output_type": "stream",
     "text": [
      "Writing move maps: 100%|██████████| 25/25 [00:00<00:00, 3570.96boards/s]\n",
      "Reading pre-computed move scores: 100%|██████████| 25/25 [00:00<00:00, 12520.31boards/s]\n",
      "Zubat: Computing move scores: 1727evals [00:01, 943.20evals/s]                      \n",
      "Sampling for gambles: 100%|██████████| 3000/3000 [00:01<00:00, 2559.73Samples/s]\n",
      "black Filtering 25 boards by move results: 100%|██████████| 25/25 [00:00<00:00, 12515.83boards/s]\n",
      "Sense quantity evaluation: 100%|██████████| 533/533 [00:00<00:00, 6662.69boards/s]\n",
      "black Filtering 533 boards by sense results: 100%|██████████| 533/533 [00:00<00:00, 266551.09boards/s]"
     ]
    },
    {
     "name": "stdout",
     "output_type": "stream",
     "text": [
      "      1/Unknown - 0s 21ms/step"
     ]
    },
    {
     "name": "stderr",
     "output_type": "stream",
     "text": [
      "\n"
     ]
    },
    {
     "name": "stdout",
     "output_type": "stream",
     "text": [
      "41/41 [==============================] - 0s 5ms/step\n"
     ]
    },
    {
     "name": "stderr",
     "output_type": "stream",
     "text": [
      "Writing move maps: 100%|██████████| 27/27 [00:00<00:00, 4500.68boards/s]\n",
      "Reading pre-computed move scores: 100%|██████████| 27/27 [00:00<00:00, 13502.59boards/s]\n",
      "Zubat: Computing move scores: 1771evals [00:01, 901.73evals/s]                      \n",
      "Sampling for gambles: 100%|██████████| 3000/3000 [00:02<00:00, 1096.86Samples/s]\n",
      "black Filtering 27 boards by move results: 100%|██████████| 27/27 [00:00<00:00, 27040.64boards/s]\n",
      "Sense quantity evaluation: 100%|██████████| 733/733 [00:00<00:00, 6850.60boards/s]\n",
      "black Filtering 733 boards by sense results: 100%|██████████| 733/733 [00:00<00:00, 244487.06boards/s]\n"
     ]
    },
    {
     "name": "stdout",
     "output_type": "stream",
     "text": [
      "41/41 [==============================] - 0s 4ms/step\n"
     ]
    },
    {
     "name": "stderr",
     "output_type": "stream",
     "text": [
      "Writing move maps: 100%|██████████| 7/7 [00:00<00:00, 3501.92boards/s]\n",
      "Reading pre-computed move scores: 100%|██████████| 7/7 [00:00<00:00, 7005.52boards/s]\n",
      "Zubat: Computing move scores: 434evals [00:00, 878.54evals/s]                      \n",
      "Sampling for gambles: 100%|██████████| 3000/3000 [00:01<00:00, 1973.68Samples/s]\n",
      "black Filtering 7 boards by move results: 100%|██████████| 7/7 [00:00<?, ?boards/s]\n",
      "Sense quantity evaluation: 100%|██████████| 258/258 [00:00<00:00, 6973.48boards/s]\n",
      "black Filtering 258 boards by sense results: 100%|██████████| 258/258 [00:00<00:00, 258573.58boards/s]\n"
     ]
    },
    {
     "name": "stdout",
     "output_type": "stream",
     "text": [
      "45/45 [==============================] - 0s 4ms/step\n"
     ]
    },
    {
     "name": "stderr",
     "output_type": "stream",
     "text": [
      "Writing move maps: 100%|██████████| 78/78 [00:00<00:00, 4333.36boards/s]\n",
      "Reading pre-computed move scores: 100%|██████████| 78/78 [00:00<00:00, 13007.66boards/s]\n",
      "Zubat: Computing move scores: 5732evals [00:05, 1077.72evals/s]                       \n",
      "Sampling for gambles: 100%|██████████| 3000/3000 [00:01<00:00, 2235.47Samples/s]\n",
      "black Filtering 78 boards by move results: 100%|██████████| 78/78 [00:00<?, ?boards/s]\n",
      "Sense quantity evaluation: 100%|██████████| 45/45 [00:00<00:00, 3750.64boards/s]\n",
      "black Filtering 45 boards by sense results: 100%|██████████| 45/45 [00:00<?, ?boards/s]\n"
     ]
    },
    {
     "name": "stdout",
     "output_type": "stream",
     "text": [
      "39/39 [==============================] - 0s 4ms/step\n"
     ]
    },
    {
     "name": "stderr",
     "output_type": "stream",
     "text": [
      "Writing move maps: 100%|██████████| 2/2 [00:00<00:00, 1996.81boards/s]\n",
      "Reading pre-computed move scores: 100%|██████████| 2/2 [00:00<?, ?boards/s]\n",
      "Zubat: Computing move scores: 116evals [00:00, 920.65evals/s]          \n",
      "Sampling for gambles: 100%|██████████| 3000/3000 [00:01<00:00, 1706.48Samples/s]\n",
      "black Filtering 2 boards by move results: 100%|██████████| 2/2 [00:00<?, ?boards/s]\n",
      "Sense quantity evaluation: 100%|██████████| 70/70 [00:00<00:00, 6999.17boards/s]\n",
      "black Filtering 70 boards by sense results: 100%|██████████| 70/70 [00:00<?, ?boards/s]\n"
     ]
    },
    {
     "name": "stdout",
     "output_type": "stream",
     "text": [
      "38/38 [==============================] - 0s 4ms/step\n"
     ]
    },
    {
     "name": "stderr",
     "output_type": "stream",
     "text": [
      "Writing move maps: 100%|██████████| 6/6 [00:00<00:00, 6003.30boards/s]\n",
      "Reading pre-computed move scores: 100%|██████████| 6/6 [00:00<00:00, 6000.43boards/s]\n",
      "Zubat: Computing move scores: 349evals [00:00, 953.55evals/s]                       \n",
      "Sampling for gambles: 100%|██████████| 3000/3000 [00:02<00:00, 1398.60Samples/s]\n",
      "black Filtering 6 boards by move results: 100%|██████████| 6/6 [00:00<00:00, 6003.30boards/s]\n",
      "Sense quantity evaluation: 100%|██████████| 227/227 [00:00<00:00, 6878.74boards/s]\n",
      "black Filtering 227 boards by sense results: 100%|██████████| 227/227 [00:00<00:00, 226584.25boards/s]\n"
     ]
    },
    {
     "name": "stdout",
     "output_type": "stream",
     "text": [
      "39/39 [==============================] - 0s 4ms/step\n"
     ]
    },
    {
     "name": "stderr",
     "output_type": "stream",
     "text": [
      "Writing move maps: 100%|██████████| 15/15 [00:00<00:00, 3750.50boards/s]\n",
      "Reading pre-computed move scores: 100%|██████████| 15/15 [00:00<00:00, 7498.76boards/s]\n",
      "Zubat: Computing move scores: 935evals [00:00, 1035.44evals/s]                      \n",
      "Sampling for gambles: 100%|██████████| 3000/3000 [00:00<00:00, 3184.71Samples/s]\n",
      "black Filtering 15 boards by move results: 100%|██████████| 15/15 [00:00<?, ?boards/s]\n",
      "Sense quantity evaluation: 100%|██████████| 388/388 [00:00<00:00, 6807.34boards/s]\n",
      "black Filtering 388 boards by sense results: 100%|██████████| 388/388 [00:00<00:00, 193990.93boards/s]"
     ]
    },
    {
     "name": "stdout",
     "output_type": "stream",
     "text": [
      "      1/Unknown - 0s 20ms/step"
     ]
    },
    {
     "name": "stderr",
     "output_type": "stream",
     "text": [
      "\n"
     ]
    },
    {
     "name": "stdout",
     "output_type": "stream",
     "text": [
      "39/39 [==============================] - 0s 5ms/step\n"
     ]
    },
    {
     "name": "stderr",
     "output_type": "stream",
     "text": [
      "Writing move maps: 100%|██████████| 83/83 [00:00<00:00, 4611.20boards/s]\n",
      "Reading pre-computed move scores: 100%|██████████| 83/83 [00:00<00:00, 13836.54boards/s]\n",
      "Zubat: Computing move scores: 5178evals [00:04, 1212.53evals/s]                       \n",
      "Sampling for gambles: 100%|██████████| 3000/3000 [00:01<00:00, 2629.28Samples/s]\n",
      "black Filtering 83 boards by move results: 100%|██████████| 83/83 [00:00<00:00, 41483.23boards/s]\n",
      "Sense quantity evaluation: 100%|██████████| 5/5 [00:00<?, ?boards/s]\n",
      "black Filtering 5 boards by sense results: 100%|██████████| 5/5 [00:00<00:00, 5000.36boards/s]\n"
     ]
    },
    {
     "name": "stdout",
     "output_type": "stream",
     "text": [
      "37/37 [==============================] - 0s 5ms/step\n"
     ]
    },
    {
     "name": "stderr",
     "output_type": "stream",
     "text": [
      "Writing move maps: 100%|██████████| 1/1 [00:00<00:00, 1000.79boards/s]\n",
      "Reading pre-computed move scores: 100%|██████████| 1/1 [00:00<?, ?boards/s]\n",
      "Zubat: Computing move scores: 52evals [00:00, 1061.25evals/s]          \n",
      "Sampling for gambles: 100%|██████████| 3000/3000 [00:01<00:00, 1963.35Samples/s]\n",
      "black Filtering 1 boards by move results: 100%|██████████| 1/1 [00:00<?, ?boards/s]\n",
      "Sense quantity evaluation: 100%|██████████| 44/44 [00:00<00:00, 7332.99boards/s]\n",
      "black Filtering 44 boards by sense results: 100%|██████████| 44/44 [00:00<?, ?boards/s]"
     ]
    },
    {
     "name": "stdout",
     "output_type": "stream",
     "text": [
      "      1/Unknown - 0s 20ms/step"
     ]
    },
    {
     "name": "stderr",
     "output_type": "stream",
     "text": [
      "\n"
     ]
    },
    {
     "name": "stdout",
     "output_type": "stream",
     "text": [
      "34/34 [==============================] - 0s 5ms/step\n"
     ]
    },
    {
     "name": "stderr",
     "output_type": "stream",
     "text": [
      "Writing move maps: 100%|██████████| 19/19 [00:00<00:00, 4752.61boards/s]\n",
      "Reading pre-computed move scores: 100%|██████████| 19/19 [00:00<00:00, 9504.09boards/s]\n",
      "Zubat: Computing move scores: 1015evals [00:00, 1217.03evals/s]                     \n",
      "Sampling for gambles: 100%|██████████| 3000/3000 [00:01<00:00, 2286.59Samples/s]\n",
      "black Filtering 19 boards by move results: 100%|██████████| 19/19 [00:00<?, ?boards/s]\n",
      "Sense quantity evaluation: 100%|██████████| 605/605 [00:00<00:00, 7117.68boards/s]\n",
      "black Filtering 605 boards by sense results: 100%|██████████| 605/605 [00:00<00:00, 201729.38boards/s]"
     ]
    },
    {
     "name": "stdout",
     "output_type": "stream",
     "text": [
      "      1/Unknown - 0s 21ms/step"
     ]
    },
    {
     "name": "stderr",
     "output_type": "stream",
     "text": [
      "\n"
     ]
    },
    {
     "name": "stdout",
     "output_type": "stream",
     "text": [
      "34/34 [==============================] - 0s 5ms/step\n"
     ]
    },
    {
     "name": "stderr",
     "output_type": "stream",
     "text": [
      "Writing move maps: 100%|██████████| 128/128 [00:00<00:00, 5818.54boards/s]\n",
      "Reading pre-computed move scores: 100%|██████████| 128/128 [00:00<00:00, 12800.62boards/s]\n",
      "Zubat: Computing move scores: 6680evals [00:04, 1415.48evals/s]                       \n",
      "Sampling for gambles: 100%|██████████| 3000/3000 [00:01<00:00, 2043.60Samples/s]\n",
      "black Filtering 128 boards by move results: 100%|██████████| 128/128 [00:00<00:00, 42679.94boards/s]\n",
      "Sense quantity evaluation: 100%|██████████| 1030/1030 [00:00<00:00, 7103.44boards/s]\n",
      "black Filtering 1030 boards by sense results: 100%|██████████| 1030/1030 [00:00<00:00, 515160.16boards/s]\n",
      "Repopulating exhausted board set: 100%|██████████| 90/90 [00:00<00:00, 1956.52it/s]"
     ]
    },
    {
     "name": "stdout",
     "output_type": "stream",
     "text": [
      "      1/Unknown - 0s 20ms/step"
     ]
    },
    {
     "name": "stderr",
     "output_type": "stream",
     "text": [
      "\n"
     ]
    },
    {
     "name": "stdout",
     "output_type": "stream",
     "text": [
      "34/34 [==============================] - 0s 5ms/step\n"
     ]
    },
    {
     "name": "stderr",
     "output_type": "stream",
     "text": [
      "Writing move maps: 100%|██████████| 13/13 [00:00<00:00, 6495.82boards/s]\n",
      "Reading pre-computed move scores: 100%|██████████| 13/13 [00:00<00:00, 12994.75boards/s]\n",
      "Zubat: Computing move scores: 589evals [00:00, 1329.57evals/s]                      \n",
      "Sampling for gambles: 100%|██████████| 3000/3000 [00:00<00:00, 3764.12Samples/s]\n",
      "black Filtering 13 boards by move results: 100%|██████████| 13/13 [00:00<00:00, 12991.65boards/s]\n",
      "Sense quantity evaluation: 100%|██████████| 505/505 [00:00<00:00, 6917.77boards/s]\n",
      "black Filtering 505 boards by sense results: 100%|██████████| 505/505 [00:00<00:00, 168278.66boards/s]"
     ]
    },
    {
     "name": "stdout",
     "output_type": "stream",
     "text": [
      "      1/Unknown - 0s 22ms/step"
     ]
    },
    {
     "name": "stderr",
     "output_type": "stream",
     "text": [
      "\n"
     ]
    },
    {
     "name": "stdout",
     "output_type": "stream",
     "text": [
      "34/34 [==============================] - 0s 5ms/step\n"
     ]
    },
    {
     "name": "stderr",
     "output_type": "stream",
     "text": [
      "Writing move maps: 100%|██████████| 52/52 [00:00<00:00, 5777.58boards/s]\n",
      "Reading pre-computed move scores: 100%|██████████| 52/52 [00:00<00:00, 12992.42boards/s]\n",
      "Zubat: Computing move scores: 2645evals [00:02, 1318.54evals/s]                       \n",
      "Sampling for gambles: 100%|██████████| 3000/3000 [00:01<00:00, 3000.00Samples/s]\n",
      "black Filtering 52 boards by move results: 100%|██████████| 52/52 [00:00<00:00, 52040.99boards/s]\n",
      "Sense quantity evaluation: 100%|██████████| 1006/1006 [00:00<00:00, 6843.52boards/s]\n",
      "black Filtering 1006 boards by sense results: 100%|██████████| 1006/1006 [00:00<00:00, 335464.29boards/s]\n"
     ]
    },
    {
     "name": "stdout",
     "output_type": "stream",
     "text": [
      "34/34 [==============================] - 0s 5ms/step\n"
     ]
    },
    {
     "name": "stderr",
     "output_type": "stream",
     "text": [
      "Writing move maps: 100%|██████████| 167/167 [00:00<00:00, 5566.85boards/s]\n",
      "Reading pre-computed move scores: 100%|██████████| 167/167 [00:00<00:00, 16702.41boards/s]\n",
      "Zubat: Computing move scores: 8604evals [00:05, 1520.68evals/s]                       \n",
      "Sampling for gambles: 100%|██████████| 3000/3000 [00:01<00:00, 2437.04Samples/s]\n",
      "black Filtering 167 boards by move results: 100%|██████████| 167/167 [00:00<00:00, 55630.91boards/s]\n",
      "Sense quantity evaluation: 100%|██████████| 1013/1013 [00:00<00:00, 6620.96boards/s]\n",
      "black Filtering 1013 boards by sense results: 100%|██████████| 1013/1013 [00:00<00:00, 253177.81boards/s]\n"
     ]
    },
    {
     "name": "stdout",
     "output_type": "stream",
     "text": [
      "34/34 [==============================] - 0s 6ms/step\n"
     ]
    },
    {
     "name": "stderr",
     "output_type": "stream",
     "text": [
      "Writing move maps: 100%|██████████| 113/113 [00:00<00:00, 5381.16boards/s]\n",
      "Reading pre-computed move scores: 100%|██████████| 113/113 [00:00<00:00, 11300.55boards/s]\n",
      "Zubat: Computing move scores: 6079evals [00:02, 2126.27evals/s]                       \n",
      "Sampling for gambles: 100%|██████████| 3000/3000 [00:01<00:00, 1893.94Samples/s]\n",
      "black Filtering 113 boards by move results: 100%|██████████| 113/113 [00:00<00:00, 37675.39boards/s]\n",
      "Sense quantity evaluation: 100%|██████████| 1029/1029 [00:00<00:00, 6860.01boards/s]\n",
      "black Filtering 1029 boards by sense results: 100%|██████████| 1029/1029 [00:00<00:00, 257330.00boards/s]\n"
     ]
    },
    {
     "name": "stdout",
     "output_type": "stream",
     "text": [
      "35/35 [==============================] - 0s 6ms/step\n"
     ]
    },
    {
     "name": "stderr",
     "output_type": "stream",
     "text": [
      "Writing move maps: 100%|██████████| 119/119 [00:00<00:00, 5666.63boards/s]\n",
      "Reading pre-computed move scores: 100%|██████████| 119/119 [00:00<00:00, 14875.63boards/s]\n",
      "Zubat: Computing move scores: 6002evals [00:04, 1363.47evals/s]                       \n",
      "Sampling for gambles: 100%|██████████| 3000/3000 [00:03<00:00, 766.38Samples/s] \n",
      "black Filtering 119 boards by move results: 100%|██████████| 119/119 [00:00<00:00, 59518.50boards/s]\n",
      "Sense quantity evaluation: 100%|██████████| 1043/1043 [00:00<00:00, 6952.95boards/s]\n",
      "black Filtering 1043 boards by sense results: 100%|██████████| 1043/1043 [00:00<00:00, 208565.39boards/s]\n"
     ]
    },
    {
     "name": "stdout",
     "output_type": "stream",
     "text": [
      "35/35 [==============================] - 0s 6ms/step\n"
     ]
    },
    {
     "name": "stderr",
     "output_type": "stream",
     "text": [
      "Writing move maps: 100%|██████████| 416/416 [00:00<00:00, 5402.59boards/s]\n",
      "Reading pre-computed move scores: 100%|██████████| 416/416 [00:00<00:00, 13000.55boards/s]\n",
      "Zubat: Computing move scores: 16780evals [00:10, 1677.95evals/s]                        \n",
      "Sampling for gambles: 100%|██████████| 3000/3000 [00:01<00:00, 2124.58Samples/s]\n",
      "black Filtering 416 boards by move results: 100%|██████████| 416/416 [00:00<00:00, 52005.32boards/s]\n",
      "Sense quantity evaluation: 100%|██████████| 1040/1040 [00:00<00:00, 6933.38boards/s]\n",
      "black Filtering 1040 boards by sense results: 100%|██████████| 1040/1040 [00:00<00:00, 260003.35boards/s]\n"
     ]
    },
    {
     "name": "stdout",
     "output_type": "stream",
     "text": [
      "35/35 [==============================] - 0s 6ms/step\n"
     ]
    },
    {
     "name": "stderr",
     "output_type": "stream",
     "text": [
      "Writing move maps: 100%|██████████| 30/30 [00:00<00:00, 6000.72boards/s]\n",
      "Reading pre-computed move scores: 100%|██████████| 30/30 [00:00<00:00, 14995.72boards/s]\n",
      "Zubat: Computing move scores: 1473evals [00:00, 3592.69evals/s]                     \n",
      "Sampling for gambles: 100%|██████████| 3000/3000 [00:02<00:00, 1136.36Samples/s]\n",
      "black Filtering 30 boards by move results: 100%|██████████| 30/30 [00:00<00:00, 30030.82boards/s]\n",
      "Sense quantity evaluation: 100%|██████████| 1009/1009 [00:00<00:00, 6426.72boards/s]\n",
      "black Filtering 1009 boards by sense results: 100%|██████████| 1009/1009 [00:00<00:00, 201785.76boards/s]\n"
     ]
    },
    {
     "name": "stdout",
     "output_type": "stream",
     "text": [
      "34/34 [==============================] - 0s 6ms/step\n"
     ]
    },
    {
     "name": "stderr",
     "output_type": "stream",
     "text": [
      "Writing move maps: 100%|██████████| 46/46 [00:00<00:00, 5111.08boards/s]\n",
      "Reading pre-computed move scores: 100%|██████████| 46/46 [00:00<00:00, 11498.78boards/s]\n",
      "Zubat: Computing move scores: 2317evals [00:01, 1818.68evals/s]                       \n",
      "Sampling for gambles: 100%|██████████| 3000/3000 [00:00<00:00, 3311.26Samples/s]\n",
      "black Filtering 46 boards by move results: 100%|██████████| 46/46 [00:00<00:00, 23004.41boards/s]\n",
      "Sense quantity evaluation: 100%|██████████| 1033/1033 [00:00<00:00, 6621.86boards/s]\n",
      "black Filtering 1033 boards by sense results: 100%|██████████| 1033/1033 [00:00<00:00, 172192.83boards/s]\n"
     ]
    },
    {
     "name": "stdout",
     "output_type": "stream",
     "text": [
      "35/35 [==============================] - 0s 6ms/step\n"
     ]
    },
    {
     "name": "stderr",
     "output_type": "stream",
     "text": [
      "Writing move maps: 100%|██████████| 297/297 [00:00<00:00, 5603.83boards/s]\n",
      "Reading pre-computed move scores: 100%|██████████| 297/297 [00:00<00:00, 18562.19boards/s]\n",
      "Zubat: Computing move scores: 15176evals [00:09, 1601.52evals/s]                      \n",
      "Sampling for gambles: 100%|██████████| 3000/3000 [00:01<00:00, 2481.39Samples/s]\n",
      "black Filtering 297 boards by move results: 100%|██████████| 297/297 [00:00<00:00, 42433.09boards/s]\n",
      "Sense quantity evaluation: 100%|██████████| 1027/1027 [00:00<00:00, 6625.87boards/s]\n",
      "black Filtering 1027 boards by sense results: 100%|██████████| 1027/1027 [00:00<00:00, 256799.23boards/s]\n"
     ]
    },
    {
     "name": "stdout",
     "output_type": "stream",
     "text": [
      "35/35 [==============================] - 0s 6ms/step\n"
     ]
    },
    {
     "name": "stderr",
     "output_type": "stream",
     "text": [
      "Writing move maps: 100%|██████████| 78/78 [00:00<00:00, 5571.07boards/s]\n",
      "Reading pre-computed move scores: 100%|██████████| 78/78 [00:00<00:00, 11142.91boards/s]\n",
      "Zubat: Computing move scores: 4246evals [00:02, 1433.79evals/s]                       \n",
      "Sampling for gambles: 100%|██████████| 3000/3000 [00:01<00:00, 2382.85Samples/s]\n",
      "black Filtering 78 boards by move results: 100%|██████████| 78/78 [00:00<00:00, 38984.24boards/s]\n",
      "Sense quantity evaluation: 100%|██████████| 1019/1019 [00:00<00:00, 6703.99boards/s]\n",
      "black Filtering 1019 boards by sense results: 100%|██████████| 1019/1019 [00:00<00:00, 203795.34boards/s]\n"
     ]
    },
    {
     "name": "stdout",
     "output_type": "stream",
     "text": [
      "35/35 [==============================] - 0s 6ms/step\n"
     ]
    },
    {
     "name": "stderr",
     "output_type": "stream",
     "text": [
      "Writing move maps: 100%|██████████| 139/139 [00:00<00:00, 5560.24boards/s]\n",
      "Reading pre-computed move scores: 100%|██████████| 139/139 [00:00<00:00, 11584.86boards/s]\n",
      "Zubat: Computing move scores: 7098evals [00:04, 1767.43evals/s]                       \n",
      "Sampling for gambles: 100%|██████████| 3000/3000 [00:03<00:00, 776.23Samples/s] \n",
      "black Filtering 139 boards by move results: 100%|██████████| 139/139 [00:00<00:00, 46336.69boards/s]\n",
      "Sense quantity evaluation: 100%|██████████| 1006/1006 [00:00<00:00, 6986.15boards/s]\n",
      "black Filtering 1006 boards by sense results: 100%|██████████| 1006/1006 [00:00<00:00, 251608.22boards/s]\n"
     ]
    },
    {
     "name": "stdout",
     "output_type": "stream",
     "text": [
      "35/35 [==============================] - 0s 7ms/step\n"
     ]
    },
    {
     "name": "stderr",
     "output_type": "stream",
     "text": [
      "Writing move maps: 100%|██████████| 303/303 [00:00<00:00, 5611.10boards/s]\n",
      "Reading pre-computed move scores: 100%|██████████| 303/303 [00:00<00:00, 13772.68boards/s]\n",
      "Zubat: Computing move scores: 15829evals [00:09, 1600.86evals/s]                      \n",
      "Sampling for gambles: 100%|██████████| 3000/3000 [00:01<00:00, 2059.03Samples/s]\n",
      "black Filtering 303 boards by move results: 100%|██████████| 303/303 [00:00<00:00, 50501.65boards/s]\n",
      "Sense quantity evaluation: 100%|██████████| 1026/1026 [00:00<00:00, 6979.63boards/s]\n",
      "black Filtering 1026 boards by sense results: 100%|██████████| 1026/1026 [00:00<00:00, 342106.36boards/s]\n",
      "Repopulating exhausted board set:   5%|▍         | 62/1372 [00:00<00:00, 1631.62it/s]"
     ]
    },
    {
     "name": "stdout",
     "output_type": "stream",
     "text": [
      "      1/Unknown - 0s 23ms/step"
     ]
    },
    {
     "name": "stderr",
     "output_type": "stream",
     "text": [
      "\n"
     ]
    },
    {
     "name": "stdout",
     "output_type": "stream",
     "text": [
      "35/35 [==============================] - 0s 7ms/step\n"
     ]
    },
    {
     "name": "stderr",
     "output_type": "stream",
     "text": [
      "Writing move maps: 100%|██████████| 30/30 [00:00<00:00, 6000.15boards/s]\n",
      "Reading pre-computed move scores: 100%|██████████| 30/30 [00:00<00:00, 15008.24boards/s]\n",
      "Zubat: Computing move scores: 1577evals [00:01, 1279.00evals/s]                     \n",
      "Sampling for gambles: 100%|██████████| 3000/3000 [00:02<00:00, 1068.38Samples/s]\n",
      "black Filtering 30 boards by move results: 100%|██████████| 30/30 [00:00<00:00, 29995.02boards/s]\n",
      "Sense quantity evaluation: 100%|██████████| 1038/1038 [00:00<00:00, 7109.65boards/s]\n",
      "black Filtering 1038 boards by sense results: 100%|██████████| 1038/1038 [00:00<00:00, 345887.63boards/s]\n",
      "Repopulating exhausted board set:  19%|█▉        | 255/1314 [00:00<00:02, 434.41it/s] "
     ]
    },
    {
     "name": "stdout",
     "output_type": "stream",
     "text": [
      "     16/Unknown - 0s 7ms/step"
     ]
    },
    {
     "name": "stderr",
     "output_type": "stream",
     "text": [
      "\n"
     ]
    },
    {
     "name": "stdout",
     "output_type": "stream",
     "text": [
      "37/37 [==============================] - 0s 7ms/step\n"
     ]
    },
    {
     "name": "stderr",
     "output_type": "stream",
     "text": [
      "Writing move maps: 100%|██████████| 30/30 [00:00<00:00, 5000.56boards/s]\n",
      "Reading pre-computed move scores: 100%|██████████| 30/30 [00:00<00:00, 30016.49boards/s]\n",
      "Zubat: Computing move scores: 1552evals [00:01, 1393.18evals/s]                     \n",
      "Sampling for gambles: 100%|██████████| 3000/3000 [00:03<00:00, 900.90Samples/s] \n",
      "black Filtering 30 boards by move results: 100%|██████████| 30/30 [00:00<00:00, 29973.59boards/s]\n",
      "Sense quantity evaluation: 100%|██████████| 1015/1015 [00:00<00:00, 6721.93boards/s]\n",
      "black Filtering 1015 boards by sense results: 100%|██████████| 1015/1015 [00:00<00:00, 203024.40boards/s]\n"
     ]
    },
    {
     "name": "stdout",
     "output_type": "stream",
     "text": [
      "37/37 [==============================] - 0s 7ms/step\n"
     ]
    },
    {
     "name": "stderr",
     "output_type": "stream",
     "text": [
      "Writing move maps: 100%|██████████| 169/169 [00:00<00:00, 5121.07boards/s]\n",
      "Reading pre-computed move scores: 100%|██████████| 169/169 [00:00<00:00, 16899.61boards/s]\n",
      "Zubat: Computing move scores: 9098evals [00:05, 1526.51evals/s]                       \n",
      "Sampling for gambles: 100%|██████████| 3000/3000 [00:01<00:00, 2423.26Samples/s]\n",
      "black Filtering 169 boards by move results: 100%|██████████| 169/169 [00:00<00:00, 84496.05boards/s]\n",
      "Sense quantity evaluation: 100%|██████████| 1024/1024 [00:00<00:00, 6481.04boards/s]\n",
      "black Filtering 1024 boards by sense results: 100%|██████████| 1024/1024 [00:00<00:00, 204814.84boards/s]\n",
      "Repopulating exhausted board set:   3%|▎         | 38/1194 [00:00<00:00, 1266.69it/s]"
     ]
    },
    {
     "name": "stdout",
     "output_type": "stream",
     "text": [
      "      1/Unknown - 0s 26ms/step"
     ]
    },
    {
     "name": "stderr",
     "output_type": "stream",
     "text": [
      "\n"
     ]
    },
    {
     "name": "stdout",
     "output_type": "stream",
     "text": [
      "37/37 [==============================] - 0s 7ms/step\n"
     ]
    },
    {
     "name": "stderr",
     "output_type": "stream",
     "text": [
      "Writing move maps: 100%|██████████| 30/30 [00:00<00:00, 5000.16boards/s]\n",
      "Reading pre-computed move scores: 100%|██████████| 30/30 [00:00<00:00, 15001.09boards/s]\n",
      "Zubat: Computing move scores: 1549evals [00:01, 1480.88evals/s]                     \n",
      "Sampling for gambles: 100%|██████████| 3000/3000 [00:02<00:00, 1233.05Samples/s]\n",
      "black Filtering 30 boards by move results: 100%|██████████| 30/30 [00:00<00:00, 30037.99boards/s]\n",
      "Sense quantity evaluation: 100%|██████████| 1015/1015 [00:00<00:00, 5767.05boards/s]\n",
      "black Filtering 1015 boards by sense results: 100%|██████████| 1015/1015 [00:00<00:00, 338411.65boards/s]"
     ]
    },
    {
     "name": "stdout",
     "output_type": "stream",
     "text": [
      "      1/Unknown - 0s 21ms/step"
     ]
    },
    {
     "name": "stderr",
     "output_type": "stream",
     "text": [
      "\n"
     ]
    },
    {
     "name": "stdout",
     "output_type": "stream",
     "text": [
      "37/37 [==============================] - 0s 7ms/step\n"
     ]
    },
    {
     "name": "stderr",
     "output_type": "stream",
     "text": [
      "Writing move maps: 100%|██████████| 33/33 [00:00<00:00, 5501.05boards/s]\n",
      "Reading pre-computed move scores: 100%|██████████| 33/33 [00:00<00:00, 16511.04boards/s]\n",
      "Zubat: Computing move scores: 1836evals [00:01, 1303.05evals/s]                     \n",
      "Sampling for gambles: 100%|██████████| 3000/3000 [00:02<00:00, 1103.75Samples/s]\n",
      "black Filtering 33 boards by move results: 100%|██████████| 33/33 [00:00<?, ?boards/s]\n",
      "Repopulating exhausted board set:   1%|          | 13/1163 [00:00<00:03, 333.33it/s]\n",
      "Sense quantity evaluation: 100%|██████████| 33/33 [00:00<00:00, 6602.37boards/s]\n",
      "black Filtering 33 boards by sense results: 100%|██████████| 33/33 [00:00<?, ?boards/s]\n",
      "Repopulating exhausted board set:   8%|▊         | 90/1150 [00:00<00:03, 316.90it/s]"
     ]
    },
    {
     "name": "stdout",
     "output_type": "stream",
     "text": [
      "     15/Unknown - 0s 8ms/step"
     ]
    },
    {
     "name": "stderr",
     "output_type": "stream",
     "text": [
      "\n"
     ]
    },
    {
     "name": "stdout",
     "output_type": "stream",
     "text": [
      "35/35 [==============================] - 0s 8ms/step\n"
     ]
    },
    {
     "name": "stderr",
     "output_type": "stream",
     "text": [
      "Writing move maps: 100%|██████████| 122/122 [00:00<00:00, 5545.32boards/s]\n",
      "Reading pre-computed move scores: 100%|██████████| 122/122 [00:00<00:00, 17430.43boards/s]\n",
      "Zubat: Computing move scores: 6466evals [00:02, 2218.95evals/s]                       \n",
      "Sampling for gambles: 100%|██████████| 3000/3000 [00:03<00:00, 949.97Samples/s] \n",
      "black Filtering 122 boards by move results: 100%|██████████| 122/122 [00:00<00:00, 61033.53boards/s]"
     ]
    },
    {
     "name": "stdout",
     "output_type": "stream",
     "text": [
      "22328 10:59:07  ⚽  I lost by None\n"
     ]
    },
    {
     "name": "stderr",
     "output_type": "stream",
     "text": [
      "\n"
     ]
    }
   ],
   "source": [
    "playback(game_hist, zubat, color)"
   ],
   "metadata": {
    "collapsed": false
   }
  },
  {
   "cell_type": "code",
   "execution_count": null,
   "outputs": [],
   "source": [],
   "metadata": {
    "collapsed": false
   }
  }
 ],
 "metadata": {
  "kernelspec": {
   "display_name": "Python 3",
   "language": "python",
   "name": "python3"
  },
  "language_info": {
   "codemirror_mode": {
    "name": "ipython",
    "version": 2
   },
   "file_extension": ".py",
   "mimetype": "text/x-python",
   "name": "python",
   "nbconvert_exporter": "python",
   "pygments_lexer": "ipython2",
   "version": "2.7.6"
  }
 },
 "nbformat": 4,
 "nbformat_minor": 0
}
