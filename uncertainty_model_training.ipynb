{
 "cells": [
  {
   "cell_type": "code",
   "execution_count": 1,
   "metadata": {
    "collapsed": true
   },
   "outputs": [
    {
     "name": "stderr",
     "output_type": "stream",
     "text": [
      "C:\\Users\\User\\AppData\\Roaming\\Python\\Python310\\site-packages\\pydot.py:17: UserWarning: `pydot` could not import `dot_parser`, so `pydot` will be unable to parse DOT files. The error was:  No module named 'pyparsing'\n",
      "  warnings.warn(\n"
     ]
    }
   ],
   "source": [
    "from typing import List\n",
    "\n",
    "import chess\n",
    "import pandas as pd\n",
    "import numpy as np\n",
    "from keras.layers import BatchNormalization\n",
    "from keras.utils.np_utils import to_categorical\n",
    "from reconchess import Turn\n",
    "from tensorflow.python.keras import Input\n",
    "from tensorflow.python.keras.layers import Conv2D, Activation, Dropout, LSTM, Dense\n",
    "from tensorflow.python.keras.models import Model\n",
    "\n",
    "from game_log_reader.game_history_extended import GameHistoryExtended"
   ]
  },
  {
   "cell_type": "code",
   "execution_count": 2,
   "outputs": [],
   "source": [
    "history = GameHistoryExtended.from_file('game_logs/historical_games_extended/571698.json')\n",
    "color = chess.WHITE\n",
    "move = 1"
   ],
   "metadata": {
    "collapsed": false
   }
  },
  {
   "cell_type": "code",
   "execution_count": 3,
   "outputs": [],
   "source": [
    "def int_to_square(squares):\n",
    "    board = np.zeros(64)\n",
    "    if squares is not None:\n",
    "        board[squares] = 1\n",
    "    return board.reshape((8, 8))"
   ],
   "metadata": {
    "collapsed": false
   }
  },
  {
   "cell_type": "code",
   "execution_count": 4,
   "outputs": [],
   "source": [
    "def parse_position(board, color):\n",
    "    return [np.reshape([board.pieces_mask(piece_type, color) >> i & 1 for i in range(64)], (8, 8)) for piece_type in\n",
    "            chess.PIECE_TYPES]"
   ],
   "metadata": {
    "collapsed": false
   }
  },
  {
   "cell_type": "code",
   "execution_count": 45,
   "outputs": [],
   "source": [
    "def map_move(history: GameHistoryExtended, turn: Turn):\n",
    "    color = turn.color\n",
    "    move = turn.turn_number\n",
    "\n",
    "    # 1 Color Layer\n",
    "    color_layer = np.ones((1, 8, 8)) if color else np.zeros((1, 8, 8))\n",
    "    # 1 Sense Location Layer\n",
    "    sense_location = np.array([int_to_square(history.sense(turn))])\n",
    "    # 6 Sense Result Layers - one for each piece type\n",
    "    sense_res = np.array([\n",
    "        int_to_square([\n",
    "            result[0] for result in history.sense_result(turn) if\n",
    "            (result[1] is not None and result[1].piece_type == piece_type)\n",
    "        ]) for piece_type in chess.PIECE_TYPES\n",
    "    ])\n",
    "    # 1 Layer for piece captured on previous turn\n",
    "    opponent_capture_square = np.zeros((1, 8, 8)) if turn == Turn(chess.WHITE, 0) else \\\n",
    "        np.array([int_to_square(history.capture_square(turn.previous))])\n",
    "\n",
    "    # 6 Layers for current state of owned pieces\n",
    "    owned_piece_positions = np.array([\n",
    "        np.reshape([history.truth_board_before_move(turn).pieces_mask(piece_type, color) >> i & 1 for i in range(64)],\n",
    "                   (8, 8))\n",
    "        for piece_type in chess.PIECE_TYPES\n",
    "    ])\n",
    "\n",
    "    # 6 Layers for last move origin - one for each piece type\n",
    "    last_move_origin = np.zeros((6, 8, 8))\n",
    "\n",
    "    # 1 Layer for last move requested destination\n",
    "    last_move_requested_destination = np.zeros((1, 8, 8))\n",
    "\n",
    "    # 3 Layers for successful under-promotions\n",
    "    under_promotions = np.zeros((3, 8, 8))\n",
    "\n",
    "    # 1 Layer for last move taken destination\n",
    "    last_move_taken_destination = np.zeros((1, 8, 8))\n",
    "\n",
    "    # 1 Layer for captured piece\n",
    "    captured_square = np.zeros((1, 8, 8))\n",
    "\n",
    "    if move > 0:\n",
    "        prev_turn = turn.previous.previous\n",
    "        requested_move = history.requested_move(prev_turn)\n",
    "        if requested_move is not None:\n",
    "            piece_type = history.truth_board_before_move(prev_turn).piece_at(requested_move.from_square).piece_type\n",
    "            last_move_origin[chess.PIECE_TYPES.index(piece_type)] = int_to_square(requested_move.from_square)\n",
    "            last_move_requested_destination = np.array([int_to_square(requested_move.to_square)])\n",
    "\n",
    "        if history.capture_square(prev_turn) is not None:\n",
    "            captured_square = [int_to_square(history.capture_square(prev_turn))]\n",
    "        taken_move = history.taken_move(prev_turn)\n",
    "        if taken_move is not None:\n",
    "            last_move_taken_destination = np.array([int_to_square(taken_move.to_square)])\n",
    "\n",
    "            if taken_move.promotion not in [None, chess.QUEEN]:\n",
    "                under_promotions[[chess.ROOK, chess.KNIGHT, chess.BISHOP].index(taken_move.promotion)] = np.ones((8, 8))\n",
    "\n",
    "    return np.concatenate(\n",
    "        (color_layer,  # 0\n",
    "         sense_location,  # 1\n",
    "         sense_res, # 2-7\n",
    "         opponent_capture_square, # 8\n",
    "         last_move_origin, # 9-14\n",
    "         last_move_requested_destination, # 15\n",
    "         last_move_taken_destination, # 16\n",
    "         captured_square, # 17\n",
    "         under_promotions, # 18-20\n",
    "         owned_piece_positions # 21-26\n",
    "         )\n",
    "    )"
   ],
   "metadata": {
    "collapsed": false
   }
  },
  {
   "cell_type": "code",
   "execution_count": 48,
   "outputs": [],
   "source": [
    "def map_game(history: GameHistoryExtended, color: chess.Color):\n",
    "    if history._post_sense_uncertainty[not color] is None:\n",
    "        return None\n",
    "\n",
    "    measured_turns = len(history._post_sense_uncertainty[not color]) - int(not color)\n",
    "\n",
    "    turns = [Turn(color, move) for move in range(measured_turns)]\n",
    "\n",
    "    X = np.array([map_move(history, turn) for turn in turns])\n",
    "    y = np.array(history._post_sense_uncertainty[not color][int(not color):])\n",
    "\n",
    "    return X, y"
   ],
   "metadata": {
    "collapsed": false
   }
  },
  {
   "cell_type": "code",
   "execution_count": 49,
   "outputs": [
    {
     "ename": "KeyboardInterrupt",
     "evalue": "",
     "output_type": "error",
     "traceback": [
      "\u001B[1;31m---------------------------------------------------------------------------\u001B[0m",
      "\u001B[1;31mKeyboardInterrupt\u001B[0m                         Traceback (most recent call last)",
      "Cell \u001B[1;32mIn[49], line 1\u001B[0m\n\u001B[1;32m----> 1\u001B[0m \u001B[43mmap_game\u001B[49m\u001B[43m(\u001B[49m\u001B[43mhistory\u001B[49m\u001B[43m,\u001B[49m\u001B[43m \u001B[49m\u001B[43mchess\u001B[49m\u001B[38;5;241;43m.\u001B[39;49m\u001B[43mWHITE\u001B[49m\u001B[43m)\u001B[49m\n",
      "Cell \u001B[1;32mIn[48], line 5\u001B[0m, in \u001B[0;36mmap_game\u001B[1;34m(history, color)\u001B[0m\n\u001B[0;32m      2\u001B[0m \u001B[38;5;28;01mif\u001B[39;00m history\u001B[38;5;241m.\u001B[39m_post_sense_uncertainty[\u001B[38;5;129;01mnot\u001B[39;00m color] \u001B[38;5;129;01mis\u001B[39;00m \u001B[38;5;28;01mNone\u001B[39;00m:\n\u001B[0;32m      3\u001B[0m     \u001B[38;5;28;01mreturn\u001B[39;00m \u001B[38;5;28;01mNone\u001B[39;00m\n\u001B[1;32m----> 5\u001B[0m measured_turns \u001B[38;5;241m=\u001B[39m \u001B[38;5;28;43mlen\u001B[39;49m(history\u001B[38;5;241m.\u001B[39m_post_sense_uncertainty[\u001B[38;5;129;01mnot\u001B[39;00m color]) \u001B[38;5;241m-\u001B[39m \u001B[38;5;28mint\u001B[39m(\u001B[38;5;129;01mnot\u001B[39;00m color)\n\u001B[0;32m      7\u001B[0m turns \u001B[38;5;241m=\u001B[39m [Turn(color, move) \u001B[38;5;28;01mfor\u001B[39;00m move \u001B[38;5;129;01min\u001B[39;00m \u001B[38;5;28mrange\u001B[39m(measured_turns)]\n\u001B[0;32m      9\u001B[0m X \u001B[38;5;241m=\u001B[39m np\u001B[38;5;241m.\u001B[39marray([map_move(history, turn) \u001B[38;5;28;01mfor\u001B[39;00m turn \u001B[38;5;129;01min\u001B[39;00m turns])\n",
      "Cell \u001B[1;32mIn[48], line 5\u001B[0m, in \u001B[0;36mmap_game\u001B[1;34m(history, color)\u001B[0m\n\u001B[0;32m      2\u001B[0m \u001B[38;5;28;01mif\u001B[39;00m history\u001B[38;5;241m.\u001B[39m_post_sense_uncertainty[\u001B[38;5;129;01mnot\u001B[39;00m color] \u001B[38;5;129;01mis\u001B[39;00m \u001B[38;5;28;01mNone\u001B[39;00m:\n\u001B[0;32m      3\u001B[0m     \u001B[38;5;28;01mreturn\u001B[39;00m \u001B[38;5;28;01mNone\u001B[39;00m\n\u001B[1;32m----> 5\u001B[0m measured_turns \u001B[38;5;241m=\u001B[39m \u001B[38;5;28;43mlen\u001B[39;49m(history\u001B[38;5;241m.\u001B[39m_post_sense_uncertainty[\u001B[38;5;129;01mnot\u001B[39;00m color]) \u001B[38;5;241m-\u001B[39m \u001B[38;5;28mint\u001B[39m(\u001B[38;5;129;01mnot\u001B[39;00m color)\n\u001B[0;32m      7\u001B[0m turns \u001B[38;5;241m=\u001B[39m [Turn(color, move) \u001B[38;5;28;01mfor\u001B[39;00m move \u001B[38;5;129;01min\u001B[39;00m \u001B[38;5;28mrange\u001B[39m(measured_turns)]\n\u001B[0;32m      9\u001B[0m X \u001B[38;5;241m=\u001B[39m np\u001B[38;5;241m.\u001B[39marray([map_move(history, turn) \u001B[38;5;28;01mfor\u001B[39;00m turn \u001B[38;5;129;01min\u001B[39;00m turns])\n",
      "File \u001B[1;32m_pydevd_bundle\\pydevd_cython_win32_310_64.pyx:1179\u001B[0m, in \u001B[0;36m_pydevd_bundle.pydevd_cython_win32_310_64.SafeCallWrapper.__call__\u001B[1;34m()\u001B[0m\n",
      "File \u001B[1;32m_pydevd_bundle\\pydevd_cython_win32_310_64.pyx:620\u001B[0m, in \u001B[0;36m_pydevd_bundle.pydevd_cython_win32_310_64.PyDBFrame.trace_dispatch\u001B[1;34m()\u001B[0m\n",
      "File \u001B[1;32m_pydevd_bundle\\pydevd_cython_win32_310_64.pyx:1095\u001B[0m, in \u001B[0;36m_pydevd_bundle.pydevd_cython_win32_310_64.PyDBFrame.trace_dispatch\u001B[1;34m()\u001B[0m\n",
      "File \u001B[1;32m_pydevd_bundle\\pydevd_cython_win32_310_64.pyx:1053\u001B[0m, in \u001B[0;36m_pydevd_bundle.pydevd_cython_win32_310_64.PyDBFrame.trace_dispatch\u001B[1;34m()\u001B[0m\n",
      "File \u001B[1;32m~\\AppData\\Local\\JetBrains\\Toolbox\\apps\\PyCharm-P\\ch-0\\223.8214.51\\plugins\\python\\helpers-pro\\jupyter_debug\\pydev_jupyter_plugin.py:169\u001B[0m, in \u001B[0;36mstop\u001B[1;34m(plugin, pydb, frame, event, args, stop_info, arg, step_cmd)\u001B[0m\n\u001B[0;32m    167\u001B[0m     frame \u001B[38;5;241m=\u001B[39m suspend_jupyter(main_debugger, thread, frame, step_cmd)\n\u001B[0;32m    168\u001B[0m     \u001B[38;5;28;01mif\u001B[39;00m frame:\n\u001B[1;32m--> 169\u001B[0m         \u001B[43mmain_debugger\u001B[49m\u001B[38;5;241;43m.\u001B[39;49m\u001B[43mdo_wait_suspend\u001B[49m\u001B[43m(\u001B[49m\u001B[43mthread\u001B[49m\u001B[43m,\u001B[49m\u001B[43m \u001B[49m\u001B[43mframe\u001B[49m\u001B[43m,\u001B[49m\u001B[43m \u001B[49m\u001B[43mevent\u001B[49m\u001B[43m,\u001B[49m\u001B[43m \u001B[49m\u001B[43marg\u001B[49m\u001B[43m)\u001B[49m\n\u001B[0;32m    170\u001B[0m         \u001B[38;5;28;01mreturn\u001B[39;00m \u001B[38;5;28;01mTrue\u001B[39;00m\n\u001B[0;32m    171\u001B[0m \u001B[38;5;28;01mreturn\u001B[39;00m \u001B[38;5;28;01mFalse\u001B[39;00m\n",
      "File \u001B[1;32m~\\AppData\\Local\\JetBrains\\Toolbox\\apps\\PyCharm-P\\ch-0\\223.8214.51\\plugins\\python\\helpers\\pydev\\pydevd.py:1160\u001B[0m, in \u001B[0;36mPyDB.do_wait_suspend\u001B[1;34m(self, thread, frame, event, arg, send_suspend_message, is_unhandled_exception)\u001B[0m\n\u001B[0;32m   1157\u001B[0m         from_this_thread\u001B[38;5;241m.\u001B[39mappend(frame_id)\n\u001B[0;32m   1159\u001B[0m \u001B[38;5;28;01mwith\u001B[39;00m \u001B[38;5;28mself\u001B[39m\u001B[38;5;241m.\u001B[39m_threads_suspended_single_notification\u001B[38;5;241m.\u001B[39mnotify_thread_suspended(thread_id, stop_reason):\n\u001B[1;32m-> 1160\u001B[0m     \u001B[38;5;28;43mself\u001B[39;49m\u001B[38;5;241;43m.\u001B[39;49m\u001B[43m_do_wait_suspend\u001B[49m\u001B[43m(\u001B[49m\u001B[43mthread\u001B[49m\u001B[43m,\u001B[49m\u001B[43m \u001B[49m\u001B[43mframe\u001B[49m\u001B[43m,\u001B[49m\u001B[43m \u001B[49m\u001B[43mevent\u001B[49m\u001B[43m,\u001B[49m\u001B[43m \u001B[49m\u001B[43marg\u001B[49m\u001B[43m,\u001B[49m\u001B[43m \u001B[49m\u001B[43msuspend_type\u001B[49m\u001B[43m,\u001B[49m\u001B[43m \u001B[49m\u001B[43mfrom_this_thread\u001B[49m\u001B[43m)\u001B[49m\n",
      "File \u001B[1;32m~\\AppData\\Local\\JetBrains\\Toolbox\\apps\\PyCharm-P\\ch-0\\223.8214.51\\plugins\\python\\helpers\\pydev\\pydevd.py:1175\u001B[0m, in \u001B[0;36mPyDB._do_wait_suspend\u001B[1;34m(self, thread, frame, event, arg, suspend_type, from_this_thread)\u001B[0m\n\u001B[0;32m   1172\u001B[0m             \u001B[38;5;28mself\u001B[39m\u001B[38;5;241m.\u001B[39m_call_mpl_hook()\n\u001B[0;32m   1174\u001B[0m         \u001B[38;5;28mself\u001B[39m\u001B[38;5;241m.\u001B[39mprocess_internal_commands()\n\u001B[1;32m-> 1175\u001B[0m         \u001B[43mtime\u001B[49m\u001B[38;5;241;43m.\u001B[39;49m\u001B[43msleep\u001B[49m\u001B[43m(\u001B[49m\u001B[38;5;241;43m0.01\u001B[39;49m\u001B[43m)\u001B[49m\n\u001B[0;32m   1177\u001B[0m \u001B[38;5;28mself\u001B[39m\u001B[38;5;241m.\u001B[39mcancel_async_evaluation(get_current_thread_id(thread), \u001B[38;5;28mstr\u001B[39m(\u001B[38;5;28mid\u001B[39m(frame)))\n\u001B[0;32m   1179\u001B[0m \u001B[38;5;66;03m# process any stepping instructions\u001B[39;00m\n",
      "\u001B[1;31mKeyboardInterrupt\u001B[0m: "
     ]
    }
   ],
   "source": [
    "map_game(history, chess.WHITE)"
   ],
   "metadata": {
    "collapsed": false
   }
  },
  {
   "cell_type": "code",
   "execution_count": null,
   "outputs": [],
   "source": [
    "def cnn_lstm(input_dim, output_dim, dropout=0.2, n_layers=1):\n",
    "\n",
    "    # Input data type\n",
    "    dtype = 'float32'\n",
    "\n",
    "    # ---- Network model ----\n",
    "    input_data = Input(name='the_input', shape=input_dim, dtype=dtype)\n",
    "\n",
    "    # 1 x 1D convolutional layers with strides 4\n",
    "    x = Conv2D(filters=256, kernel_size=10, strides=4, name='conv_1')(input_data)\n",
    "    x = BatchNormalization()(x)\n",
    "    x = Activation('relu')(x)\n",
    "    x = Dropout(dropout, name='dropout_1')(x)\n",
    "\n",
    "    x = LSTM(128, activation='relu', return_sequences=True,\n",
    "             dropout=dropout, name='lstm_1')(x)\n",
    "    x = LSTM(128, activation='relu', return_sequences=False,\n",
    "             dropout=dropout, name='lstm_2')(x)\n",
    "\n",
    "    x = Dense(units=64, activation='relu', name='fc')(x)\n",
    "    x = Dropout(dropout, name='dropout_2')(x)\n",
    "\n",
    "    # Output layer with softmax\n",
    "    y_pred = Dense(units=output_dim, activation='softmax', name='softmax')(x)\n",
    "\n",
    "    network_model = Model(inputs=input_data, outputs=y_pred)\n",
    "\n",
    "    return network_model"
   ],
   "metadata": {
    "collapsed": false
   }
  },
  {
   "cell_type": "code",
   "execution_count": 22,
   "outputs": [],
   "source": [
    "\n",
    "\n",
    "result = np.ones((1, 8, 8)) if color else np.zeros((1, 8, 8))\n",
    "# 1 Sense Location Layer\n",
    "sense_loc = [int_to_square(history.sense(Turn(True, 1)))]"
   ],
   "metadata": {
    "collapsed": false
   }
  },
  {
   "cell_type": "code",
   "execution_count": 49,
   "outputs": [
    {
     "data": {
      "text/plain": "Piece.from_symbol('P')",
      "image/svg+xml": "<svg xmlns=\"http://www.w3.org/2000/svg\" xmlns:xlink=\"http://www.w3.org/1999/xlink\" version=\"1.2\" baseProfile=\"tiny\" viewBox=\"0 0 45 45\" width=\"45\" height=\"45\"><g id=\"white-pawn\" class=\"white pawn\"><path d=\"M22.5 9c-2.21 0-4 1.79-4 4 0 .89.29 1.71.78 2.38C17.33 16.5 16 18.59 16 21c0 2.03.94 3.84 2.41 5.03-3 1.06-7.41 5.55-7.41 13.47h23c0-7.92-4.41-12.41-7.41-13.47 1.47-1.19 2.41-3 2.41-5.03 0-2.41-1.33-4.5-3.28-5.62.49-.67.78-1.49.78-2.38 0-2.21-1.79-4-4-4z\" fill=\"#fff\" stroke=\"#000\" stroke-width=\"1.5\" stroke-linecap=\"round\" /></g></svg>"
     },
     "execution_count": 49,
     "metadata": {},
     "output_type": "execute_result"
    }
   ],
   "source": [
    "history.truth_board_before_move(Turn(True, 1)).piece_at(history.requested_move(Turn(True, 1)).from_square)"
   ],
   "metadata": {
    "collapsed": false
   }
  },
  {
   "cell_type": "code",
   "execution_count": null,
   "outputs": [],
   "source": [
    "np.stack((result, sense_loc), axis=1)"
   ],
   "metadata": {
    "collapsed": false
   }
  },
  {
   "cell_type": "code",
   "execution_count": 46,
   "outputs": [
    {
     "data": {
      "text/plain": "[array([[0, 0, 0, 0, 0, 0, 0, 0],\n        [1, 1, 1, 1, 1, 1, 1, 1],\n        [0, 0, 0, 0, 0, 0, 0, 0],\n        [0, 0, 0, 0, 0, 0, 0, 0],\n        [0, 0, 0, 0, 0, 0, 0, 0],\n        [0, 0, 0, 0, 0, 0, 0, 0],\n        [0, 0, 0, 0, 0, 0, 0, 0],\n        [0, 0, 0, 0, 0, 0, 0, 0]]),\n array([[0, 1, 0, 0, 0, 0, 1, 0],\n        [0, 0, 0, 0, 0, 0, 0, 0],\n        [0, 0, 0, 0, 0, 0, 0, 0],\n        [0, 0, 0, 0, 0, 0, 0, 0],\n        [0, 0, 0, 0, 0, 0, 0, 0],\n        [0, 0, 0, 0, 0, 0, 0, 0],\n        [0, 0, 0, 0, 0, 0, 0, 0],\n        [0, 0, 0, 0, 0, 0, 0, 0]]),\n array([[0, 0, 1, 0, 0, 1, 0, 0],\n        [0, 0, 0, 0, 0, 0, 0, 0],\n        [0, 0, 0, 0, 0, 0, 0, 0],\n        [0, 0, 0, 0, 0, 0, 0, 0],\n        [0, 0, 0, 0, 0, 0, 0, 0],\n        [0, 0, 0, 0, 0, 0, 0, 0],\n        [0, 0, 0, 0, 0, 0, 0, 0],\n        [0, 0, 0, 0, 0, 0, 0, 0]]),\n array([[1, 0, 0, 0, 0, 0, 0, 1],\n        [0, 0, 0, 0, 0, 0, 0, 0],\n        [0, 0, 0, 0, 0, 0, 0, 0],\n        [0, 0, 0, 0, 0, 0, 0, 0],\n        [0, 0, 0, 0, 0, 0, 0, 0],\n        [0, 0, 0, 0, 0, 0, 0, 0],\n        [0, 0, 0, 0, 0, 0, 0, 0],\n        [0, 0, 0, 0, 0, 0, 0, 0]]),\n array([[0, 0, 0, 1, 0, 0, 0, 0],\n        [0, 0, 0, 0, 0, 0, 0, 0],\n        [0, 0, 0, 0, 0, 0, 0, 0],\n        [0, 0, 0, 0, 0, 0, 0, 0],\n        [0, 0, 0, 0, 0, 0, 0, 0],\n        [0, 0, 0, 0, 0, 0, 0, 0],\n        [0, 0, 0, 0, 0, 0, 0, 0],\n        [0, 0, 0, 0, 0, 0, 0, 0]]),\n array([[0, 0, 0, 0, 1, 0, 0, 0],\n        [0, 0, 0, 0, 0, 0, 0, 0],\n        [0, 0, 0, 0, 0, 0, 0, 0],\n        [0, 0, 0, 0, 0, 0, 0, 0],\n        [0, 0, 0, 0, 0, 0, 0, 0],\n        [0, 0, 0, 0, 0, 0, 0, 0],\n        [0, 0, 0, 0, 0, 0, 0, 0],\n        [0, 0, 0, 0, 0, 0, 0, 0]])]"
     },
     "execution_count": 46,
     "metadata": {},
     "output_type": "execute_result"
    }
   ],
   "source": [
    "parse_position(history.truth_board_before_move(Turn(True, 0)), True)"
   ],
   "metadata": {
    "collapsed": false
   }
  }
 ],
 "metadata": {
  "kernelspec": {
   "display_name": "Python 3",
   "language": "python",
   "name": "python3"
  },
  "language_info": {
   "codemirror_mode": {
    "name": "ipython",
    "version": 2
   },
   "file_extension": ".py",
   "mimetype": "text/x-python",
   "name": "python",
   "nbconvert_exporter": "python",
   "pygments_lexer": "ipython2",
   "version": "2.7.6"
  }
 },
 "nbformat": 4,
 "nbformat_minor": 0
}
