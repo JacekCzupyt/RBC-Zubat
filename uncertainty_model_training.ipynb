{
 "cells": [
  {
   "cell_type": "code",
   "execution_count": 1,
   "metadata": {
    "collapsed": true
   },
   "outputs": [
    {
     "name": "stderr",
     "output_type": "stream",
     "text": [
      "C:\\Users\\User\\AppData\\Roaming\\Python\\Python310\\site-packages\\pydot.py:17: UserWarning: `pydot` could not import `dot_parser`, so `pydot` will be unable to parse DOT files. The error was:  No module named 'pyparsing'\n",
      "  warnings.warn(\n"
     ]
    }
   ],
   "source": [
    "%load_ext autoreload\n",
    "%autoreload 2\n",
    "\n",
    "import os\n",
    "\n",
    "import numpy as np\n",
    "import pandas as pd\n",
    "\n",
    "from strangefish.models.model_training_utils import GameHistorySequence\n",
    "from strangefish.models.uncertainty_transformer import uncertainty_transformer_1"
   ]
  },
  {
   "cell_type": "code",
   "execution_count": 2,
   "outputs": [
    {
     "name": "stdout",
     "output_type": "stream",
     "text": [
      "Model: \"model\"\n",
      "_________________________________________________________________\n",
      " Layer (type)                Output Shape              Param #   \n",
      "=================================================================\n",
      " input (InputLayer)          [(None, None, 8, 8, 37)]  0         \n",
      "                                                                 \n",
      " masking (Masking)           (None, None, 8, 8, 37)    0         \n",
      "                                                                 \n",
      " reshape_1 (Reshape)         (None, None, 2368)        0         \n",
      "                                                                 \n",
      " transformer_block (Transfor  (None, None, 2368)       45190976  \n",
      " merBlock)                                                       \n",
      "                                                                 \n",
      " global_average_pooling1d (G  (None, 2368)             0         \n",
      " lobalAveragePooling1D)                                          \n",
      "                                                                 \n",
      " dropout_2 (Dropout)         (None, 2368)              0         \n",
      "                                                                 \n",
      " fc (Dense)                  (None, 64)                151616    \n",
      "                                                                 \n",
      " dropout_3 (Dropout)         (None, 64)                0         \n",
      "                                                                 \n",
      " output (Dense)              (None, 1)                 65        \n",
      "                                                                 \n",
      "=================================================================\n",
      "Total params: 45,342,657\n",
      "Trainable params: 45,342,657\n",
      "Non-trainable params: 0\n",
      "_________________________________________________________________\n"
     ]
    }
   ],
   "source": [
    "model = uncertainty_transformer_1()\n",
    "model_name = 'uncertainty_transformer_1'\n",
    "# os.mkdir()\n",
    "\n",
    "model.summary()"
   ],
   "metadata": {
    "collapsed": false
   }
  },
  {
   "cell_type": "code",
   "execution_count": 10,
   "outputs": [],
   "source": [
    "from sklearn.model_selection import train_test_split\n",
    "\n",
    "data_path = 'game_logs/historical_games_extended'\n",
    "\n",
    "files = os.listdir(data_path)\n",
    "files.sort()\n",
    "\n",
    "train_data, test_data = train_test_split(files, test_size=0.2, random_state=42)\n",
    "\n",
    "pd.DataFrame({'files': train_data}).to_csv('uncertainty_model/train_data.csv')\n",
    "pd.DataFrame({'files': test_data}).to_csv('uncertainty_model/test_data.csv')"
   ],
   "metadata": {
    "collapsed": false
   }
  },
  {
   "cell_type": "code",
   "execution_count": 11,
   "outputs": [],
   "source": [
    "training_sequence = GameHistorySequence(train_data, data_path, 16)\n",
    "test_sequence = GameHistorySequence(test_data, data_path, 16, shuffle=False)"
   ],
   "metadata": {
    "collapsed": false
   }
  },
  {
   "cell_type": "code",
   "execution_count": 12,
   "outputs": [],
   "source": [
    "from tensorflow.python.keras.callbacks import ModelCheckpoint\n",
    "\n",
    "checkpoint = ModelCheckpoint(f'uncertainty_model/{model_name}', 'val_loss', verbose=1, mode='max')"
   ],
   "metadata": {
    "collapsed": false
   }
  },
  {
   "cell_type": "code",
   "execution_count": null,
   "outputs": [
    {
     "name": "stdout",
     "output_type": "stream",
     "text": [
      "Epoch 1/5\n",
      "728/799 [==========================>...] - ETA: 12:07 - loss: 0.4954"
     ]
    }
   ],
   "source": [
    "hist = model.fit(training_sequence, validation_data=test_sequence, epochs=5, callbacks=checkpoint)"
   ],
   "metadata": {
    "collapsed": false,
    "pycharm": {
     "is_executing": true
    }
   }
  },
  {
   "cell_type": "code",
   "execution_count": null,
   "outputs": [],
   "source": [
    "model.save(f'uncertainty_model/{model_name}')"
   ],
   "metadata": {
    "collapsed": false,
    "pycharm": {
     "is_executing": true
    }
   }
  },
  {
   "cell_type": "code",
   "execution_count": null,
   "outputs": [],
   "source": [
    "model.save_weights(f'uncertainty_model/{model_name}/weights')"
   ],
   "metadata": {
    "collapsed": false,
    "pycharm": {
     "is_executing": true
    }
   }
  },
  {
   "cell_type": "code",
   "execution_count": null,
   "outputs": [],
   "source": [
    "import pickle\n",
    "with open(f'uncertainty_model/{model_name}/train_hist', 'wb') as file_pi:\n",
    "    pickle.dump(hist.history, file_pi)"
   ],
   "metadata": {
    "collapsed": false,
    "pycharm": {
     "is_executing": true
    }
   }
  },
  {
   "cell_type": "code",
   "execution_count": 16,
   "outputs": [
    {
     "name": "stdout",
     "output_type": "stream",
     "text": [
      "Model: \"model\"\n",
      "_________________________________________________________________\n",
      "Layer (type)                 Output Shape              Param #   \n",
      "=================================================================\n",
      "input (InputLayer)           [(None, None, 8, 8, 37)]  0         \n",
      "_________________________________________________________________\n",
      "masking (Masking)            (None, None, 8, 8, 37)    0         \n",
      "_________________________________________________________________\n",
      "conv_1 (Conv2D)              (None, None, 6, 6, 128)   42752     \n",
      "_________________________________________________________________\n",
      "tf.cast (TFOpLambda)         (None, None, 6, 6, 128)   0         \n",
      "_________________________________________________________________\n",
      "tf.compat.v1.nn.fused_batch_ ((None, None, 6, 6, 128), 0         \n",
      "_________________________________________________________________\n",
      "activation_1 (Activation)    (None, None, 6, 6, 128)   0         \n",
      "_________________________________________________________________\n",
      "dropout_1 (Dropout)          (None, None, 6, 6, 128)   0         \n",
      "_________________________________________________________________\n",
      "conv_2 (Conv2D)              (None, None, 4, 4, 256)   295168    \n",
      "_________________________________________________________________\n",
      "tf.cast_1 (TFOpLambda)       (None, None, 4, 4, 256)   0         \n",
      "_________________________________________________________________\n",
      "tf.compat.v1.nn.fused_batch_ ((None, None, 4, 4, 256), 0         \n",
      "_________________________________________________________________\n",
      "activation_2 (Activation)    (None, None, 4, 4, 256)   0         \n",
      "_________________________________________________________________\n",
      "dropout_2 (Dropout)          (None, None, 4, 4, 256)   0         \n",
      "_________________________________________________________________\n",
      "reshape_1 (Reshape)          (None, None, 4096)        0         \n",
      "_________________________________________________________________\n",
      "lstm_1 (LSTM)                (None, None, 128)         2163200   \n",
      "_________________________________________________________________\n",
      "lstm_2 (LSTM)                (None, None, 128)         131584    \n",
      "_________________________________________________________________\n",
      "fc (Dense)                   (None, None, 64)          8256      \n",
      "_________________________________________________________________\n",
      "dropout_3 (Dropout)          (None, None, 64)          0         \n",
      "_________________________________________________________________\n",
      "output (Dense)               (None, None, 1)           65        \n",
      "=================================================================\n",
      "Total params: 2,641,025\n",
      "Trainable params: 2,641,025\n",
      "Non-trainable params: 0\n",
      "_________________________________________________________________\n"
     ]
    }
   ],
   "source": [
    "model.summary()"
   ],
   "metadata": {
    "collapsed": false
   }
  },
  {
   "cell_type": "code",
   "execution_count": 41,
   "outputs": [
    {
     "data": {
      "text/plain": "array([[[0.09206896]]], dtype=float32)"
     },
     "execution_count": 41,
     "metadata": {},
     "output_type": "execute_result"
    }
   ],
   "source": [
    "model.predict(np.array([game_map[0][0:1]]))"
   ],
   "metadata": {
    "collapsed": false
   }
  },
  {
   "cell_type": "code",
   "execution_count": 56,
   "outputs": [
    {
     "data": {
      "text/plain": "array([[[9.65302661e-02],\n        [1.84438210e-02],\n        [1.08479137e-04],\n        ...,\n        [0.00000000e+00],\n        [0.00000000e+00],\n        [0.00000000e+00]],\n\n       [[1.46613687e-01],\n        [1.66606791e-02],\n        [3.14770907e-04],\n        ...,\n        [0.00000000e+00],\n        [0.00000000e+00],\n        [0.00000000e+00]],\n\n       [[9.01013464e-02],\n        [1.72635075e-02],\n        [8.06811586e-05],\n        ...,\n        [0.00000000e+00],\n        [0.00000000e+00],\n        [0.00000000e+00]],\n\n       ...,\n\n       [[1.16691105e-01],\n        [1.57225449e-02],\n        [8.28637785e-05],\n        ...,\n        [0.00000000e+00],\n        [0.00000000e+00],\n        [0.00000000e+00]],\n\n       [[8.83309990e-02],\n        [1.63214374e-02],\n        [6.22796797e-05],\n        ...,\n        [0.00000000e+00],\n        [0.00000000e+00],\n        [0.00000000e+00]],\n\n       [[1.09717838e-01],\n        [1.31376991e-02],\n        [2.62407644e-04],\n        ...,\n        [0.00000000e+00],\n        [0.00000000e+00],\n        [0.00000000e+00]]], dtype=float32)"
     },
     "execution_count": 56,
     "metadata": {},
     "output_type": "execute_result"
    }
   ],
   "source": [
    "model.predict(test_sample)"
   ],
   "metadata": {
    "collapsed": false
   }
  }
 ],
 "metadata": {
  "kernelspec": {
   "display_name": "Python 3",
   "language": "python",
   "name": "python3"
  },
  "language_info": {
   "codemirror_mode": {
    "name": "ipython",
    "version": 2
   },
   "file_extension": ".py",
   "mimetype": "text/x-python",
   "name": "python",
   "nbconvert_exporter": "python",
   "pygments_lexer": "ipython2",
   "version": "2.7.6"
  }
 },
 "nbformat": 4,
 "nbformat_minor": 0
}
