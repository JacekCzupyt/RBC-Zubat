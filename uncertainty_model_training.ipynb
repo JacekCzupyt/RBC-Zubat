{
 "cells": [
  {
   "cell_type": "code",
   "execution_count": 1,
   "metadata": {
    "collapsed": true
   },
   "outputs": [
    {
     "name": "stderr",
     "output_type": "stream",
     "text": [
      "C:\\Users\\User\\AppData\\Roaming\\Python\\Python310\\site-packages\\pydot.py:17: UserWarning: `pydot` could not import `dot_parser`, so `pydot` will be unable to parse DOT files. The error was:  No module named 'pyparsing'\n",
      "  warnings.warn(\n"
     ]
    }
   ],
   "source": [
    "import os\n",
    "from typing import List\n",
    "\n",
    "import chess\n",
    "import pandas as pd\n",
    "import numpy as np\n",
    "from reconchess import Turn\n",
    "from tensorflow.python.keras import Input\n",
    "from tensorflow.python.keras.layers import Conv2D, Activation, Dropout, LSTM, Dense, Reshape, Masking\n",
    "from tensorflow.python.keras.models import Model\n",
    "from tensorflow.keras.layers import BatchNormalization\n",
    "\n",
    "import tensorflow as tf\n",
    "\n",
    "from tqdm import tqdm\n",
    "\n",
    "from game_log_reader.game_history_extended import GameHistoryExtended"
   ]
  },
  {
   "cell_type": "code",
   "execution_count": 2,
   "outputs": [],
   "source": [
    "history = GameHistoryExtended.from_file('game_logs/historical_games_extended/571698.json')\n",
    "color = chess.WHITE\n",
    "move = 1"
   ],
   "metadata": {
    "collapsed": false
   }
  },
  {
   "cell_type": "code",
   "execution_count": 3,
   "outputs": [],
   "source": [
    "def int_to_square(squares):\n",
    "    board = np.zeros(64)\n",
    "    if squares is not None:\n",
    "        board[squares] = 1\n",
    "    return board.reshape((8, 8))"
   ],
   "metadata": {
    "collapsed": false
   }
  },
  {
   "cell_type": "code",
   "execution_count": 4,
   "outputs": [],
   "source": [
    "def parse_position(board, color):\n",
    "    return [np.reshape([board.pieces_mask(piece_type, color) >> i & 1 for i in range(64)], (8, 8)) for piece_type in\n",
    "            chess.PIECE_TYPES]"
   ],
   "metadata": {
    "collapsed": false
   }
  },
  {
   "cell_type": "code",
   "execution_count": 5,
   "outputs": [],
   "source": [
    "def map_move(history: GameHistoryExtended, turn: Turn):\n",
    "    color = turn.color\n",
    "    move = turn.turn_number\n",
    "\n",
    "    # 1 Color Layer\n",
    "    color_layer = np.ones((1, 8, 8)) if color else np.zeros((1, 8, 8))\n",
    "    # 1 Sense Location Layer\n",
    "    sense_location = np.array([int_to_square(history.sense(turn))])\n",
    "    # 6 Sense Result Layers - one for each piece type\n",
    "    sense_res = np.array([\n",
    "        int_to_square([\n",
    "            result[0] for result in history.sense_result(turn) if\n",
    "            (result[1] is not None and result[1].piece_type == piece_type)\n",
    "        ]) for piece_type in chess.PIECE_TYPES\n",
    "    ])\n",
    "\n",
    "    # 1 Layer for piece captured on previous turn\n",
    "    opponent_capture_square = np.zeros((1, 8, 8)) if turn == Turn(chess.WHITE, 0) else \\\n",
    "        np.array([int_to_square(history.capture_square(turn.previous))])\n",
    "\n",
    "    # 6 Layers for current state of owned pieces\n",
    "    owned_piece_positions = np.array([\n",
    "        np.reshape([history.truth_board_before_move(turn).pieces_mask(piece_type, color) >> i & 1 for i in range(64)],\n",
    "                   (8, 8))\n",
    "        for piece_type in chess.PIECE_TYPES\n",
    "    ])\n",
    "\n",
    "    # 6 Layers for last move origin - one for each piece type\n",
    "    last_move_origin = np.zeros((6, 8, 8))\n",
    "\n",
    "    # 1 Layer for last move requested destination\n",
    "    last_move_requested_destination = np.zeros((1, 8, 8))\n",
    "\n",
    "    # 3 Layers for requested under-promotions\n",
    "    under_promotions = np.zeros((3, 8, 8))\n",
    "\n",
    "    # 1 Layer for last move taken destination\n",
    "    last_move_taken_destination = np.zeros((1, 8, 8))\n",
    "\n",
    "    # 1 Layer for captured piece\n",
    "    captured_square = np.zeros((1, 8, 8))\n",
    "\n",
    "    if move > 0:\n",
    "        prev_turn = turn.previous.previous\n",
    "        prev_requested_move = history.requested_move(prev_turn)\n",
    "        if prev_requested_move is not None:\n",
    "            prev_piece_type = history.truth_board_before_move(prev_turn).piece_at(prev_requested_move.from_square).piece_type\n",
    "            last_move_origin[chess.PIECE_TYPES.index(prev_piece_type)] = int_to_square(prev_requested_move.from_square)\n",
    "            last_move_requested_destination = np.array([int_to_square(prev_requested_move.to_square)])\n",
    "\n",
    "            if prev_requested_move.promotion not in [None, chess.QUEEN]:\n",
    "                under_promotions[[chess.ROOK, chess.KNIGHT, chess.BISHOP].index(prev_requested_move.promotion)] = np.ones((8, 8))\n",
    "\n",
    "        if history.capture_square(prev_turn) is not None:\n",
    "            captured_square = [int_to_square(history.capture_square(prev_turn))]\n",
    "        taken_move = history.taken_move(prev_turn)\n",
    "        if taken_move is not None:\n",
    "            last_move_taken_destination = np.array([int_to_square(taken_move.to_square)])\n",
    "\n",
    "    next_requested_move = history.requested_move(turn)\n",
    "    if next_requested_move is not None:\n",
    "        next_piece_type = history.truth_board_before_move(turn).piece_at(next_requested_move.from_square).piece_type\n",
    "\n",
    "        # 6 Layers for next move origin - one for each piece type\n",
    "        next_move_origin = np.array([\n",
    "            int_to_square(next_requested_move.from_square if next_piece_type == piece_type else None)\n",
    "            for piece_type in chess.PIECE_TYPES\n",
    "        ])\n",
    "\n",
    "        # 1 Layer for last move requested destination\n",
    "        next_move_requested_destination = np.array([int_to_square(next_requested_move.to_square)])\n",
    "\n",
    "        # 3 Layers for attempted underpromotions\n",
    "        next_under_promotions = np.zeros((3, 8, 8))\n",
    "        if next_requested_move.promotion not in [None, chess.QUEEN]:\n",
    "            under_promotions[[chess.ROOK, chess.KNIGHT, chess.BISHOP].index(next_requested_move.promotion)] = np.ones((8, 8))\n",
    "    else:\n",
    "        next_move_origin = np.zeros((6, 8, 8))\n",
    "        next_move_requested_destination = np.zeros((1, 8, 8))\n",
    "        next_under_promotions = np.zeros((3, 8, 8))\n",
    "\n",
    "    return np.concatenate(\n",
    "        (color_layer,  # 0\n",
    "         sense_location,  # 1\n",
    "         sense_res, # 2-7\n",
    "         opponent_capture_square, # 8\n",
    "         last_move_origin, # 9-14\n",
    "         last_move_requested_destination, # 15\n",
    "         last_move_taken_destination, # 16\n",
    "         captured_square, # 17\n",
    "         under_promotions, # 18-20\n",
    "         owned_piece_positions, # 21-26\n",
    "         next_move_origin, # 27-32\n",
    "         next_move_requested_destination, #33\n",
    "         next_under_promotions, #34-36\n",
    "         )\n",
    "    )"
   ],
   "metadata": {
    "collapsed": false
   }
  },
  {
   "cell_type": "code",
   "execution_count": 6,
   "outputs": [],
   "source": [
    "def map_game(history: GameHistoryExtended, color: chess.Color):\n",
    "    if history._post_sense_uncertainty[not color] is None:\n",
    "        return None\n",
    "\n",
    "    measured_turns = len(history._post_sense_uncertainty[not color]) - int(not color)\n",
    "\n",
    "    if measured_turns<=0:\n",
    "        return None\n",
    "\n",
    "    turns = [Turn(color, move) for move in range(measured_turns)]\n",
    "\n",
    "    X = np.array([map_move(history, turn) for turn in turns])\n",
    "    X = np.transpose(X, (0, 2, 3, 1))\n",
    "\n",
    "    y = np.array(history._post_sense_uncertainty[not color][int(not color):])\n",
    "    y = np.log(y)/12.0\n",
    "\n",
    "    return X, y"
   ],
   "metadata": {
    "collapsed": false
   }
  },
  {
   "cell_type": "code",
   "execution_count": 7,
   "outputs": [
    {
     "data": {
      "text/plain": "(array([[[[1., 0., 0., ..., 0., 0., 0.],\n          [1., 0., 0., ..., 0., 0., 0.],\n          [1., 0., 0., ..., 0., 0., 0.],\n          ...,\n          [1., 0., 0., ..., 0., 0., 0.],\n          [1., 0., 0., ..., 0., 0., 0.],\n          [1., 0., 0., ..., 0., 0., 0.]],\n \n         [[1., 0., 0., ..., 0., 0., 0.],\n          [1., 0., 0., ..., 0., 0., 0.],\n          [1., 0., 0., ..., 0., 0., 0.],\n          ...,\n          [1., 0., 0., ..., 0., 0., 0.],\n          [1., 0., 0., ..., 0., 0., 0.],\n          [1., 0., 0., ..., 0., 0., 0.]],\n \n         [[1., 0., 0., ..., 0., 0., 0.],\n          [1., 0., 0., ..., 0., 0., 0.],\n          [1., 0., 0., ..., 0., 0., 0.],\n          ...,\n          [1., 0., 0., ..., 0., 0., 0.],\n          [1., 0., 0., ..., 0., 0., 0.],\n          [1., 0., 0., ..., 0., 0., 0.]],\n \n         ...,\n \n         [[1., 0., 0., ..., 0., 0., 0.],\n          [1., 0., 0., ..., 0., 0., 0.],\n          [1., 0., 0., ..., 0., 0., 0.],\n          ...,\n          [1., 0., 0., ..., 0., 0., 0.],\n          [1., 0., 0., ..., 0., 0., 0.],\n          [1., 0., 0., ..., 0., 0., 0.]],\n \n         [[1., 0., 0., ..., 0., 0., 0.],\n          [1., 0., 0., ..., 0., 0., 0.],\n          [1., 0., 0., ..., 0., 0., 0.],\n          ...,\n          [1., 0., 0., ..., 0., 0., 0.],\n          [1., 0., 0., ..., 0., 0., 0.],\n          [1., 0., 0., ..., 0., 0., 0.]],\n \n         [[1., 0., 0., ..., 0., 0., 0.],\n          [1., 0., 0., ..., 0., 0., 0.],\n          [1., 0., 0., ..., 0., 0., 0.],\n          ...,\n          [1., 0., 0., ..., 0., 0., 0.],\n          [1., 0., 0., ..., 0., 0., 0.],\n          [1., 0., 0., ..., 0., 0., 0.]]],\n \n \n        [[[1., 0., 0., ..., 0., 0., 0.],\n          [1., 0., 0., ..., 0., 0., 0.],\n          [1., 0., 0., ..., 0., 0., 0.],\n          ...,\n          [1., 0., 0., ..., 0., 0., 0.],\n          [1., 0., 0., ..., 0., 0., 0.],\n          [1., 0., 0., ..., 0., 0., 0.]],\n \n         [[1., 0., 0., ..., 0., 0., 0.],\n          [1., 0., 0., ..., 0., 0., 0.],\n          [1., 0., 0., ..., 0., 0., 0.],\n          ...,\n          [1., 0., 0., ..., 0., 0., 0.],\n          [1., 0., 0., ..., 0., 0., 0.],\n          [1., 0., 0., ..., 0., 0., 0.]],\n \n         [[1., 0., 0., ..., 0., 0., 0.],\n          [1., 0., 0., ..., 0., 0., 0.],\n          [1., 0., 0., ..., 0., 0., 0.],\n          ...,\n          [1., 0., 0., ..., 0., 0., 0.],\n          [1., 0., 0., ..., 0., 0., 0.],\n          [1., 0., 0., ..., 0., 0., 0.]],\n \n         ...,\n \n         [[1., 0., 0., ..., 0., 0., 0.],\n          [1., 0., 0., ..., 0., 0., 0.],\n          [1., 0., 0., ..., 0., 0., 0.],\n          ...,\n          [1., 0., 0., ..., 0., 0., 0.],\n          [1., 0., 0., ..., 0., 0., 0.],\n          [1., 0., 0., ..., 0., 0., 0.]],\n \n         [[1., 0., 0., ..., 0., 0., 0.],\n          [1., 0., 0., ..., 0., 0., 0.],\n          [1., 0., 0., ..., 0., 0., 0.],\n          ...,\n          [1., 0., 1., ..., 0., 0., 0.],\n          [1., 0., 0., ..., 0., 0., 0.],\n          [1., 0., 0., ..., 0., 0., 0.]],\n \n         [[1., 0., 0., ..., 0., 0., 0.],\n          [1., 0., 0., ..., 0., 0., 0.],\n          [1., 0., 0., ..., 0., 0., 0.],\n          ...,\n          [1., 0., 0., ..., 0., 0., 0.],\n          [1., 0., 0., ..., 0., 0., 0.],\n          [1., 0., 0., ..., 0., 0., 0.]]],\n \n \n        [[[1., 0., 0., ..., 0., 0., 0.],\n          [1., 0., 0., ..., 0., 0., 0.],\n          [1., 0., 0., ..., 0., 0., 0.],\n          ...,\n          [1., 0., 0., ..., 0., 0., 0.],\n          [1., 0., 0., ..., 0., 0., 0.],\n          [1., 0., 0., ..., 0., 0., 0.]],\n \n         [[1., 0., 0., ..., 0., 0., 0.],\n          [1., 0., 0., ..., 0., 0., 0.],\n          [1., 0., 0., ..., 0., 0., 0.],\n          ...,\n          [1., 0., 0., ..., 0., 0., 0.],\n          [1., 0., 0., ..., 0., 0., 0.],\n          [1., 0., 0., ..., 0., 0., 0.]],\n \n         [[1., 0., 0., ..., 0., 0., 0.],\n          [1., 0., 0., ..., 0., 0., 0.],\n          [1., 0., 0., ..., 0., 0., 0.],\n          ...,\n          [1., 0., 0., ..., 0., 0., 0.],\n          [1., 0., 0., ..., 0., 0., 0.],\n          [1., 0., 0., ..., 0., 0., 0.]],\n \n         ...,\n \n         [[1., 0., 0., ..., 0., 0., 0.],\n          [1., 0., 0., ..., 0., 0., 0.],\n          [1., 0., 1., ..., 0., 0., 0.],\n          ...,\n          [1., 0., 0., ..., 0., 0., 0.],\n          [1., 0., 0., ..., 0., 0., 0.],\n          [1., 0., 0., ..., 0., 0., 0.]],\n \n         [[1., 0., 0., ..., 0., 0., 0.],\n          [1., 0., 1., ..., 0., 0., 0.],\n          [1., 1., 0., ..., 0., 0., 0.],\n          ...,\n          [1., 0., 0., ..., 0., 0., 0.],\n          [1., 0., 0., ..., 0., 0., 0.],\n          [1., 0., 0., ..., 0., 0., 0.]],\n \n         [[1., 0., 0., ..., 0., 0., 0.],\n          [1., 0., 0., ..., 0., 0., 0.],\n          [1., 0., 0., ..., 0., 0., 0.],\n          ...,\n          [1., 0., 0., ..., 0., 0., 0.],\n          [1., 0., 0., ..., 0., 0., 0.],\n          [1., 0., 0., ..., 0., 0., 0.]]],\n \n \n        ...,\n \n \n        [[[1., 0., 0., ..., 0., 0., 0.],\n          [1., 0., 0., ..., 0., 0., 0.],\n          [1., 0., 0., ..., 0., 0., 0.],\n          ...,\n          [1., 0., 0., ..., 0., 0., 0.],\n          [1., 0., 0., ..., 0., 0., 0.],\n          [1., 0., 0., ..., 0., 0., 0.]],\n \n         [[1., 0., 0., ..., 0., 0., 0.],\n          [1., 0., 0., ..., 0., 0., 0.],\n          [1., 0., 0., ..., 0., 0., 0.],\n          ...,\n          [1., 0., 0., ..., 0., 0., 0.],\n          [1., 0., 0., ..., 0., 0., 0.],\n          [1., 0., 0., ..., 0., 0., 0.]],\n \n         [[1., 0., 0., ..., 0., 0., 0.],\n          [1., 0., 0., ..., 0., 0., 0.],\n          [1., 0., 0., ..., 0., 0., 0.],\n          ...,\n          [1., 0., 0., ..., 0., 0., 0.],\n          [1., 0., 0., ..., 0., 0., 0.],\n          [1., 0., 0., ..., 0., 0., 0.]],\n \n         ...,\n \n         [[1., 0., 0., ..., 0., 0., 0.],\n          [1., 0., 0., ..., 0., 0., 0.],\n          [1., 0., 0., ..., 0., 0., 0.],\n          ...,\n          [1., 0., 0., ..., 0., 0., 0.],\n          [1., 0., 0., ..., 0., 0., 0.],\n          [1., 0., 0., ..., 0., 0., 0.]],\n \n         [[1., 0., 0., ..., 0., 0., 0.],\n          [1., 0., 0., ..., 0., 0., 0.],\n          [1., 0., 0., ..., 0., 0., 0.],\n          ...,\n          [1., 0., 0., ..., 0., 0., 0.],\n          [1., 0., 0., ..., 0., 0., 0.],\n          [1., 0., 0., ..., 0., 0., 0.]],\n \n         [[1., 0., 0., ..., 0., 0., 0.],\n          [1., 0., 0., ..., 0., 0., 0.],\n          [1., 0., 0., ..., 0., 0., 0.],\n          ...,\n          [1., 0., 0., ..., 0., 0., 0.],\n          [1., 0., 0., ..., 0., 0., 0.],\n          [1., 0., 0., ..., 0., 0., 0.]]],\n \n \n        [[[1., 0., 0., ..., 0., 0., 0.],\n          [1., 0., 0., ..., 0., 0., 0.],\n          [1., 0., 0., ..., 0., 0., 0.],\n          ...,\n          [1., 0., 0., ..., 0., 0., 0.],\n          [1., 0., 0., ..., 0., 0., 0.],\n          [1., 0., 0., ..., 0., 0., 0.]],\n \n         [[1., 0., 0., ..., 0., 0., 0.],\n          [1., 0., 0., ..., 0., 0., 0.],\n          [1., 0., 0., ..., 0., 0., 0.],\n          ...,\n          [1., 0., 0., ..., 0., 0., 0.],\n          [1., 0., 0., ..., 0., 0., 0.],\n          [1., 0., 0., ..., 0., 0., 0.]],\n \n         [[1., 0., 0., ..., 0., 0., 0.],\n          [1., 0., 0., ..., 0., 0., 0.],\n          [1., 0., 0., ..., 0., 0., 0.],\n          ...,\n          [1., 0., 0., ..., 0., 0., 0.],\n          [1., 0., 0., ..., 0., 0., 0.],\n          [1., 0., 0., ..., 0., 0., 0.]],\n \n         ...,\n \n         [[1., 0., 0., ..., 0., 0., 0.],\n          [1., 0., 0., ..., 0., 0., 0.],\n          [1., 0., 1., ..., 0., 0., 0.],\n          ...,\n          [1., 0., 0., ..., 0., 0., 0.],\n          [1., 0., 0., ..., 0., 0., 0.],\n          [1., 0., 0., ..., 0., 0., 0.]],\n \n         [[1., 0., 0., ..., 0., 0., 0.],\n          [1., 0., 0., ..., 0., 0., 0.],\n          [1., 0., 0., ..., 0., 0., 0.],\n          ...,\n          [1., 0., 0., ..., 0., 0., 0.],\n          [1., 0., 0., ..., 0., 0., 0.],\n          [1., 0., 0., ..., 0., 0., 0.]],\n \n         [[1., 0., 0., ..., 0., 0., 0.],\n          [1., 0., 0., ..., 0., 0., 0.],\n          [1., 0., 0., ..., 0., 0., 0.],\n          ...,\n          [1., 0., 0., ..., 0., 0., 0.],\n          [1., 0., 0., ..., 0., 0., 0.],\n          [1., 0., 0., ..., 0., 0., 0.]]],\n \n \n        [[[1., 0., 0., ..., 0., 0., 0.],\n          [1., 0., 0., ..., 0., 0., 0.],\n          [1., 0., 0., ..., 0., 0., 0.],\n          ...,\n          [1., 0., 0., ..., 0., 0., 0.],\n          [1., 0., 0., ..., 0., 0., 0.],\n          [1., 0., 0., ..., 0., 0., 0.]],\n \n         [[1., 0., 0., ..., 0., 0., 0.],\n          [1., 0., 0., ..., 0., 0., 0.],\n          [1., 0., 0., ..., 0., 0., 0.],\n          ...,\n          [1., 0., 0., ..., 0., 0., 0.],\n          [1., 0., 0., ..., 0., 0., 0.],\n          [1., 0., 0., ..., 0., 0., 0.]],\n \n         [[1., 0., 0., ..., 0., 0., 0.],\n          [1., 0., 0., ..., 0., 0., 0.],\n          [1., 0., 0., ..., 0., 0., 0.],\n          ...,\n          [1., 0., 0., ..., 0., 0., 0.],\n          [1., 0., 0., ..., 0., 0., 0.],\n          [1., 0., 0., ..., 0., 0., 0.]],\n \n         ...,\n \n         [[1., 0., 0., ..., 0., 0., 0.],\n          [1., 0., 0., ..., 0., 0., 0.],\n          [1., 0., 0., ..., 0., 0., 0.],\n          ...,\n          [1., 0., 0., ..., 0., 0., 0.],\n          [1., 0., 0., ..., 0., 0., 0.],\n          [1., 0., 0., ..., 0., 0., 0.]],\n \n         [[1., 0., 0., ..., 0., 0., 0.],\n          [1., 0., 0., ..., 0., 0., 0.],\n          [1., 0., 0., ..., 0., 0., 0.],\n          ...,\n          [1., 0., 1., ..., 0., 0., 0.],\n          [1., 0., 0., ..., 0., 0., 0.],\n          [1., 0., 0., ..., 0., 0., 0.]],\n \n         [[1., 0., 0., ..., 0., 0., 0.],\n          [1., 0., 0., ..., 0., 0., 0.],\n          [1., 0., 0., ..., 0., 0., 0.],\n          ...,\n          [1., 0., 0., ..., 0., 0., 0.],\n          [1., 0., 0., ..., 0., 0., 0.],\n          [1., 0., 0., ..., 0., 0., 0.]]]]),\n array([0.21374578, 0.        , 0.        , 0.        , 0.21374578,\n        0.        , 0.        , 0.        , 0.        , 0.25758687,\n        0.23104906, 0.20707555, 0.24964436, 0.        , 0.22567085,\n        0.13411983, 0.30740662, 0.23104906, 0.39320824, 0.11552453,\n        0.1732868 , 0.43984289, 0.5259779 , 0.33085766, 0.37119561]))"
     },
     "execution_count": 7,
     "metadata": {},
     "output_type": "execute_result"
    }
   ],
   "source": [
    "game_map = map_game(history, chess.WHITE)\n",
    "game_map"
   ],
   "metadata": {
    "collapsed": false
   }
  },
  {
   "cell_type": "code",
   "execution_count": 8,
   "outputs": [],
   "source": [
    "input_dim = (8, 8, 37)"
   ],
   "metadata": {
    "collapsed": false
   }
  },
  {
   "cell_type": "code",
   "execution_count": 9,
   "outputs": [],
   "source": [
    "def cnn_lstm(input_dim, dropout=0.1):\n",
    "\n",
    "    # Input data type\n",
    "    dtype = 'float32'\n",
    "\n",
    "    # ---- Network model ----\n",
    "    input_data = Input(name='input', shape=input_dim, dtype=dtype)\n",
    "\n",
    "    x = Masking(mask_value=-1)(input_data)\n",
    "\n",
    "    x = Conv2D(filters=128, kernel_size=3, name='conv_1')(x)\n",
    "    x = BatchNormalization(name='norm_1')(x)\n",
    "    x = Activation('relu', name='activation_1')(x)\n",
    "    x = Dropout(dropout, name='dropout_1')(x)\n",
    "\n",
    "    x = Conv2D(filters=256, kernel_size=3, name='conv_2')(x)\n",
    "    x = BatchNormalization(name='norm_2')(x)\n",
    "    x = Activation('relu', name='activation_2')(x)\n",
    "    x = Dropout(dropout, name='dropout_2')(x)\n",
    "\n",
    "    x = Reshape((-1, 4*4*256), name='reshape_1')(x)\n",
    "\n",
    "    x = LSTM(128, activation='relu', return_sequences=True,\n",
    "             dropout=dropout, name='lstm_1')(x)\n",
    "    x = LSTM(128, activation='relu', return_sequences=True,\n",
    "             dropout=dropout, name='lstm_2')(x)\n",
    "\n",
    "    x = Dense(units=64, activation='relu', name='fc')(x)\n",
    "    x = Dropout(dropout, name='dropout_3')(x)\n",
    "\n",
    "    y_pred = Dense(1, name='output', activation='sigmoid')(x)\n",
    "\n",
    "    network_model = Model(inputs=input_data, outputs=y_pred)\n",
    "\n",
    "    return network_model"
   ],
   "metadata": {
    "collapsed": false
   }
  },
  {
   "cell_type": "code",
   "execution_count": 10,
   "outputs": [],
   "source": [
    "def masked_squared_error(y_true, y_pred):\n",
    "    mask = tf.where(tf.not_equal(y_true, -1.0))\n",
    "    return tf.reduce_mean(tf.square(tf.gather(y_true, mask) - tf.gather(y_pred, mask)))"
   ],
   "metadata": {
    "collapsed": false
   }
  },
  {
   "cell_type": "code",
   "execution_count": 11,
   "outputs": [
    {
     "name": "stdout",
     "output_type": "stream",
     "text": [
      "WARNING:tensorflow:\n",
      "The following Variables were used a Lambda layer's call (tf.compat.v1.nn.fused_batch_norm), but\n",
      "are not present in its tracked objects:\n",
      "  <tf.Variable 'norm_1/gamma:0' shape=(128,) dtype=float32>\n",
      "  <tf.Variable 'norm_1/beta:0' shape=(128,) dtype=float32>\n",
      "It is possible that this is intended behavior, but it is more likely\n",
      "an omission. This is a strong indication that this layer should be\n",
      "formulated as a subclassed Layer rather than a Lambda layer.\n",
      "WARNING:tensorflow:\n",
      "The following Variables were used a Lambda layer's call (tf.compat.v1.nn.fused_batch_norm_1), but\n",
      "are not present in its tracked objects:\n",
      "  <tf.Variable 'norm_2/gamma:0' shape=(256,) dtype=float32>\n",
      "  <tf.Variable 'norm_2/beta:0' shape=(256,) dtype=float32>\n",
      "It is possible that this is intended behavior, but it is more likely\n",
      "an omission. This is a strong indication that this layer should be\n",
      "formulated as a subclassed Layer rather than a Lambda layer.\n"
     ]
    }
   ],
   "source": [
    "model = cnn_lstm((None, *input_dim))\n",
    "\n",
    "model.compile(loss=masked_squared_error, optimizer='adam')"
   ],
   "metadata": {
    "collapsed": false
   }
  },
  {
   "cell_type": "code",
   "execution_count": 12,
   "outputs": [
    {
     "data": {
      "text/plain": "<tensorflow.python.checkpoint.checkpoint.CheckpointLoadStatus at 0x23218ebed70>"
     },
     "execution_count": 12,
     "metadata": {},
     "output_type": "execute_result"
    }
   ],
   "source": [
    "model.load_weights('uncertainty_model/model2/weights')"
   ],
   "metadata": {
    "collapsed": false
   }
  },
  {
   "cell_type": "code",
   "execution_count": 46,
   "outputs": [],
   "source": [
    "from sklearn.model_selection import train_test_split\n",
    "\n",
    "data_path = 'game_logs/historical_games_extended'\n",
    "\n",
    "files = os.listdir(data_path)\n",
    "files.sort()\n",
    "\n",
    "train_data, test_data = train_test_split(files, test_size=0.2, random_state=42)\n",
    "\n",
    "pd.DataFrame({'files': train_data}).to_csv('uncertainty_model/train_data.csv')\n",
    "pd.DataFrame({'files': test_data}).to_csv('uncertainty_model/test_data.csv')"
   ],
   "metadata": {
    "collapsed": false
   }
  },
  {
   "cell_type": "code",
   "execution_count": 47,
   "outputs": [],
   "source": [
    "from tensorflow.python.keras.utils import data_utils\n",
    "\n",
    "class GameHistorySequence(data_utils.Sequence):\n",
    "    def __init__(self, files, data_path, batch_size=1, shuffle = True):\n",
    "        self.data_path = data_path\n",
    "        self.shuffle = shuffle\n",
    "        self.batch_size = batch_size\n",
    "        self.files = files\n",
    "        if self.shuffle:\n",
    "            np.random.shuffle(self.files)\n",
    "\n",
    "    def __len__(self):\n",
    "        return int(np.ceil(len(self.files) / self.batch_size))\n",
    "\n",
    "    def __getitem__(self, idx):\n",
    "        files = self.files[idx*self.batch_size: min((idx+1)*self.batch_size, len(self.files))]\n",
    "\n",
    "        histories = [GameHistoryExtended.from_file(os.path.join(self.data_path, file_name)) for file_name in files]\n",
    "\n",
    "        data = [map_game(game, color) for game in histories for color in chess.COLORS]\n",
    "        data = [e for e in data if e is not None]\n",
    "\n",
    "        X, y = [e[0] for e in data], [e[1] for e in data]\n",
    "\n",
    "        x_len = max(len(x) for x in X)\n",
    "        X = np.array([np.concatenate((x, -1 * np.ones((x_len-x.shape[0], *x.shape[1:])))) for x in X])\n",
    "        y = np.array([np.concatenate((e, -1 * np.ones((x_len-len(e))))) for e in y])\n",
    "\n",
    "        return X, y\n",
    "\n",
    "    def on_epoch_end(self):\n",
    "        if self.shuffle:\n",
    "            np.random.shuffle(self.files)\n"
   ],
   "metadata": {
    "collapsed": false
   }
  },
  {
   "cell_type": "code",
   "execution_count": 48,
   "outputs": [],
   "source": [
    "training_sequence = GameHistorySequence(train_data, data_path, 16)\n",
    "test_sequence = GameHistorySequence(test_data, data_path, 16, shuffle=False)"
   ],
   "metadata": {
    "collapsed": false
   }
  },
  {
   "cell_type": "code",
   "execution_count": 49,
   "outputs": [],
   "source": [
    "from tensorflow.python.keras.callbacks import ModelCheckpoint\n",
    "\n",
    "checkpoint = ModelCheckpoint('uncertainty_model/model2', 'val_loss', verbose=1, save_best_only=True, mode='max')"
   ],
   "metadata": {
    "collapsed": false
   }
  },
  {
   "cell_type": "code",
   "execution_count": 50,
   "outputs": [
    {
     "name": "stdout",
     "output_type": "stream",
     "text": [
      "Epoch 1/2\n",
      "282/282 [==============================] - 2842s 10s/step - loss: 0.4620\n",
      "WARNING:tensorflow:Can save best model only with val_loss available, skipping.\n",
      "Epoch 2/2\n",
      "282/282 [==============================] - 2785s 10s/step - loss: 0.4412\n",
      "WARNING:tensorflow:Can save best model only with val_loss available, skipping.\n"
     ]
    }
   ],
   "source": [
    "hist = model.fit(training_sequence, epochs=2, callbacks=checkpoint)"
   ],
   "metadata": {
    "collapsed": false
   }
  },
  {
   "cell_type": "code",
   "execution_count": 21,
   "outputs": [
    {
     "name": "stdout",
     "output_type": "stream",
     "text": [
      "Epoch 1/2\n",
      "282/282 [==============================] - 2794s 10s/step - loss: 0.6130\n",
      "WARNING:tensorflow:Can save best model only with val_loss available, skipping.\n",
      "Epoch 2/2\n",
      "282/282 [==============================] - 2771s 10s/step - loss: 0.6049\n",
      "WARNING:tensorflow:Can save best model only with val_loss available, skipping.\n"
     ]
    }
   ],
   "source": [
    "hist = model.fit(training_sequence, epochs=2, callbacks=checkpoint)"
   ],
   "metadata": {
    "collapsed": false
   }
  },
  {
   "cell_type": "code",
   "execution_count": 20,
   "outputs": [
    {
     "ename": "AssertionError",
     "evalue": "Tried to export a function which references an 'untracked' resource. TensorFlow objects (e.g. tf.Variable) captured by functions must be 'tracked' by assigning them to an attribute of a tracked object or assigned to an attribute of the main object directly. See the information below:\n\tFunction name = b'__inference_signature_wrapper_6332'\n\tCaptured Tensor = <ResourceHandle(name=\"Resource-2-at-0x1c61d010330\", device=\"/job:localhost/replica:0/task:0/device:GPU:0\", container=\"Anonymous\", type=\"class tensorflow::Var\", dtype and shapes : \"[ DType enum: 1, Shape: [128] ]\")>\n\tTrackable referencing this tensor = <tf.Variable 'norm_1/gamma:0' shape=(128,) dtype=float32>\n\tInternal Tensor = Tensor(\"6290:0\", shape=(), dtype=resource)",
     "output_type": "error",
     "traceback": [
      "\u001B[1;31m---------------------------------------------------------------------------\u001B[0m",
      "\u001B[1;31mAssertionError\u001B[0m                            Traceback (most recent call last)",
      "Cell \u001B[1;32mIn[20], line 1\u001B[0m\n\u001B[1;32m----> 1\u001B[0m \u001B[43mmodel\u001B[49m\u001B[38;5;241;43m.\u001B[39;49m\u001B[43msave\u001B[49m\u001B[43m(\u001B[49m\u001B[38;5;124;43m'\u001B[39;49m\u001B[38;5;124;43muncertainty_model/model1\u001B[39;49m\u001B[38;5;124;43m'\u001B[39;49m\u001B[43m)\u001B[49m\n",
      "File \u001B[1;32m~\\AppData\\Roaming\\Python\\Python310\\site-packages\\tensorflow\\python\\keras\\engine\\training.py:2132\u001B[0m, in \u001B[0;36mModel.save\u001B[1;34m(self, filepath, overwrite, include_optimizer, save_format, signatures, options, save_traces)\u001B[0m\n\u001B[0;32m   2090\u001B[0m \u001B[38;5;250m\u001B[39m\u001B[38;5;124;03m\"\"\"Saves the model to Tensorflow SavedModel or a single HDF5 file.\u001B[39;00m\n\u001B[0;32m   2091\u001B[0m \n\u001B[0;32m   2092\u001B[0m \u001B[38;5;124;03mPlease see `tf.keras.models.save_model` or the\u001B[39;00m\n\u001B[1;32m   (...)\u001B[0m\n\u001B[0;32m   2129\u001B[0m \u001B[38;5;124;03m```\u001B[39;00m\n\u001B[0;32m   2130\u001B[0m \u001B[38;5;124;03m\"\"\"\u001B[39;00m\n\u001B[0;32m   2131\u001B[0m \u001B[38;5;66;03m# pylint: enable=line-too-long\u001B[39;00m\n\u001B[1;32m-> 2132\u001B[0m \u001B[43msave\u001B[49m\u001B[38;5;241;43m.\u001B[39;49m\u001B[43msave_model\u001B[49m\u001B[43m(\u001B[49m\u001B[38;5;28;43mself\u001B[39;49m\u001B[43m,\u001B[49m\u001B[43m \u001B[49m\u001B[43mfilepath\u001B[49m\u001B[43m,\u001B[49m\u001B[43m \u001B[49m\u001B[43moverwrite\u001B[49m\u001B[43m,\u001B[49m\u001B[43m \u001B[49m\u001B[43minclude_optimizer\u001B[49m\u001B[43m,\u001B[49m\u001B[43m \u001B[49m\u001B[43msave_format\u001B[49m\u001B[43m,\u001B[49m\n\u001B[0;32m   2133\u001B[0m \u001B[43m                \u001B[49m\u001B[43msignatures\u001B[49m\u001B[43m,\u001B[49m\u001B[43m \u001B[49m\u001B[43moptions\u001B[49m\u001B[43m,\u001B[49m\u001B[43m \u001B[49m\u001B[43msave_traces\u001B[49m\u001B[43m)\u001B[49m\n",
      "File \u001B[1;32m~\\AppData\\Roaming\\Python\\Python310\\site-packages\\tensorflow\\python\\keras\\saving\\save.py:150\u001B[0m, in \u001B[0;36msave_model\u001B[1;34m(model, filepath, overwrite, include_optimizer, save_format, signatures, options, save_traces)\u001B[0m\n\u001B[0;32m    148\u001B[0m \u001B[38;5;28;01melse\u001B[39;00m:\n\u001B[0;32m    149\u001B[0m   \u001B[38;5;28;01mwith\u001B[39;00m generic_utils\u001B[38;5;241m.\u001B[39mSharedObjectSavingScope():\n\u001B[1;32m--> 150\u001B[0m     \u001B[43msaved_model_save\u001B[49m\u001B[38;5;241;43m.\u001B[39;49m\u001B[43msave\u001B[49m\u001B[43m(\u001B[49m\u001B[43mmodel\u001B[49m\u001B[43m,\u001B[49m\u001B[43m \u001B[49m\u001B[43mfilepath\u001B[49m\u001B[43m,\u001B[49m\u001B[43m \u001B[49m\u001B[43moverwrite\u001B[49m\u001B[43m,\u001B[49m\u001B[43m \u001B[49m\u001B[43minclude_optimizer\u001B[49m\u001B[43m,\u001B[49m\n\u001B[0;32m    151\u001B[0m \u001B[43m                          \u001B[49m\u001B[43msignatures\u001B[49m\u001B[43m,\u001B[49m\u001B[43m \u001B[49m\u001B[43moptions\u001B[49m\u001B[43m,\u001B[49m\u001B[43m \u001B[49m\u001B[43msave_traces\u001B[49m\u001B[43m)\u001B[49m\n",
      "File \u001B[1;32m~\\AppData\\Roaming\\Python\\Python310\\site-packages\\tensorflow\\python\\keras\\saving\\saved_model\\save.py:89\u001B[0m, in \u001B[0;36msave\u001B[1;34m(model, filepath, overwrite, include_optimizer, signatures, options, save_traces)\u001B[0m\n\u001B[0;32m     87\u001B[0m \u001B[38;5;28;01mwith\u001B[39;00m K\u001B[38;5;241m.\u001B[39mdeprecated_internal_learning_phase_scope(\u001B[38;5;241m0\u001B[39m):\n\u001B[0;32m     88\u001B[0m   \u001B[38;5;28;01mwith\u001B[39;00m utils\u001B[38;5;241m.\u001B[39mkeras_option_scope(save_traces):\n\u001B[1;32m---> 89\u001B[0m     saved_nodes, node_paths \u001B[38;5;241m=\u001B[39m \u001B[43msave_lib\u001B[49m\u001B[38;5;241;43m.\u001B[39;49m\u001B[43msave_and_return_nodes\u001B[49m\u001B[43m(\u001B[49m\n\u001B[0;32m     90\u001B[0m \u001B[43m        \u001B[49m\u001B[43mmodel\u001B[49m\u001B[43m,\u001B[49m\u001B[43m \u001B[49m\u001B[43mfilepath\u001B[49m\u001B[43m,\u001B[49m\u001B[43m \u001B[49m\u001B[43msignatures\u001B[49m\u001B[43m,\u001B[49m\u001B[43m \u001B[49m\u001B[43moptions\u001B[49m\u001B[43m)\u001B[49m\n\u001B[0;32m     92\u001B[0m   \u001B[38;5;66;03m# Save all metadata to a separate file in the SavedModel directory.\u001B[39;00m\n\u001B[0;32m     93\u001B[0m   metadata \u001B[38;5;241m=\u001B[39m generate_keras_metadata(saved_nodes, node_paths)\n",
      "File \u001B[1;32m~\\AppData\\Roaming\\Python\\Python310\\site-packages\\tensorflow\\python\\saved_model\\save.py:1268\u001B[0m, in \u001B[0;36msave_and_return_nodes\u001B[1;34m(obj, export_dir, signatures, options, experimental_skip_checkpoint)\u001B[0m\n\u001B[0;32m   1264\u001B[0m saved_model \u001B[38;5;241m=\u001B[39m saved_model_pb2\u001B[38;5;241m.\u001B[39mSavedModel()\n\u001B[0;32m   1265\u001B[0m meta_graph_def \u001B[38;5;241m=\u001B[39m saved_model\u001B[38;5;241m.\u001B[39mmeta_graphs\u001B[38;5;241m.\u001B[39madd()\n\u001B[0;32m   1267\u001B[0m _, exported_graph, object_saver, asset_info, saved_nodes, node_paths \u001B[38;5;241m=\u001B[39m (\n\u001B[1;32m-> 1268\u001B[0m     \u001B[43m_build_meta_graph\u001B[49m\u001B[43m(\u001B[49m\u001B[43mobj\u001B[49m\u001B[43m,\u001B[49m\u001B[43m \u001B[49m\u001B[43msignatures\u001B[49m\u001B[43m,\u001B[49m\u001B[43m \u001B[49m\u001B[43moptions\u001B[49m\u001B[43m,\u001B[49m\u001B[43m \u001B[49m\u001B[43mmeta_graph_def\u001B[49m\u001B[43m)\u001B[49m)\n\u001B[0;32m   1269\u001B[0m saved_model\u001B[38;5;241m.\u001B[39msaved_model_schema_version \u001B[38;5;241m=\u001B[39m (\n\u001B[0;32m   1270\u001B[0m     constants\u001B[38;5;241m.\u001B[39mSAVED_MODEL_SCHEMA_VERSION)\n\u001B[0;32m   1272\u001B[0m \u001B[38;5;66;03m# Write the checkpoint, copy assets into the assets directory, and write out\u001B[39;00m\n\u001B[0;32m   1273\u001B[0m \u001B[38;5;66;03m# the SavedModel proto itself.\u001B[39;00m\n",
      "File \u001B[1;32m~\\AppData\\Roaming\\Python\\Python310\\site-packages\\tensorflow\\python\\saved_model\\save.py:1441\u001B[0m, in \u001B[0;36m_build_meta_graph\u001B[1;34m(obj, signatures, options, meta_graph_def)\u001B[0m\n\u001B[0;32m   1414\u001B[0m \u001B[38;5;250m\u001B[39m\u001B[38;5;124;03m\"\"\"Creates a MetaGraph under a save context.\u001B[39;00m\n\u001B[0;32m   1415\u001B[0m \n\u001B[0;32m   1416\u001B[0m \u001B[38;5;124;03mArgs:\u001B[39;00m\n\u001B[1;32m   (...)\u001B[0m\n\u001B[0;32m   1437\u001B[0m \u001B[38;5;124;03m  saveable_view.node_paths: _SaveableView paths.\u001B[39;00m\n\u001B[0;32m   1438\u001B[0m \u001B[38;5;124;03m\"\"\"\u001B[39;00m\n\u001B[0;32m   1440\u001B[0m \u001B[38;5;28;01mwith\u001B[39;00m save_context\u001B[38;5;241m.\u001B[39msave_context(options):\n\u001B[1;32m-> 1441\u001B[0m   \u001B[38;5;28;01mreturn\u001B[39;00m \u001B[43m_build_meta_graph_impl\u001B[49m\u001B[43m(\u001B[49m\u001B[43mobj\u001B[49m\u001B[43m,\u001B[49m\u001B[43m \u001B[49m\u001B[43msignatures\u001B[49m\u001B[43m,\u001B[49m\u001B[43m \u001B[49m\u001B[43moptions\u001B[49m\u001B[43m,\u001B[49m\u001B[43m \u001B[49m\u001B[43mmeta_graph_def\u001B[49m\u001B[43m)\u001B[49m\n",
      "File \u001B[1;32m~\\AppData\\Roaming\\Python\\Python310\\site-packages\\tensorflow\\python\\saved_model\\save.py:1396\u001B[0m, in \u001B[0;36m_build_meta_graph_impl\u001B[1;34m(obj, signatures, options, meta_graph_def)\u001B[0m\n\u001B[0;32m   1394\u001B[0m saveable_view \u001B[38;5;241m=\u001B[39m _SaveableView(augmented_graph_view, options)\n\u001B[0;32m   1395\u001B[0m object_saver \u001B[38;5;241m=\u001B[39m checkpoint\u001B[38;5;241m.\u001B[39mTrackableSaver(augmented_graph_view)\n\u001B[1;32m-> 1396\u001B[0m asset_info, exported_graph \u001B[38;5;241m=\u001B[39m \u001B[43m_fill_meta_graph_def\u001B[49m\u001B[43m(\u001B[49m\n\u001B[0;32m   1397\u001B[0m \u001B[43m    \u001B[49m\u001B[43mmeta_graph_def\u001B[49m\u001B[43m,\u001B[49m\u001B[43m \u001B[49m\u001B[43msaveable_view\u001B[49m\u001B[43m,\u001B[49m\u001B[43m \u001B[49m\u001B[43msignatures\u001B[49m\u001B[43m,\u001B[49m\u001B[43m \u001B[49m\u001B[43moptions\u001B[49m\u001B[38;5;241;43m.\u001B[39;49m\u001B[43mnamespace_whitelist\u001B[49m\u001B[43m,\u001B[49m\n\u001B[0;32m   1398\u001B[0m \u001B[43m    \u001B[49m\u001B[43moptions\u001B[49m\u001B[38;5;241;43m.\u001B[39;49m\u001B[43mexperimental_custom_gradients\u001B[49m\u001B[43m)\u001B[49m\n\u001B[0;32m   1399\u001B[0m \u001B[38;5;28;01mif\u001B[39;00m options\u001B[38;5;241m.\u001B[39mfunction_aliases:\n\u001B[0;32m   1400\u001B[0m   function_aliases \u001B[38;5;241m=\u001B[39m meta_graph_def\u001B[38;5;241m.\u001B[39mmeta_info_def\u001B[38;5;241m.\u001B[39mfunction_aliases\n",
      "File \u001B[1;32m~\\AppData\\Roaming\\Python\\Python310\\site-packages\\tensorflow\\python\\saved_model\\save.py:794\u001B[0m, in \u001B[0;36m_fill_meta_graph_def\u001B[1;34m(meta_graph_def, saveable_view, signature_functions, namespace_whitelist, save_custom_gradients)\u001B[0m\n\u001B[0;32m    792\u001B[0m \u001B[38;5;28;01mwith\u001B[39;00m exported_graph\u001B[38;5;241m.\u001B[39mas_default():\n\u001B[0;32m    793\u001B[0m   object_map, tensor_map, asset_info \u001B[38;5;241m=\u001B[39m saveable_view\u001B[38;5;241m.\u001B[39mmap_resources()\n\u001B[1;32m--> 794\u001B[0m   signatures \u001B[38;5;241m=\u001B[39m \u001B[43m_generate_signatures\u001B[49m\u001B[43m(\u001B[49m\u001B[43msignature_functions\u001B[49m\u001B[43m,\u001B[49m\u001B[43m \u001B[49m\u001B[43mobject_map\u001B[49m\u001B[43m)\u001B[49m\n\u001B[0;32m    795\u001B[0m   \u001B[38;5;28;01mif\u001B[39;00m save_custom_gradients:\n\u001B[0;32m    796\u001B[0m     _trace_gradient_functions(exported_graph, saveable_view)\n",
      "File \u001B[1;32m~\\AppData\\Roaming\\Python\\Python310\\site-packages\\tensorflow\\python\\saved_model\\save.py:605\u001B[0m, in \u001B[0;36m_generate_signatures\u001B[1;34m(signature_functions, object_map)\u001B[0m\n\u001B[0;32m    601\u001B[0m     argument_inputs \u001B[38;5;241m=\u001B[39m function\u001B[38;5;241m.\u001B[39mgraph\u001B[38;5;241m.\u001B[39minputs\n\u001B[0;32m    602\u001B[0m   mapped_inputs, exterior_argument_placeholders \u001B[38;5;241m=\u001B[39m (\n\u001B[0;32m    603\u001B[0m       _map_function_arguments_to_created_inputs(argument_inputs,\n\u001B[0;32m    604\u001B[0m                                                 signature_key, function\u001B[38;5;241m.\u001B[39mname))\n\u001B[1;32m--> 605\u001B[0m   outputs \u001B[38;5;241m=\u001B[39m \u001B[43mobject_map\u001B[49m\u001B[43m[\u001B[49m\u001B[43mfunction\u001B[49m\u001B[43m]\u001B[49m\u001B[43m(\u001B[49m\u001B[38;5;241;43m*\u001B[39;49m\u001B[43mmapped_inputs\u001B[49m\u001B[43m)\u001B[49m\n\u001B[0;32m    606\u001B[0m   signatures[signature_key] \u001B[38;5;241m=\u001B[39m signature_def_utils\u001B[38;5;241m.\u001B[39mbuild_signature_def(\n\u001B[0;32m    607\u001B[0m       _tensor_dict_to_tensorinfo(exterior_argument_placeholders),\n\u001B[0;32m    608\u001B[0m       _tensor_dict_to_tensorinfo(outputs),\n\u001B[0;32m    609\u001B[0m       method_name\u001B[38;5;241m=\u001B[39msignature_constants\u001B[38;5;241m.\u001B[39mPREDICT_METHOD_NAME)\n\u001B[0;32m    610\u001B[0m \u001B[38;5;28;01mreturn\u001B[39;00m signatures\n",
      "File \u001B[1;32m~\\AppData\\Roaming\\Python\\Python310\\site-packages\\tensorflow\\python\\eager\\function_saved_model_utils.py:107\u001B[0m, in \u001B[0;36mExportedConcreteFunction.__call__\u001B[1;34m(self, *args, **kwargs)\u001B[0m\n\u001B[0;32m    103\u001B[0m \u001B[38;5;28;01mdef\u001B[39;00m \u001B[38;5;21m__call__\u001B[39m(\u001B[38;5;28mself\u001B[39m, \u001B[38;5;241m*\u001B[39margs, \u001B[38;5;241m*\u001B[39m\u001B[38;5;241m*\u001B[39mkwargs):\n\u001B[0;32m    104\u001B[0m   _, _, filtered_flat_args \u001B[38;5;241m=\u001B[39m (\n\u001B[0;32m    105\u001B[0m       \u001B[38;5;28mself\u001B[39m\u001B[38;5;241m.\u001B[39mfunction\u001B[38;5;241m.\u001B[39m_function_spec\u001B[38;5;241m.\u001B[39mcanonicalize_function_inputs(\u001B[38;5;241m*\u001B[39margs,\n\u001B[0;32m    106\u001B[0m                                                                 \u001B[38;5;241m*\u001B[39m\u001B[38;5;241m*\u001B[39mkwargs))\n\u001B[1;32m--> 107\u001B[0m   export_captures \u001B[38;5;241m=\u001B[39m \u001B[43m_map_captures_to_created_tensors\u001B[49m\u001B[43m(\u001B[49m\n\u001B[0;32m    108\u001B[0m \u001B[43m      \u001B[49m\u001B[38;5;28;43mself\u001B[39;49m\u001B[38;5;241;43m.\u001B[39;49m\u001B[43mfunction\u001B[49m\u001B[38;5;241;43m.\u001B[39;49m\u001B[43mgraph\u001B[49m\u001B[38;5;241;43m.\u001B[39;49m\u001B[43mcaptures\u001B[49m\u001B[43m,\u001B[49m\u001B[43m \u001B[49m\u001B[38;5;28;43mself\u001B[39;49m\u001B[38;5;241;43m.\u001B[39;49m\u001B[43mtensor_map\u001B[49m\u001B[43m,\u001B[49m\u001B[43m \u001B[49m\u001B[38;5;28;43mself\u001B[39;49m\u001B[38;5;241;43m.\u001B[39;49m\u001B[43mfunction\u001B[49m\u001B[43m)\u001B[49m\n\u001B[0;32m    109\u001B[0m   \u001B[38;5;28;01mreturn\u001B[39;00m \u001B[38;5;28mself\u001B[39m\u001B[38;5;241m.\u001B[39mfunction\u001B[38;5;241m.\u001B[39m_call_flat(filtered_flat_args, export_captures)\n",
      "File \u001B[1;32m~\\AppData\\Roaming\\Python\\Python310\\site-packages\\tensorflow\\python\\eager\\function_saved_model_utils.py:136\u001B[0m, in \u001B[0;36m_map_captures_to_created_tensors\u001B[1;34m(original_captures, tensor_map, function)\u001B[0m\n\u001B[0;32m    134\u001B[0m   mapped_resource \u001B[38;5;241m=\u001B[39m tensor_map\u001B[38;5;241m.\u001B[39mget(exterior, \u001B[38;5;28;01mNone\u001B[39;00m)\n\u001B[0;32m    135\u001B[0m   \u001B[38;5;28;01mif\u001B[39;00m mapped_resource \u001B[38;5;129;01mis\u001B[39;00m \u001B[38;5;28;01mNone\u001B[39;00m:\n\u001B[1;32m--> 136\u001B[0m     \u001B[43m_raise_untracked_capture_error\u001B[49m\u001B[43m(\u001B[49m\u001B[43mfunction\u001B[49m\u001B[38;5;241;43m.\u001B[39;49m\u001B[43mname\u001B[49m\u001B[43m,\u001B[49m\u001B[43m \u001B[49m\u001B[43mexterior\u001B[49m\u001B[43m,\u001B[49m\u001B[43m \u001B[49m\u001B[43minterior\u001B[49m\u001B[43m)\u001B[49m\n\u001B[0;32m    137\u001B[0m   export_captures\u001B[38;5;241m.\u001B[39mappend(mapped_resource)\n\u001B[0;32m    138\u001B[0m \u001B[38;5;28;01mreturn\u001B[39;00m export_captures\n",
      "File \u001B[1;32m~\\AppData\\Roaming\\Python\\Python310\\site-packages\\tensorflow\\python\\eager\\function_saved_model_utils.py:160\u001B[0m, in \u001B[0;36m_raise_untracked_capture_error\u001B[1;34m(function_name, capture, internal_capture, node_path)\u001B[0m\n\u001B[0;32m    158\u001B[0m \u001B[38;5;28;01mif\u001B[39;00m internal_capture \u001B[38;5;129;01mis\u001B[39;00m \u001B[38;5;129;01mnot\u001B[39;00m \u001B[38;5;28;01mNone\u001B[39;00m:\n\u001B[0;32m    159\u001B[0m   msg \u001B[38;5;241m+\u001B[39m\u001B[38;5;241m=\u001B[39m \u001B[38;5;124mf\u001B[39m\u001B[38;5;124m\"\u001B[39m\u001B[38;5;130;01m\\n\u001B[39;00m\u001B[38;5;130;01m\\t\u001B[39;00m\u001B[38;5;124mInternal Tensor = \u001B[39m\u001B[38;5;132;01m{\u001B[39;00minternal_capture\u001B[38;5;132;01m}\u001B[39;00m\u001B[38;5;124m\"\u001B[39m\n\u001B[1;32m--> 160\u001B[0m \u001B[38;5;28;01mraise\u001B[39;00m \u001B[38;5;167;01mAssertionError\u001B[39;00m(msg)\n",
      "\u001B[1;31mAssertionError\u001B[0m: Tried to export a function which references an 'untracked' resource. TensorFlow objects (e.g. tf.Variable) captured by functions must be 'tracked' by assigning them to an attribute of a tracked object or assigned to an attribute of the main object directly. See the information below:\n\tFunction name = b'__inference_signature_wrapper_6332'\n\tCaptured Tensor = <ResourceHandle(name=\"Resource-2-at-0x1c61d010330\", device=\"/job:localhost/replica:0/task:0/device:GPU:0\", container=\"Anonymous\", type=\"class tensorflow::Var\", dtype and shapes : \"[ DType enum: 1, Shape: [128] ]\")>\n\tTrackable referencing this tensor = <tf.Variable 'norm_1/gamma:0' shape=(128,) dtype=float32>\n\tInternal Tensor = Tensor(\"6290:0\", shape=(), dtype=resource)"
     ]
    }
   ],
   "source": [
    "model.save('uncertainty_model/model1')"
   ],
   "metadata": {
    "collapsed": false
   }
  },
  {
   "cell_type": "code",
   "execution_count": 51,
   "outputs": [],
   "source": [
    "model.save_weights('uncertainty_model/model2/weights')"
   ],
   "metadata": {
    "collapsed": false
   }
  },
  {
   "cell_type": "code",
   "execution_count": 52,
   "outputs": [],
   "source": [
    "import pickle\n",
    "with open('uncertainty_model/model2/train_hist', 'wb') as file_pi:\n",
    "    pickle.dump(hist.history, file_pi)"
   ],
   "metadata": {
    "collapsed": false
   }
  },
  {
   "cell_type": "code",
   "execution_count": 16,
   "outputs": [
    {
     "name": "stdout",
     "output_type": "stream",
     "text": [
      "Model: \"model\"\n",
      "_________________________________________________________________\n",
      "Layer (type)                 Output Shape              Param #   \n",
      "=================================================================\n",
      "input (InputLayer)           [(None, None, 8, 8, 37)]  0         \n",
      "_________________________________________________________________\n",
      "masking (Masking)            (None, None, 8, 8, 37)    0         \n",
      "_________________________________________________________________\n",
      "conv_1 (Conv2D)              (None, None, 6, 6, 128)   42752     \n",
      "_________________________________________________________________\n",
      "tf.cast (TFOpLambda)         (None, None, 6, 6, 128)   0         \n",
      "_________________________________________________________________\n",
      "tf.compat.v1.nn.fused_batch_ ((None, None, 6, 6, 128), 0         \n",
      "_________________________________________________________________\n",
      "activation_1 (Activation)    (None, None, 6, 6, 128)   0         \n",
      "_________________________________________________________________\n",
      "dropout_1 (Dropout)          (None, None, 6, 6, 128)   0         \n",
      "_________________________________________________________________\n",
      "conv_2 (Conv2D)              (None, None, 4, 4, 256)   295168    \n",
      "_________________________________________________________________\n",
      "tf.cast_1 (TFOpLambda)       (None, None, 4, 4, 256)   0         \n",
      "_________________________________________________________________\n",
      "tf.compat.v1.nn.fused_batch_ ((None, None, 4, 4, 256), 0         \n",
      "_________________________________________________________________\n",
      "activation_2 (Activation)    (None, None, 4, 4, 256)   0         \n",
      "_________________________________________________________________\n",
      "dropout_2 (Dropout)          (None, None, 4, 4, 256)   0         \n",
      "_________________________________________________________________\n",
      "reshape_1 (Reshape)          (None, None, 4096)        0         \n",
      "_________________________________________________________________\n",
      "lstm_1 (LSTM)                (None, None, 128)         2163200   \n",
      "_________________________________________________________________\n",
      "lstm_2 (LSTM)                (None, None, 128)         131584    \n",
      "_________________________________________________________________\n",
      "fc (Dense)                   (None, None, 64)          8256      \n",
      "_________________________________________________________________\n",
      "dropout_3 (Dropout)          (None, None, 64)          0         \n",
      "_________________________________________________________________\n",
      "output (Dense)               (None, None, 1)           65        \n",
      "=================================================================\n",
      "Total params: 2,641,025\n",
      "Trainable params: 2,641,025\n",
      "Non-trainable params: 0\n",
      "_________________________________________________________________\n"
     ]
    }
   ],
   "source": [
    "model.summary()"
   ],
   "metadata": {
    "collapsed": false
   }
  },
  {
   "cell_type": "code",
   "execution_count": 23,
   "outputs": [
    {
     "data": {
      "text/plain": "array([0.21374578, 0.        , 0.        , 0.        , 0.21374578,\n       0.        , 0.        , 0.        , 0.        , 0.25758687,\n       0.23104906, 0.20707555, 0.24964436, 0.        , 0.22567085,\n       0.13411983, 0.30740662, 0.23104906, 0.39320824, 0.11552453,\n       0.1732868 , 0.43984289, 0.5259779 , 0.33085766, 0.37119561])"
     },
     "execution_count": 23,
     "metadata": {},
     "output_type": "execute_result"
    }
   ],
   "source": [
    "game_map[1]"
   ],
   "metadata": {
    "collapsed": false
   }
  },
  {
   "cell_type": "code",
   "execution_count": 41,
   "outputs": [
    {
     "data": {
      "text/plain": "array([[[0.09206896]]], dtype=float32)"
     },
     "execution_count": 41,
     "metadata": {},
     "output_type": "execute_result"
    }
   ],
   "source": [
    "model.predict(np.array([game_map[0][0:1]]))"
   ],
   "metadata": {
    "collapsed": false
   }
  },
  {
   "cell_type": "code",
   "execution_count": 56,
   "outputs": [
    {
     "data": {
      "text/plain": "array([[[9.65302661e-02],\n        [1.84438210e-02],\n        [1.08479137e-04],\n        ...,\n        [0.00000000e+00],\n        [0.00000000e+00],\n        [0.00000000e+00]],\n\n       [[1.46613687e-01],\n        [1.66606791e-02],\n        [3.14770907e-04],\n        ...,\n        [0.00000000e+00],\n        [0.00000000e+00],\n        [0.00000000e+00]],\n\n       [[9.01013464e-02],\n        [1.72635075e-02],\n        [8.06811586e-05],\n        ...,\n        [0.00000000e+00],\n        [0.00000000e+00],\n        [0.00000000e+00]],\n\n       ...,\n\n       [[1.16691105e-01],\n        [1.57225449e-02],\n        [8.28637785e-05],\n        ...,\n        [0.00000000e+00],\n        [0.00000000e+00],\n        [0.00000000e+00]],\n\n       [[8.83309990e-02],\n        [1.63214374e-02],\n        [6.22796797e-05],\n        ...,\n        [0.00000000e+00],\n        [0.00000000e+00],\n        [0.00000000e+00]],\n\n       [[1.09717838e-01],\n        [1.31376991e-02],\n        [2.62407644e-04],\n        ...,\n        [0.00000000e+00],\n        [0.00000000e+00],\n        [0.00000000e+00]]], dtype=float32)"
     },
     "execution_count": 56,
     "metadata": {},
     "output_type": "execute_result"
    }
   ],
   "source": [
    "model.predict(test_sample)"
   ],
   "metadata": {
    "collapsed": false
   }
  }
 ],
 "metadata": {
  "kernelspec": {
   "display_name": "Python 3",
   "language": "python",
   "name": "python3"
  },
  "language_info": {
   "codemirror_mode": {
    "name": "ipython",
    "version": 2
   },
   "file_extension": ".py",
   "mimetype": "text/x-python",
   "name": "python",
   "nbconvert_exporter": "python",
   "pygments_lexer": "ipython2",
   "version": "2.7.6"
  }
 },
 "nbformat": 4,
 "nbformat_minor": 0
}
