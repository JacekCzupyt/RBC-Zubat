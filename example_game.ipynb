{
 "cells": [
  {
   "cell_type": "code",
   "execution_count": 2,
   "outputs": [],
   "source": [
    "from reconchess import play_local_game\n",
    "from reconchess.bots.trout_bot import TroutBot\n",
    "\n",
    "from strangefish.my_strategy import OracleFish\n",
    "from strangefish.utilities.replay_window import MyReplayWindow"
   ],
   "metadata": {
    "collapsed": false
   }
  },
  {
   "cell_type": "code",
   "execution_count": 3,
   "outputs": [
    {
     "name": "stdout",
     "output_type": "stream",
     "text": [
      "616   02:37:59  🍀  Starting a new game as black against TroutBot.\n"
     ]
    },
    {
     "name": "stderr",
     "output_type": "stream",
     "text": [
      "Sense quantity evaluation: 100%|██████████| 21/21 [00:00<00:00, 344.27boards/s]\n",
      "black Filtering 21 boards by sense results: 100%|██████████| 21/21 [00:00<?, ?boards/s]\n",
      "Evaluating best moves for each board: 100%|██████████| 13/13 [00:05<00:00,  2.39it/s]\n",
      "black Filtering 13 boards by move results: 100%|██████████| 13/13 [00:00<00:00, 13004.04boards/s]\n",
      "Sense quantity evaluation: 100%|██████████| 239/239 [00:00<00:00, 7709.58boards/s]\n",
      "black Filtering 239 boards by sense results: 100%|██████████| 239/239 [00:00<00:00, 239074.33boards/s]\n",
      "Evaluating best moves for each board: 100%|██████████| 14/14 [00:05<00:00,  2.49it/s]\n",
      "black Filtering 14 boards by move results: 100%|██████████| 14/14 [00:00<?, ?boards/s]\n",
      "Sense quantity evaluation: 100%|██████████| 304/304 [00:00<00:00, 7600.19boards/s]\n",
      "black Filtering 304 boards by sense results: 100%|██████████| 304/304 [00:00<00:00, 303371.02boards/s]\n",
      "Evaluating best moves for each board: 100%|██████████| 1/1 [00:00<00:00,  2.49it/s]\n",
      "black Filtering 1 boards by move results: 100%|██████████| 1/1 [00:00<?, ?boards/s]\n",
      "Sense quantity evaluation: 100%|██████████| 36/36 [00:00<00:00, 7201.90boards/s]\n",
      "black Filtering 36 boards by sense results: 100%|██████████| 36/36 [00:00<00:00, 35976.87boards/s]\n",
      "Evaluating best moves for each board: 100%|██████████| 1/1 [00:00<00:00,  2.49it/s]\n",
      "black Filtering 1 boards by move results: 100%|██████████| 1/1 [00:00<00:00, 1000.79boards/s]\n",
      "Sense quantity evaluation: 100%|██████████| 29/29 [00:00<00:00, 7252.25boards/s]\n",
      "black Filtering 29 boards by sense results: 100%|██████████| 29/29 [00:00<00:00, 29029.79boards/s]\n",
      "Evaluating best moves for each board: 100%|██████████| 14/14 [00:05<00:00,  2.49it/s]\n",
      "black Filtering 14 boards by move results: 100%|██████████| 14/14 [00:00<?, ?boards/s]\n",
      "black Filtering 1 boards by sense results: 100%|██████████| 1/1 [00:00<?, ?boards/s]\n",
      "Evaluating best moves for each board: 100%|██████████| 1/1 [00:00<00:00,  2.48it/s]\n",
      "black Filtering 1 boards by move results: 100%|██████████| 1/1 [00:00<?, ?boards/s]\n",
      "black Filtering 1 boards by sense results: 100%|██████████| 1/1 [00:00<?, ?boards/s]\n",
      "Evaluating best moves for each board: 100%|██████████| 1/1 [00:00<00:00,  2.48it/s]\n",
      "black Filtering 1 boards by move results: 100%|██████████| 1/1 [00:00<00:00, 1000.07boards/s]\n",
      "Sense quantity evaluation: 100%|██████████| 31/31 [00:00<00:00, 6203.11boards/s]\n",
      "black Filtering 31 boards by sense results: 100%|██████████| 31/31 [00:00<00:00, 31009.64boards/s]\n",
      "Evaluating best moves for each board: 100%|██████████| 5/5 [00:02<00:00,  2.49it/s]\n",
      "black Filtering 5 boards by move results: 100%|██████████| 5/5 [00:00<?, ?boards/s]\n",
      "Sense quantity evaluation: 100%|██████████| 146/146 [00:00<00:00, 7684.67boards/s]\n",
      "black Filtering 146 boards by sense results: 100%|██████████| 146/146 [00:00<00:00, 145871.46boards/s]\n",
      "Evaluating best moves for each board: 100%|██████████| 16/16 [00:06<00:00,  2.49it/s]\n",
      "black Filtering 16 boards by move results: 100%|██████████| 16/16 [00:00<?, ?boards/s]\n",
      "Sense quantity evaluation: 100%|██████████| 2/2 [00:00<00:00, 2002.53boards/s]\n",
      "black Filtering 2 boards by sense results: 100%|██████████| 2/2 [00:00<?, ?boards/s]\n",
      "Evaluating best moves for each board: 100%|██████████| 1/1 [00:00<00:00,  2.49it/s]\n",
      "black Filtering 1 boards by move results: 100%|██████████| 1/1 [00:00<00:00, 1001.98boards/s]\n",
      "Sense quantity evaluation: 100%|██████████| 37/37 [00:00<00:00, 7401.95boards/s]\n",
      "black Filtering 37 boards by sense results: 100%|██████████| 37/37 [00:00<00:00, 36958.62boards/s]\n",
      "Evaluating best moves for each board: 100%|██████████| 15/15 [00:06<00:00,  2.49it/s]\n",
      "black Filtering 15 boards by move results: 100%|██████████| 15/15 [00:00<?, ?boards/s]\n",
      "Sense quantity evaluation: 100%|██████████| 3/3 [00:00<?, ?boards/s]\n",
      "black Filtering 3 boards by sense results: 100%|██████████| 3/3 [00:00<?, ?boards/s]\n",
      "Evaluating best moves for each board: 100%|██████████| 1/1 [00:00<00:00,  2.49it/s]\n",
      "black Filtering 1 boards by move results: 100%|██████████| 1/1 [00:00<?, ?boards/s]\n",
      "Sense quantity evaluation: 100%|██████████| 44/44 [00:00<00:00, 7332.70boards/s]\n",
      "black Filtering 44 boards by sense results: 100%|██████████| 44/44 [00:00<?, ?boards/s]\n",
      "Evaluating best moves for each board: 100%|██████████| 20/20 [00:08<00:00,  2.49it/s]\n",
      "black Filtering 20 boards by move results: 100%|██████████| 20/20 [00:00<?, ?boards/s]\n",
      "Sense quantity evaluation: 100%|██████████| 309/309 [00:00<00:00, 7725.19boards/s]\n",
      "black Filtering 309 boards by sense results: 100%|██████████| 309/309 [00:00<00:00, 308507.48boards/s]\n",
      "Evaluating best moves for each board: 100%|██████████| 1/1 [00:00<00:00,  2.48it/s]\n",
      "black Filtering 1 boards by move results: 100%|██████████| 1/1 [00:00<?, ?boards/s]\n",
      "black Filtering 1 boards by sense results: 100%|██████████| 1/1 [00:00<?, ?boards/s]\n",
      "Evaluating best moves for each board: 100%|██████████| 1/1 [00:00<00:00,  2.49it/s]\n",
      "black Filtering 1 boards by move results: 100%|██████████| 1/1 [00:00<?, ?boards/s]\n",
      "Sense quantity evaluation: 100%|██████████| 32/32 [00:00<00:00, 8003.44boards/s]\n",
      "black Filtering 32 boards by sense results: 100%|██████████| 32/32 [00:00<?, ?boards/s]\n",
      "Evaluating best moves for each board: 100%|██████████| 12/12 [00:04<00:00,  2.49it/s]\n",
      "black Filtering 12 boards by move results: 100%|██████████| 12/12 [00:00<00:00, 12020.93boards/s]\n",
      "black Filtering 1 boards by sense results: 100%|██████████| 1/1 [00:00<?, ?boards/s]\n",
      "Evaluating best moves for each board: 100%|██████████| 1/1 [00:00<00:00,  2.49it/s]\n",
      "black Filtering 1 boards by move results: 100%|██████████| 1/1 [00:00<00:00, 999.60boards/s]\n",
      "Sense quantity evaluation: 100%|██████████| 18/18 [00:00<00:00, 6005.69boards/s]\n",
      "black Filtering 18 boards by sense results: 100%|██████████| 18/18 [00:00<?, ?boards/s]\n",
      "Evaluating best moves for each board: 100%|██████████| 1/1 [00:00<00:00,  2.49it/s]\n",
      "black Filtering 1 boards by move results: 100%|██████████| 1/1 [00:00<?, ?boards/s]\n",
      "Sense quantity evaluation: 100%|██████████| 23/23 [00:00<00:00, 5753.85boards/s]\n",
      "black Filtering 23 boards by sense results: 100%|██████████| 23/23 [00:00<?, ?boards/s]\n",
      "Evaluating best moves for each board: 100%|██████████| 5/5 [00:02<00:00,  2.49it/s]\n",
      "black Filtering 5 boards by move results: 100%|██████████| 5/5 [00:00<?, ?boards/s]\n",
      "Sense quantity evaluation: 100%|██████████| 103/103 [00:00<00:00, 7356.80boards/s]\n",
      "black Filtering 103 boards by sense results: 100%|██████████| 103/103 [00:00<?, ?boards/s]\n",
      "Evaluating best moves for each board: 100%|██████████| 1/1 [00:00<00:00,  2.48it/s]\n",
      "black Filtering 1 boards by move results: 100%|██████████| 1/1 [00:00<00:00, 1000.07boards/s]\n",
      "Sense quantity evaluation: 100%|██████████| 33/33 [00:00<00:00, 8252.07boards/s]\n",
      "black Filtering 33 boards by sense results: 100%|██████████| 33/33 [00:00<?, ?boards/s]\n",
      "Evaluating best moves for each board: 100%|██████████| 4/4 [00:01<00:00,  2.49it/s]\n",
      "black Filtering 4 boards by move results: 100%|██████████| 4/4 [00:00<00:00, 4004.11boards/s]\n",
      "Sense quantity evaluation: 100%|██████████| 84/84 [00:00<00:00, 7636.09boards/s]\n",
      "black Filtering 84 boards by sense results: 100%|██████████| 84/84 [00:00<?, ?boards/s]\n",
      "Evaluating best moves for each board: 100%|██████████| 12/12 [00:04<00:00,  2.49it/s]\n",
      "black Filtering 12 boards by move results: 100%|██████████| 12/12 [00:00<00:00, 11963.79boards/s]\n",
      "Sense quantity evaluation: 100%|██████████| 343/343 [00:00<00:00, 7977.01boards/s]\n",
      "black Filtering 343 boards by sense results: 100%|██████████| 343/343 [00:00<00:00, 342534.83boards/s]\n",
      "Evaluating best moves for each board: 100%|██████████| 75/75 [00:30<00:00,  2.49it/s]\n",
      "black Filtering 75 boards by move results: 100%|██████████| 75/75 [00:00<00:00, 25009.76boards/s]\n",
      "Sense quantity evaluation: 100%|██████████| 1008/1008 [00:00<00:00, 7753.90boards/s]\n",
      "black Filtering 1008 boards by sense results: 100%|██████████| 1008/1008 [00:00<00:00, 251988.22boards/s]\n",
      "Evaluating best moves for each board: 100%|██████████| 114/114 [00:45<00:00,  2.49it/s]\n",
      "black Filtering 114 boards by move results: 100%|██████████| 114/114 [00:00<00:00, 38032.98boards/s]\n",
      "Sense quantity evaluation: 100%|██████████| 1012/1012 [00:00<00:00, 7666.78boards/s]\n",
      "black Filtering 1012 boards by sense results: 100%|██████████| 1012/1012 [00:00<00:00, 337330.97boards/s]\n",
      "Repopulating exhausted board set:  99%|█████████▉| 102/103 [00:00<00:00, 1214.29it/s]\n",
      "Evaluating best moves for each board: 100%|██████████| 36/36 [00:14<00:00,  2.49it/s]\n",
      "black Filtering 36 boards by move results: 100%|██████████| 36/36 [00:00<00:00, 36019.79boards/s]\n",
      "Sense quantity evaluation: 100%|██████████| 1014/1014 [00:00<00:00, 7984.20boards/s]\n",
      "black Filtering 1014 boards by sense results: 100%|██████████| 1014/1014 [00:00<00:00, 338024.50boards/s]\n",
      "Evaluating best moves for each board: 100%|██████████| 98/98 [00:39<00:00,  2.49it/s]\n",
      "black Filtering 98 boards by move results: 100%|██████████| 98/98 [00:00<00:00, 32679.42boards/s]\n",
      "Sense quantity evaluation: 100%|██████████| 68/68 [00:00<00:00, 7556.70boards/s]\n",
      "black Filtering 68 boards by sense results: 100%|██████████| 68/68 [00:00<?, ?boards/s]\n",
      "Repopulating exhausted board set: 100%|██████████| 1/1 [00:00<00:00, 1001.03it/s]\n",
      "Evaluating best moves for each board: 100%|██████████| 2/2 [00:00<00:00,  2.49it/s]\n",
      "black Filtering 2 boards by move results: 100%|██████████| 2/2 [00:00<00:00, 2003.97boards/s]\n",
      "Sense quantity evaluation: 100%|██████████| 75/75 [00:00<00:00, 8334.38boards/s]\n",
      "black Filtering 75 boards by sense results: 100%|██████████| 75/75 [00:00<00:00, 75005.44boards/s]\n",
      "Evaluating best moves for each board: 100%|██████████| 24/24 [00:09<00:00,  2.49it/s]\n",
      "black Filtering 24 boards by move results: 100%|██████████| 24/24 [00:00<00:00, 24001.74boards/s]\n",
      "Sense quantity evaluation: 100%|██████████| 566/566 [00:00<00:00, 7861.13boards/s]\n",
      "black Filtering 566 boards by sense results: 100%|██████████| 566/566 [00:00<00:00, 283358.33boards/s]\n",
      "Evaluating best moves for each board: 100%|██████████| 123/123 [00:49<00:00,  2.49it/s]\n",
      "black Filtering 123 boards by move results: 100%|██████████| 123/123 [00:00<00:00, 41002.97boards/s]\n",
      "Sense quantity evaluation: 100%|██████████| 7/7 [00:00<00:00, 6995.50boards/s]\n",
      "black Filtering 7 boards by sense results: 100%|██████████| 7/7 [00:00<?, ?boards/s]\n",
      "Evaluating best moves for each board: 100%|██████████| 3/3 [00:01<00:00,  2.49it/s]\n",
      "black Filtering 3 boards by move results: 100%|██████████| 3/3 [00:00<?, ?boards/s]\n",
      "Sense quantity evaluation: 100%|██████████| 92/92 [00:00<00:00, 7668.59boards/s]\n",
      "black Filtering 92 boards by sense results: 100%|██████████| 92/92 [00:00<?, ?boards/s]\n",
      "Evaluating best moves for each board: 100%|██████████| 45/45 [00:18<00:00,  2.49it/s]\n",
      "black Filtering 45 boards by move results: 100%|██████████| 45/45 [00:00<00:00, 22517.74boards/s]\n",
      "Sense quantity evaluation: 100%|██████████| 525/525 [00:00<00:00, 7608.75boards/s]\n",
      "black Filtering 525 boards by sense results: 100%|██████████| 525/525 [00:00<00:00, 524412.86boards/s]\n",
      "Evaluating best moves for each board: 100%|██████████| 26/26 [00:10<00:00,  2.48it/s]\n",
      "black Filtering 26 boards by move results: 100%|██████████| 26/26 [00:00<00:00, 26020.50boards/s]\n"
     ]
    },
    {
     "name": "stdout",
     "output_type": "stream",
     "text": [
      "Stockfish Engine died\n"
     ]
    },
    {
     "name": "stderr",
     "output_type": "stream",
     "text": [
      "Sense quantity evaluation: 100%|██████████| 278/278 [00:00<00:00, 7316.09boards/s]\n",
      "black Filtering 278 boards by sense results: 100%|██████████| 278/278 [00:00<00:00, 139043.23boards/s]\n",
      "Evaluating best moves for each board: 100%|██████████| 95/95 [00:38<00:00,  2.49it/s]\n",
      "black Filtering 95 boards by move results: 100%|██████████| 95/95 [00:00<00:00, 47520.44boards/s]\n"
     ]
    },
    {
     "name": "stdout",
     "output_type": "stream",
     "text": [
      "Stockfish Engine died\n",
      "Stockfish Engine died\n"
     ]
    },
    {
     "name": "stderr",
     "output_type": "stream",
     "text": [
      "Sense quantity evaluation: 100%|██████████| 1002/1002 [00:00<00:00, 7533.93boards/s]\n",
      "black Filtering 1002 boards by sense results: 100%|██████████| 1002/1002 [00:00<00:00, 334183.57boards/s]\n",
      "Evaluating best moves for each board: 100%|██████████| 158/158 [00:00<00:00, 11288.26it/s]\n",
      "black Filtering 158 boards by move results: 100%|██████████| 158/158 [00:00<00:00, 157860.89boards/s]"
     ]
    },
    {
     "name": "stdout",
     "output_type": "stream",
     "text": [
      "616   02:43:44  🍀  I won by KING_CAPTURE\n"
     ]
    },
    {
     "name": "stderr",
     "output_type": "stream",
     "text": [
      "\n"
     ]
    }
   ],
   "source": [
    "winner_color, win_reason, game_history = play_local_game(\n",
    "    TroutBot(),\n",
    "    OracleFish(game_id=\"EXAMPLE\"),\n",
    ")"
   ],
   "metadata": {
    "collapsed": false
   }
  },
  {
   "cell_type": "code",
   "execution_count": 4,
   "outputs": [],
   "source": [
    "window = MyReplayWindow(game_history)\n",
    "while window.update():\n",
    "    window.draw()"
   ],
   "metadata": {
    "collapsed": false
   }
  },
  {
   "cell_type": "code",
   "execution_count": 5,
   "outputs": [],
   "source": [
    "game_history.save('game_logs/sample_game.log')"
   ],
   "metadata": {
    "collapsed": false
   }
  }
 ],
 "metadata": {
  "kernelspec": {
   "display_name": "Python 3",
   "language": "python",
   "name": "python3"
  },
  "language_info": {
   "codemirror_mode": {
    "name": "ipython",
    "version": 2
   },
   "file_extension": ".py",
   "mimetype": "text/x-python",
   "name": "python",
   "nbconvert_exporter": "python",
   "pygments_lexer": "ipython2",
   "version": "2.7.6"
  }
 },
 "nbformat": 4,
 "nbformat_minor": 0
}
