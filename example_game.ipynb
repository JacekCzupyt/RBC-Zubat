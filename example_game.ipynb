{
 "cells": [
  {
   "cell_type": "code",
   "execution_count": null,
   "outputs": [],
   "source": [
    "%load_ext autoreload\n",
    "%autoreload 2\n",
    "\n",
    "from reconchess import play_local_game\n",
    "from reconchess.bots.trout_bot import TroutBot\n",
    "from strangefish.strangefish_strategy import StrangeFish2\n",
    "\n",
    "from strangefish.zubat_strategy.zubat_strategy import Zubat\n",
    "\n",
    "from strangefish.models.uncertainty_lstm import uncertainty_lstm_1"
   ],
   "metadata": {
    "collapsed": false,
    "pycharm": {
     "is_executing": true
    }
   }
  },
  {
   "cell_type": "code",
   "execution_count": null,
   "outputs": [],
   "source": [
    "from reconchess import LocalGame\n",
    "\n",
    "game = LocalGame(seconds_per_player=9000)\n",
    "\n",
    "zubat = Zubat(uncertainty_model=uncertainty_lstm_1('uncertainty_model/uncertainty_lstm_3/weights'))\n",
    "strangefish = StrangeFish2(game_id=\"EXAMPLE\", log_to_file=False)\n",
    "\n",
    "try:\n",
    "    winner_color, win_reason, game_history = play_local_game(\n",
    "        strangefish,\n",
    "        zubat,\n",
    "        game=game,\n",
    "    )\n",
    "except Exception as e:\n",
    "    zubat.gameover_strategy()\n",
    "    raise e"
   ],
   "metadata": {
    "collapsed": false,
    "pycharm": {
     "is_executing": true
    }
   }
  },
  {
   "cell_type": "code",
   "execution_count": 7,
   "outputs": [],
   "source": [
    "zubat.gameover_strategy()"
   ],
   "metadata": {
    "collapsed": false
   }
  },
  {
   "cell_type": "code",
   "execution_count": null,
   "outputs": [],
   "source": [
    "game_history.save('game_logs/example_games/sample_game_4.log')"
   ],
   "metadata": {
    "collapsed": false
   }
  },
  {
   "cell_type": "code",
   "execution_count": null,
   "outputs": [],
   "source": [
    "from reconchess import GameHistory\n",
    "from strangefish.utilities.replay_window import MyReplayWindow\n",
    "\n",
    "game_history = GameHistory.from_file('game_logs/remote_test_games/batch_4/1691451636/game_1691451636.log')"
   ],
   "metadata": {
    "collapsed": false,
    "pycharm": {
     "is_executing": true
    }
   }
  },
  {
   "cell_type": "code",
   "execution_count": 14,
   "outputs": [],
   "source": [
    "window = MyReplayWindow(game_history)\n",
    "\n",
    "move = 0\n",
    "\n",
    "for i in range(move * 4):\n",
    "    window.go_forwards()\n",
    "\n",
    "while window.update():\n",
    "    window.draw()"
   ],
   "metadata": {
    "collapsed": false
   }
  },
  {
   "cell_type": "code",
   "execution_count": 6,
   "outputs": [],
   "source": [
    "game_history = game.get_game_history()"
   ],
   "metadata": {
    "collapsed": false
   }
  },
  {
   "cell_type": "code",
   "execution_count": 4,
   "outputs": [],
   "source": [
    "game_history.save('game_logs/example_games/sample_game_4.log')"
   ],
   "metadata": {
    "collapsed": false
   }
  }
 ],
 "metadata": {
  "kernelspec": {
   "display_name": "Python 3",
   "language": "python",
   "name": "python3"
  },
  "language_info": {
   "codemirror_mode": {
    "name": "ipython",
    "version": 2
   },
   "file_extension": ".py",
   "mimetype": "text/x-python",
   "name": "python",
   "nbconvert_exporter": "python",
   "pygments_lexer": "ipython2",
   "version": "2.7.6"
  }
 },
 "nbformat": 4,
 "nbformat_minor": 0
}
