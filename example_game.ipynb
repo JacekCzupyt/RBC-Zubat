{
 "cells": [
  {
   "cell_type": "code",
   "execution_count": 1,
   "outputs": [
    {
     "name": "stdout",
     "output_type": "stream",
     "text": [
      "pygame 2.1.2 (SDL 2.0.18, Python 3.10.9)\n",
      "Hello from the pygame community. https://www.pygame.org/contribute.html\n"
     ]
    },
    {
     "name": "stderr",
     "output_type": "stream",
     "text": [
      "C:\\Users\\User\\AppData\\Roaming\\Python\\Python310\\site-packages\\pydot.py:17: UserWarning: `pydot` could not import `dot_parser`, so `pydot` will be unable to parse DOT files. The error was:  No module named 'pyparsing'\n",
      "  warnings.warn(\n"
     ]
    }
   ],
   "source": [
    "%load_ext autoreload\n",
    "%autoreload 2\n",
    "\n",
    "from reconchess import play_local_game\n",
    "from reconchess.bots.trout_bot import TroutBot\n",
    "\n",
    "from strangefish.my_strategy import OracleFish\n",
    "from strangefish.utilities.replay_window import MyReplayWindow\n",
    "from strangefish.models.uncertainty_model import uncertainty_model_1"
   ],
   "metadata": {
    "collapsed": false
   }
  },
  {
   "cell_type": "code",
   "execution_count": 4,
   "outputs": [
    {
     "name": "stdout",
     "output_type": "stream",
     "text": [
      "WARNING:tensorflow:\n",
      "The following Variables were used a Lambda layer's call (tf.compat.v1.nn.fused_batch_norm_4), but\n",
      "are not present in its tracked objects:\n",
      "  <tf.Variable 'norm_1/gamma:0' shape=(128,) dtype=float32>\n",
      "  <tf.Variable 'norm_1/beta:0' shape=(128,) dtype=float32>\n",
      "It is possible that this is intended behavior, but it is more likely\n",
      "an omission. This is a strong indication that this layer should be\n",
      "formulated as a subclassed Layer rather than a Lambda layer.\n",
      "WARNING:tensorflow:\n",
      "The following Variables were used a Lambda layer's call (tf.compat.v1.nn.fused_batch_norm_5), but\n",
      "are not present in its tracked objects:\n",
      "  <tf.Variable 'norm_2/gamma:0' shape=(256,) dtype=float32>\n",
      "  <tf.Variable 'norm_2/beta:0' shape=(256,) dtype=float32>\n",
      "It is possible that this is intended behavior, but it is more likely\n",
      "an omission. This is a strong indication that this layer should be\n",
      "formulated as a subclassed Layer rather than a Lambda layer.\n",
      "28604 02:12:21  🔥  Starting a new game as black against TroutBot.\n",
      "28604 02:12:21  🔥  Starting a new game as black against TroutBot.\n",
      "28604 02:12:21  🔥  Starting a new game as black against TroutBot.\n"
     ]
    },
    {
     "name": "stderr",
     "output_type": "stream",
     "text": [
      "Sense quantity evaluation: 100%|██████████| 21/21 [00:00<00:00, 7001.62boards/s]\n",
      "black Filtering 21 boards by sense results: 100%|██████████| 21/21 [00:00<?, ?boards/s]\n",
      "Evaluating best moves for each board: 100%|██████████| 13/13 [00:05<00:00,  2.37it/s]\n",
      "black Filtering 13 boards by move results: 100%|██████████| 13/13 [00:00<00:00, 12973.10boards/s]\n",
      "Sense quantity evaluation: 100%|██████████| 234/234 [00:00<00:00, 7312.59boards/s]\n",
      "black Filtering 234 boards by sense results: 100%|██████████| 234/234 [00:00<00:00, 234632.35boards/s]\n",
      "Evaluating best moves for each board: 100%|██████████| 66/66 [00:26<00:00,  2.48it/s]\n",
      "black Filtering 66 boards by move results: 100%|██████████| 66/66 [00:00<00:00, 32955.25boards/s]\n",
      "Sense quantity evaluation: 100%|██████████| 1135/1135 [00:00<00:00, 7443.92boards/s]\n",
      "black Filtering 1135 boards by sense results: 100%|██████████| 1135/1135 [00:00<00:00, 378420.91boards/s]\n",
      "Evaluating best moves for each board: 100%|██████████| 13/13 [00:05<00:00,  2.48it/s]\n",
      "black Filtering 13 boards by move results: 100%|██████████| 13/13 [00:00<00:00, 13000.94boards/s]\n",
      "Sense quantity evaluation: 100%|██████████| 307/307 [00:00<00:00, 7309.51boards/s]\n",
      "black Filtering 307 boards by sense results: 100%|██████████| 307/307 [00:00<00:00, 307095.48boards/s]\n",
      "Evaluating best moves for each board:  20%|██        | 17/83 [00:07<00:28,  2.34it/s]\n"
     ]
    },
    {
     "name": "stdout",
     "output_type": "stream",
     "text": [
      "WARNING:tensorflow:Detecting that an object or model or tf.train.Checkpoint is being deleted with unrestored values. See the following logs for the specific values in question. To silence these warnings, use `status.expect_partial()`. See https://www.tensorflow.org/api_docs/python/tf/train/Checkpoint#restorefor details about the status object returned by the restore function.\n",
      "WARNING:tensorflow:Value in checkpoint could not be found in the restored object: (root).optimizer.iter\n",
      "WARNING:tensorflow:Value in checkpoint could not be found in the restored object: (root).optimizer.beta_1\n",
      "WARNING:tensorflow:Value in checkpoint could not be found in the restored object: (root).optimizer.beta_2\n",
      "WARNING:tensorflow:Value in checkpoint could not be found in the restored object: (root).optimizer.decay\n",
      "WARNING:tensorflow:Value in checkpoint could not be found in the restored object: (root).optimizer.learning_rate\n",
      "WARNING:tensorflow:Detecting that an object or model or tf.train.Checkpoint is being deleted with unrestored values. See the following logs for the specific values in question. To silence these warnings, use `status.expect_partial()`. See https://www.tensorflow.org/api_docs/python/tf/train/Checkpoint#restorefor details about the status object returned by the restore function.\n",
      "WARNING:tensorflow:Value in checkpoint could not be found in the restored object: (root).optimizer.iter\n",
      "WARNING:tensorflow:Value in checkpoint could not be found in the restored object: (root).optimizer.beta_1\n",
      "WARNING:tensorflow:Value in checkpoint could not be found in the restored object: (root).optimizer.beta_2\n",
      "WARNING:tensorflow:Value in checkpoint could not be found in the restored object: (root).optimizer.decay\n",
      "WARNING:tensorflow:Value in checkpoint could not be found in the restored object: (root).optimizer.learning_rate\n"
     ]
    },
    {
     "ename": "KeyboardInterrupt",
     "evalue": "",
     "output_type": "error",
     "traceback": [
      "\u001B[1;31m---------------------------------------------------------------------------\u001B[0m",
      "\u001B[1;31mKeyboardInterrupt\u001B[0m                         Traceback (most recent call last)",
      "Cell \u001B[1;32mIn[4], line 1\u001B[0m\n\u001B[1;32m----> 1\u001B[0m winner_color, win_reason, game_history \u001B[38;5;241m=\u001B[39m \u001B[43mplay_local_game\u001B[49m\u001B[43m(\u001B[49m\n\u001B[0;32m      2\u001B[0m \u001B[43m    \u001B[49m\u001B[43mTroutBot\u001B[49m\u001B[43m(\u001B[49m\u001B[43m)\u001B[49m\u001B[43m,\u001B[49m\n\u001B[0;32m      3\u001B[0m \u001B[43m    \u001B[49m\u001B[43mOracleFish\u001B[49m\u001B[43m(\u001B[49m\u001B[43mgame_id\u001B[49m\u001B[38;5;241;43m=\u001B[39;49m\u001B[38;5;124;43m\"\u001B[39;49m\u001B[38;5;124;43mEXAMPLE\u001B[39;49m\u001B[38;5;124;43m\"\u001B[39;49m\u001B[43m,\u001B[49m\u001B[43m \u001B[49m\u001B[43muncertainty_model\u001B[49m\u001B[38;5;241;43m=\u001B[39;49m\u001B[43muncertainty_model_1\u001B[49m\u001B[43m(\u001B[49m\u001B[38;5;124;43m'\u001B[39;49m\u001B[38;5;124;43muncertainty_model/model2/weights\u001B[39;49m\u001B[38;5;124;43m'\u001B[39;49m\u001B[43m)\u001B[49m\u001B[43m)\u001B[49m\u001B[43m,\u001B[49m\n\u001B[0;32m      4\u001B[0m \u001B[43m)\u001B[49m\n",
      "File \u001B[1;32m~\\AppData\\Roaming\\Python\\Python310\\site-packages\\reconchess\\play.py:37\u001B[0m, in \u001B[0;36mplay_local_game\u001B[1;34m(white_player, black_player, game, seconds_per_player)\u001B[0m\n\u001B[0;32m     34\u001B[0m game\u001B[38;5;241m.\u001B[39mstart()\n\u001B[0;32m     36\u001B[0m \u001B[38;5;28;01mwhile\u001B[39;00m \u001B[38;5;129;01mnot\u001B[39;00m game\u001B[38;5;241m.\u001B[39mis_over():\n\u001B[1;32m---> 37\u001B[0m     \u001B[43mplay_turn\u001B[49m\u001B[43m(\u001B[49m\u001B[43mgame\u001B[49m\u001B[43m,\u001B[49m\u001B[43m \u001B[49m\u001B[43mplayers\u001B[49m\u001B[43m[\u001B[49m\u001B[43mgame\u001B[49m\u001B[38;5;241;43m.\u001B[39;49m\u001B[43mturn\u001B[49m\u001B[43m]\u001B[49m\u001B[43m,\u001B[49m\u001B[43m \u001B[49m\u001B[43mend_turn_last\u001B[49m\u001B[38;5;241;43m=\u001B[39;49m\u001B[38;5;28;43;01mTrue\u001B[39;49;00m\u001B[43m)\u001B[49m\n\u001B[0;32m     39\u001B[0m game\u001B[38;5;241m.\u001B[39mend()\n\u001B[0;32m     40\u001B[0m winner_color \u001B[38;5;241m=\u001B[39m game\u001B[38;5;241m.\u001B[39mget_winner_color()\n",
      "File \u001B[1;32m~\\AppData\\Roaming\\Python\\Python310\\site-packages\\reconchess\\play.py:89\u001B[0m, in \u001B[0;36mplay_turn\u001B[1;34m(game, player, end_turn_last)\u001B[0m\n\u001B[0;32m     85\u001B[0m notify_opponent_move_results(game, player)\n\u001B[0;32m     87\u001B[0m play_sense(game, player, sense_actions, move_actions)\n\u001B[1;32m---> 89\u001B[0m \u001B[43mplay_move\u001B[49m\u001B[43m(\u001B[49m\u001B[43mgame\u001B[49m\u001B[43m,\u001B[49m\u001B[43m \u001B[49m\u001B[43mplayer\u001B[49m\u001B[43m,\u001B[49m\u001B[43m \u001B[49m\u001B[43mmove_actions\u001B[49m\u001B[43m,\u001B[49m\u001B[43m \u001B[49m\u001B[43mend_turn_last\u001B[49m\u001B[38;5;241;43m=\u001B[39;49m\u001B[43mend_turn_last\u001B[49m\u001B[43m)\u001B[49m\n",
      "File \u001B[1;32m~\\AppData\\Roaming\\Python\\Python310\\site-packages\\reconchess\\play.py:141\u001B[0m, in \u001B[0;36mplay_move\u001B[1;34m(game, player, move_actions, end_turn_last)\u001B[0m\n\u001B[0;32m    124\u001B[0m \u001B[38;5;28;01mdef\u001B[39;00m \u001B[38;5;21mplay_move\u001B[39m(game: Game, player: Player, move_actions: List[chess\u001B[38;5;241m.\u001B[39mMove], end_turn_last\u001B[38;5;241m=\u001B[39m\u001B[38;5;28;01mFalse\u001B[39;00m):\n\u001B[0;32m    125\u001B[0m \u001B[38;5;250m    \u001B[39m\u001B[38;5;124;03m\"\"\"\u001B[39;00m\n\u001B[0;32m    126\u001B[0m \u001B[38;5;124;03m    Runs the move phase for `player` in `game`. Does the following sequentially:\u001B[39;00m\n\u001B[0;32m    127\u001B[0m \n\u001B[1;32m   (...)\u001B[0m\n\u001B[0;32m    139\u001B[0m \u001B[38;5;124;03m    :param end_turn_last: Flag indicating whether to call :meth:`Game.end_turn` before or after :meth:`Player.handle_move_result`\u001B[39;00m\n\u001B[0;32m    140\u001B[0m \u001B[38;5;124;03m    \"\"\"\u001B[39;00m\n\u001B[1;32m--> 141\u001B[0m     move \u001B[38;5;241m=\u001B[39m \u001B[43mplayer\u001B[49m\u001B[38;5;241;43m.\u001B[39;49m\u001B[43mchoose_move\u001B[49m\u001B[43m(\u001B[49m\u001B[43mmove_actions\u001B[49m\u001B[43m,\u001B[49m\u001B[43m \u001B[49m\u001B[43mgame\u001B[49m\u001B[38;5;241;43m.\u001B[39;49m\u001B[43mget_seconds_left\u001B[49m\u001B[43m(\u001B[49m\u001B[43m)\u001B[49m\u001B[43m)\u001B[49m\n\u001B[0;32m    142\u001B[0m     requested_move, taken_move, opt_enemy_capture_square \u001B[38;5;241m=\u001B[39m game\u001B[38;5;241m.\u001B[39mmove(move)\n\u001B[0;32m    144\u001B[0m     \u001B[38;5;28;01mif\u001B[39;00m \u001B[38;5;129;01mnot\u001B[39;00m end_turn_last:\n",
      "File \u001B[1;32m~\\Documents\\Studia\\Masters Thesis\\reconchess-strangefish2\\strangefish\\strangefish_mht_core.py:216\u001B[0m, in \u001B[0;36mStrangeFish.choose_move\u001B[1;34m(self, move_actions, seconds_left)\u001B[0m\n\u001B[0;32m    208\u001B[0m \u001B[38;5;28mself\u001B[39m\u001B[38;5;241m.\u001B[39mlogger\u001B[38;5;241m.\u001B[39mdebug(\n\u001B[0;32m    209\u001B[0m     \u001B[38;5;124mf\u001B[39m\u001B[38;5;124m\"\u001B[39m\u001B[38;5;124mChoosing move for turn \u001B[39m\u001B[38;5;132;01m{\u001B[39;00m\u001B[38;5;28mself\u001B[39m\u001B[38;5;241m.\u001B[39mturn_num\u001B[38;5;132;01m}\u001B[39;00m\u001B[38;5;124m \u001B[39m\u001B[38;5;124m\"\u001B[39m\n\u001B[0;32m    210\u001B[0m     \u001B[38;5;124mf\u001B[39m\u001B[38;5;124m\"\u001B[39m\u001B[38;5;124mfrom \u001B[39m\u001B[38;5;132;01m{\u001B[39;00m\u001B[38;5;28mlen\u001B[39m(move_actions)\u001B[38;5;132;01m}\u001B[39;00m\u001B[38;5;124m moves over \u001B[39m\u001B[38;5;132;01m{\u001B[39;00m\u001B[38;5;28mlen\u001B[39m(\u001B[38;5;28mself\u001B[39m\u001B[38;5;241m.\u001B[39mboards)\u001B[38;5;132;01m}\u001B[39;00m\u001B[38;5;124m boards \u001B[39m\u001B[38;5;124m\"\u001B[39m\n\u001B[0;32m    211\u001B[0m     \u001B[38;5;124mf\u001B[39m\u001B[38;5;124m\"\u001B[39m\u001B[38;5;124mwith \u001B[39m\u001B[38;5;132;01m{\u001B[39;00mseconds_left\u001B[38;5;132;01m:\u001B[39;00m\u001B[38;5;124m.2f\u001B[39m\u001B[38;5;132;01m}\u001B[39;00m\u001B[38;5;124m seconds remaining.\u001B[39m\u001B[38;5;124m\"\u001B[39m\n\u001B[0;32m    212\u001B[0m )\n\u001B[0;32m    214\u001B[0m \u001B[38;5;28;01mwith\u001B[39;00m Timer(\u001B[38;5;28mself\u001B[39m\u001B[38;5;241m.\u001B[39mlogger\u001B[38;5;241m.\u001B[39mdebug, \u001B[38;5;124m\"\u001B[39m\u001B[38;5;124mchoosing move\u001B[39m\u001B[38;5;124m\"\u001B[39m):\n\u001B[0;32m    215\u001B[0m     \u001B[38;5;66;03m# Pass the needed information to the decision-making function to choose a move\u001B[39;00m\n\u001B[1;32m--> 216\u001B[0m     move_choice \u001B[38;5;241m=\u001B[39m \u001B[38;5;28;43mself\u001B[39;49m\u001B[38;5;241;43m.\u001B[39;49m\u001B[43mmove_strategy\u001B[49m\u001B[43m(\u001B[49m\u001B[43mmove_actions\u001B[49m\u001B[43m,\u001B[49m\u001B[43m \u001B[49m\u001B[43mseconds_left\u001B[49m\u001B[43m)\u001B[49m\n\u001B[0;32m    218\u001B[0m \u001B[38;5;28mself\u001B[39m\u001B[38;5;241m.\u001B[39mlogger\u001B[38;5;241m.\u001B[39mdebug(\u001B[38;5;124mf\u001B[39m\u001B[38;5;124m\"\u001B[39m\u001B[38;5;124mThe chosen move was \u001B[39m\u001B[38;5;132;01m{\u001B[39;00mmove_choice\u001B[38;5;132;01m}\u001B[39;00m\u001B[38;5;124m\"\u001B[39m)\n\u001B[0;32m    220\u001B[0m \u001B[38;5;66;03m# reconchess uses None for the null move, so correct the function output if that was our choice\u001B[39;00m\n",
      "File \u001B[1;32m~\\Documents\\Studia\\Masters Thesis\\reconchess-strangefish2\\strangefish\\my_strategy.py:144\u001B[0m, in \u001B[0;36mOracleFish.move_strategy\u001B[1;34m(self, moves, seconds_left)\u001B[0m\n\u001B[0;32m    141\u001B[0m move_votes \u001B[38;5;241m=\u001B[39m defaultdict(\u001B[38;5;28mfloat\u001B[39m)\n\u001B[0;32m    143\u001B[0m \u001B[38;5;28;01mfor\u001B[39;00m board \u001B[38;5;129;01min\u001B[39;00m tqdm(\u001B[38;5;28mself\u001B[39m\u001B[38;5;241m.\u001B[39mboards, desc\u001B[38;5;241m=\u001B[39m\u001B[38;5;124m'\u001B[39m\u001B[38;5;124mEvaluating best moves for each board\u001B[39m\u001B[38;5;124m'\u001B[39m):\n\u001B[1;32m--> 144\u001B[0m     move \u001B[38;5;241m=\u001B[39m \u001B[38;5;28;43mself\u001B[39;49m\u001B[38;5;241;43m.\u001B[39;49m\u001B[43m_get_engine_move\u001B[49m\u001B[43m(\u001B[49m\u001B[38;5;28;43mnext\u001B[39;49m\u001B[43m(\u001B[49m\u001B[38;5;28;43miter\u001B[39;49m\u001B[43m(\u001B[49m\u001B[38;5;28;43mself\u001B[39;49m\u001B[38;5;241;43m.\u001B[39;49m\u001B[43mboards\u001B[49m\u001B[43m)\u001B[49m\u001B[43m)\u001B[49m\u001B[43m)\u001B[49m\n\u001B[0;32m    145\u001B[0m     move_votes[move] \u001B[38;5;241m+\u001B[39m\u001B[38;5;241m=\u001B[39m \u001B[38;5;241m1\u001B[39m\n\u001B[0;32m    147\u001B[0m \u001B[38;5;28;01mif\u001B[39;00m \u001B[38;5;28mself\u001B[39m\u001B[38;5;241m.\u001B[39muncertainty_model:\n",
      "File \u001B[1;32m~\\Documents\\Studia\\Masters Thesis\\reconchess-strangefish2\\strangefish\\my_strategy.py:221\u001B[0m, in \u001B[0;36mOracleFish._get_engine_move\u001B[1;34m(self, board)\u001B[0m\n\u001B[0;32m    219\u001B[0m     replaced_ep_square, board\u001B[38;5;241m.\u001B[39mep_square \u001B[38;5;241m=\u001B[39m board\u001B[38;5;241m.\u001B[39mep_square, replaced_ep_square\n\u001B[0;32m    220\u001B[0m \u001B[38;5;66;03m# Then analyse the position\u001B[39;00m\n\u001B[1;32m--> 221\u001B[0m move \u001B[38;5;241m=\u001B[39m \u001B[38;5;28;43mself\u001B[39;49m\u001B[38;5;241;43m.\u001B[39;49m\u001B[43mengine\u001B[49m\u001B[38;5;241;43m.\u001B[39;49m\u001B[43mplay\u001B[49m\u001B[43m(\u001B[49m\u001B[43mboard\u001B[49m\u001B[43m,\u001B[49m\u001B[43m \u001B[49m\u001B[43mlimit\u001B[49m\u001B[38;5;241;43m=\u001B[39;49m\u001B[43mchess\u001B[49m\u001B[38;5;241;43m.\u001B[39;49m\u001B[43mengine\u001B[49m\u001B[38;5;241;43m.\u001B[39;49m\u001B[43mLimit\u001B[49m\u001B[43m(\u001B[49m\u001B[43mtime\u001B[49m\u001B[38;5;241;43m=\u001B[39;49m\u001B[38;5;241;43m0.4\u001B[39;49m\u001B[43m)\u001B[49m\u001B[43m)\u001B[49m\u001B[38;5;241m.\u001B[39mmove\n\u001B[0;32m    222\u001B[0m \u001B[38;5;66;03m# Then put back the replaced ep square if needed\u001B[39;00m\n\u001B[0;32m    223\u001B[0m \u001B[38;5;28;01mif\u001B[39;00m replaced_ep_square \u001B[38;5;129;01mis\u001B[39;00m \u001B[38;5;129;01mnot\u001B[39;00m \u001B[38;5;28;01mNone\u001B[39;00m:\n",
      "File \u001B[1;32m~\\AppData\\Roaming\\Python\\Python310\\site-packages\\chess\\engine.py:2795\u001B[0m, in \u001B[0;36mSimpleEngine.play\u001B[1;34m(self, board, limit, game, info, ponder, draw_offered, root_moves, options)\u001B[0m\n\u001B[0;32m   2791\u001B[0m     coro \u001B[38;5;241m=\u001B[39m asyncio\u001B[38;5;241m.\u001B[39mwait_for(\n\u001B[0;32m   2792\u001B[0m         \u001B[38;5;28mself\u001B[39m\u001B[38;5;241m.\u001B[39mprotocol\u001B[38;5;241m.\u001B[39mplay(board, limit, game\u001B[38;5;241m=\u001B[39mgame, info\u001B[38;5;241m=\u001B[39minfo, ponder\u001B[38;5;241m=\u001B[39mponder, draw_offered\u001B[38;5;241m=\u001B[39mdraw_offered, root_moves\u001B[38;5;241m=\u001B[39mroot_moves, options\u001B[38;5;241m=\u001B[39moptions),\n\u001B[0;32m   2793\u001B[0m         \u001B[38;5;28mself\u001B[39m\u001B[38;5;241m.\u001B[39m_timeout_for(limit))\n\u001B[0;32m   2794\u001B[0m     future \u001B[38;5;241m=\u001B[39m asyncio\u001B[38;5;241m.\u001B[39mrun_coroutine_threadsafe(coro, \u001B[38;5;28mself\u001B[39m\u001B[38;5;241m.\u001B[39mprotocol\u001B[38;5;241m.\u001B[39mloop)\n\u001B[1;32m-> 2795\u001B[0m \u001B[38;5;28;01mreturn\u001B[39;00m \u001B[43mfuture\u001B[49m\u001B[38;5;241;43m.\u001B[39;49m\u001B[43mresult\u001B[49m\u001B[43m(\u001B[49m\u001B[43m)\u001B[49m\n",
      "File \u001B[1;32m~\\.conda\\envs\\strangefish\\lib\\concurrent\\futures\\_base.py:453\u001B[0m, in \u001B[0;36mFuture.result\u001B[1;34m(self, timeout)\u001B[0m\n\u001B[0;32m    450\u001B[0m \u001B[38;5;28;01melif\u001B[39;00m \u001B[38;5;28mself\u001B[39m\u001B[38;5;241m.\u001B[39m_state \u001B[38;5;241m==\u001B[39m FINISHED:\n\u001B[0;32m    451\u001B[0m     \u001B[38;5;28;01mreturn\u001B[39;00m \u001B[38;5;28mself\u001B[39m\u001B[38;5;241m.\u001B[39m__get_result()\n\u001B[1;32m--> 453\u001B[0m \u001B[38;5;28;43mself\u001B[39;49m\u001B[38;5;241;43m.\u001B[39;49m\u001B[43m_condition\u001B[49m\u001B[38;5;241;43m.\u001B[39;49m\u001B[43mwait\u001B[49m\u001B[43m(\u001B[49m\u001B[43mtimeout\u001B[49m\u001B[43m)\u001B[49m\n\u001B[0;32m    455\u001B[0m \u001B[38;5;28;01mif\u001B[39;00m \u001B[38;5;28mself\u001B[39m\u001B[38;5;241m.\u001B[39m_state \u001B[38;5;129;01min\u001B[39;00m [CANCELLED, CANCELLED_AND_NOTIFIED]:\n\u001B[0;32m    456\u001B[0m     \u001B[38;5;28;01mraise\u001B[39;00m CancelledError()\n",
      "File \u001B[1;32m~\\.conda\\envs\\strangefish\\lib\\threading.py:320\u001B[0m, in \u001B[0;36mCondition.wait\u001B[1;34m(self, timeout)\u001B[0m\n\u001B[0;32m    318\u001B[0m \u001B[38;5;28;01mtry\u001B[39;00m:    \u001B[38;5;66;03m# restore state no matter what (e.g., KeyboardInterrupt)\u001B[39;00m\n\u001B[0;32m    319\u001B[0m     \u001B[38;5;28;01mif\u001B[39;00m timeout \u001B[38;5;129;01mis\u001B[39;00m \u001B[38;5;28;01mNone\u001B[39;00m:\n\u001B[1;32m--> 320\u001B[0m         \u001B[43mwaiter\u001B[49m\u001B[38;5;241;43m.\u001B[39;49m\u001B[43macquire\u001B[49m\u001B[43m(\u001B[49m\u001B[43m)\u001B[49m\n\u001B[0;32m    321\u001B[0m         gotit \u001B[38;5;241m=\u001B[39m \u001B[38;5;28;01mTrue\u001B[39;00m\n\u001B[0;32m    322\u001B[0m     \u001B[38;5;28;01melse\u001B[39;00m:\n",
      "\u001B[1;31mKeyboardInterrupt\u001B[0m: "
     ]
    }
   ],
   "source": [
    "winner_color, win_reason, game_history = play_local_game(\n",
    "    TroutBot(),\n",
    "    OracleFish(game_id=\"EXAMPLE\", uncertainty_model=uncertainty_model_1('uncertainty_model/model2/weights')),\n",
    ")"
   ],
   "metadata": {
    "collapsed": false
   }
  },
  {
   "cell_type": "code",
   "execution_count": 4,
   "outputs": [],
   "source": [
    "window = MyReplayWindow(game_history)\n",
    "while window.update():\n",
    "    window.draw()"
   ],
   "metadata": {
    "collapsed": false
   }
  },
  {
   "cell_type": "code",
   "execution_count": 5,
   "outputs": [],
   "source": [
    "game_history.save('game_logs/sample_game.log')"
   ],
   "metadata": {
    "collapsed": false
   }
  }
 ],
 "metadata": {
  "kernelspec": {
   "display_name": "Python 3",
   "language": "python",
   "name": "python3"
  },
  "language_info": {
   "codemirror_mode": {
    "name": "ipython",
    "version": 2
   },
   "file_extension": ".py",
   "mimetype": "text/x-python",
   "name": "python",
   "nbconvert_exporter": "python",
   "pygments_lexer": "ipython2",
   "version": "2.7.6"
  }
 },
 "nbformat": 4,
 "nbformat_minor": 0
}
