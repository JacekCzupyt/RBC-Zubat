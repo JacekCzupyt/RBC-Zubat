{
 "cells": [
  {
   "cell_type": "code",
   "execution_count": 1,
   "metadata": {
    "collapsed": true
   },
   "outputs": [],
   "source": [
    "%load_ext autoreload\n",
    "%autoreload 2"
   ]
  },
  {
   "cell_type": "code",
   "execution_count": 2,
   "outputs": [],
   "source": [
    "import chess\n",
    "from game_log_reader.playback import playback\n",
    "from game_log_reader.uncertainty_playback_player import UncertaintyPlaybackPlayer\n",
    "from game_log_reader.game_history_extended import GameHistoryExtended\n",
    "import os\n",
    "from tqdm import tqdm"
   ],
   "metadata": {
    "collapsed": false
   }
  },
  {
   "cell_type": "code",
   "execution_count": 3,
   "outputs": [],
   "source": [
    "path = 'game_logs/historical_games'\n",
    "save_path = 'game_logs/historical_games_extended'\n",
    "\n",
    "game_files = list(set(os.listdir(path)) - set(os.listdir(save_path)))\n",
    "game_files.sort()\n",
    "\n",
    "# game_files = ['571769.json']"
   ],
   "metadata": {
    "collapsed": false
   }
  },
  {
   "cell_type": "code",
   "execution_count": null,
   "outputs": [
    {
     "name": "stderr",
     "output_type": "stream",
     "text": [
      " 62%|██████▏   | 3803/6177 [2:15:42<1:53:21,  2.87s/it, game=578510.json, player=JKU-CODA, opponent=Châteaux]           Exception ignored in: <function tqdm.__del__ at 0x000001A7E3DD9900>\n",
      "Traceback (most recent call last):\n",
      "  File \"C:\\Users\\User\\AppData\\Roaming\\Python\\Python310\\site-packages\\tqdm\\std.py\", line 1162, in __del__\n",
      "    self.close()\n",
      "  File \"C:\\Users\\User\\AppData\\Roaming\\Python\\Python310\\site-packages\\tqdm\\std.py\", line 1281, in close\n",
      "    if self.disable:\n",
      "AttributeError: 'tqdm' object has no attribute 'disable'\n",
      " 62%|██████▏   | 3806/6177 [2:15:54<3:05:23,  4.69s/it, game=578513.json, player=DynamicEntropy, opponent=Châteaux]"
     ]
    }
   ],
   "source": [
    "bar = tqdm(game_files)\n",
    "\n",
    "for game_file in bar:\n",
    "    game_history = GameHistoryExtended.from_file(os.path.join(path, game_file))\n",
    "\n",
    "    if game_history.is_empty():\n",
    "        continue\n",
    "    for color in chess.COLORS:\n",
    "        if game_history.get_player_name(color) in ['random', 'trout', 'attacker', 'arandombot', 'uccchess', 'uccch']:\n",
    "            continue\n",
    "        bar.set_postfix({'game': game_file, 'player': game_history.get_player_name(color), 'opponent': game_history.get_player_name(not color)})\n",
    "        player = UncertaintyPlaybackPlayer(game_id=game_file.split('.')[0], log_to_file=False, rc_disable_pbar=True)\n",
    "        try:\n",
    "            playback(game_history, player, color)\n",
    "        except:\n",
    "            pass\n",
    "        game_history._pre_sense_uncertainty[color] = player.board_states_pre_sense\n",
    "        game_history._post_sense_uncertainty[color] = player.board_states_post_sense\n",
    "    game_history.save(os.path.join(save_path, game_file))"
   ],
   "metadata": {
    "collapsed": false,
    "pycharm": {
     "is_executing": true
    }
   }
  },
  {
   "cell_type": "code",
   "execution_count": null,
   "outputs": [],
   "source": [
    "game_files"
   ],
   "metadata": {
    "collapsed": false
   }
  },
  {
   "cell_type": "code",
   "execution_count": null,
   "outputs": [],
   "source": [],
   "metadata": {
    "collapsed": false
   }
  },
  {
   "cell_type": "code",
   "execution_count": null,
   "outputs": [],
   "source": [],
   "metadata": {
    "collapsed": false
   }
  },
  {
   "cell_type": "code",
   "execution_count": null,
   "outputs": [],
   "source": [
    "player.board_states_pre_sense"
   ],
   "metadata": {
    "collapsed": false
   }
  },
  {
   "cell_type": "code",
   "execution_count": null,
   "outputs": [],
   "source": [
    "player.board_states_post_sense"
   ],
   "metadata": {
    "collapsed": false
   }
  }
 ],
 "metadata": {
  "kernelspec": {
   "display_name": "Python 3",
   "language": "python",
   "name": "python3"
  },
  "language_info": {
   "codemirror_mode": {
    "name": "ipython",
    "version": 2
   },
   "file_extension": ".py",
   "mimetype": "text/x-python",
   "name": "python",
   "nbconvert_exporter": "python",
   "pygments_lexer": "ipython2",
   "version": "2.7.6"
  }
 },
 "nbformat": 4,
 "nbformat_minor": 0
}
