{
 "cells": [
  {
   "cell_type": "code",
   "execution_count": 3,
   "outputs": [],
   "source": [
    "%load_ext autoreload\n",
    "%autoreload 2"
   ],
   "metadata": {
    "collapsed": false,
    "ExecuteTime": {
     "end_time": "2023-11-05T20:26:28.858127100Z",
     "start_time": "2023-11-05T20:26:28.780127100Z"
    }
   },
   "id": "66061f7b9f1ffdc2"
  },
  {
   "cell_type": "code",
   "execution_count": 10,
   "outputs": [],
   "source": [
    "import csv\n",
    "import re\n",
    "import pandas as pd\n",
    "import numpy as np\n",
    "\n",
    "import pandas\n",
    "import os\n",
    "\n",
    "from reconchess import GameHistory\n",
    "import matplotlib.pyplot as plt\n",
    "from tqdm import tqdm"
   ],
   "metadata": {
    "collapsed": false,
    "ExecuteTime": {
     "end_time": "2023-11-05T20:33:44.147346500Z",
     "start_time": "2023-11-05T20:33:44.074345600Z"
    }
   },
   "id": "initial_id"
  },
  {
   "cell_type": "markdown",
   "source": [
    "### Find approximate quantiles"
   ],
   "metadata": {
    "collapsed": false
   },
   "id": "d2b8cd2abd0b009e"
  },
  {
   "cell_type": "code",
   "execution_count": 40,
   "outputs": [
    {
     "name": "stderr",
     "output_type": "stream",
     "text": [
      "100%|██████████| 95/95 [00:00<00:00, 154.72it/s]\n",
      "100%|██████████| 102/102 [00:00<00:00, 150.00it/s]\n",
      "100%|██████████| 100/100 [00:00<00:00, 206.19it/s]\n",
      "100%|██████████| 100/100 [00:00<00:00, 191.94it/s]\n",
      "100%|██████████| 100/100 [00:00<00:00, 184.16it/s]\n",
      "100%|██████████| 100/100 [00:00<00:00, 200.40it/s]\n"
     ]
    }
   ],
   "source": [
    "data_path = \"../game_logs/ranked_games\"\n",
    "\n",
    "wins = []\n",
    "losses = []\n",
    "\n",
    "for batch in os.listdir(data_path):\n",
    "    for game_id in tqdm(os.listdir(os.path.join(data_path, batch))):\n",
    "        try:\n",
    "            game = GameHistory.from_file(os.path.join(data_path, batch, game_id, f\"game_{game_id}.log\"))\n",
    "            has_won = (game.get_white_player_name() == \"Zubat\") == game.get_winner_color()\n",
    "            game_log = os.path.join(data_path, batch, game_id, f\"move_scores_{game_id}.csv\")\n",
    "            df = pd.read_csv(game_log)\n",
    "            mx = df.groupby(\"move_number\").max()\n",
    "            if has_won:\n",
    "                wins.append(mx[\"analytical\"].to_list())\n",
    "            else:\n",
    "                losses.append(mx[\"analytical\"].to_list())\n",
    "        except:\n",
    "            pass"
   ],
   "metadata": {
    "collapsed": false,
    "ExecuteTime": {
     "end_time": "2023-11-05T20:57:17.837362300Z",
     "start_time": "2023-11-05T20:57:14.409609700Z"
    }
   },
   "id": "da2ed2066eb805ee"
  },
  {
   "cell_type": "code",
   "execution_count": 41,
   "outputs": [
    {
     "data": {
      "text/plain": "(435, 158)"
     },
     "execution_count": 41,
     "metadata": {},
     "output_type": "execute_result"
    }
   ],
   "source": [
    "len(wins), len(losses)"
   ],
   "metadata": {
    "collapsed": false,
    "ExecuteTime": {
     "end_time": "2023-11-05T20:57:18.574848100Z",
     "start_time": "2023-11-05T20:57:18.511849400Z"
    }
   },
   "id": "72247157616de8f4"
  },
  {
   "cell_type": "code",
   "execution_count": 42,
   "outputs": [
    {
     "data": {
      "text/plain": "30317"
     },
     "execution_count": 42,
     "metadata": {},
     "output_type": "execute_result"
    }
   ],
   "source": [
    "res = np.array([x for win in wins for x in win] + [x for loss in losses for x in loss] * 3)\n",
    "len(res)"
   ],
   "metadata": {
    "collapsed": false,
    "ExecuteTime": {
     "end_time": "2023-11-05T20:57:19.318895500Z",
     "start_time": "2023-11-05T20:57:19.245896800Z"
    }
   },
   "id": "7e99e871cb4fbb18"
  },
  {
   "cell_type": "code",
   "execution_count": 43,
   "outputs": [
    {
     "data": {
      "text/plain": "<Figure size 640x480 with 1 Axes>",
      "image/png": "[encoded data removed]"
     },
     "metadata": {},
     "output_type": "display_data"
    }
   ],
   "source": [
    "plt.hist(res, bins=100)\n",
    "plt.show()"
   ],
   "metadata": {
    "collapsed": false,
    "ExecuteTime": {
     "end_time": "2023-11-05T20:57:20.844996500Z",
     "start_time": "2023-11-05T20:57:20.604996500Z"
    }
   },
   "id": "cf8c49087f1a0f6d"
  },
  {
   "cell_type": "code",
   "execution_count": 44,
   "outputs": [
    {
     "data": {
      "text/plain": "(16503, 13814)"
     },
     "execution_count": 44,
     "metadata": {},
     "output_type": "execute_result"
    }
   ],
   "source": [
    "len(res[res >= 0]), len(res[res < 0])"
   ],
   "metadata": {
    "collapsed": false,
    "ExecuteTime": {
     "end_time": "2023-11-05T20:57:26.967552800Z",
     "start_time": "2023-11-05T20:57:26.878551Z"
    }
   },
   "id": "45bd1e506860e956"
  },
  {
   "cell_type": "code",
   "execution_count": 45,
   "outputs": [
    {
     "data": {
      "text/plain": "([(0.0359, 352.427], (0.0359, 352.427], (0.0359, 352.427], (0.0359, 352.427], (0.0359, 352.427], ..., (0.0359, 352.427], (0.0359, 352.427], (0.0359, 352.427], (0.0359, 352.427], (0.0359, 352.427]]\n Length: 16503\n Categories (2, interval[float64, right]): [(0.0359, 352.427] < (352.427, 9538.0]],\n [(-423.002, -0.0204], (-423.002, -0.0204], (-423.002, -0.0204], (-423.002, -0.0204], (-423.002, -0.0204], ..., (-7519.336, -423.002], (-7519.336, -423.002], (-7519.336, -423.002], (-7519.336, -423.002], (-7519.336, -423.002]]\n Length: 13814\n Categories (2, interval[float64, right]): [(-7519.336, -423.002] < (-423.002, -0.0204]])"
     },
     "execution_count": 45,
     "metadata": {},
     "output_type": "execute_result"
    }
   ],
   "source": [
    "pd.qcut(res[res >= 0], 2), pd.qcut(res[res < 0], 2)"
   ],
   "metadata": {
    "collapsed": false,
    "ExecuteTime": {
     "end_time": "2023-11-05T20:57:47.411266600Z",
     "start_time": "2023-11-05T20:57:47.335264500Z"
    }
   },
   "id": "b8bb6e173488a8e0"
  },
  {
   "cell_type": "code",
   "execution_count": 52,
   "outputs": [
    {
     "data": {
      "text/plain": "(7166, 6648, 8923, 7580)"
     },
     "execution_count": 52,
     "metadata": {},
     "output_type": "execute_result"
    }
   ],
   "source": [
    "len(res[res < -400]), len(res[(res < 0) & (res >= -400)]), len(res[(res < 400) & (res >= 0)]), len(res[res >= 400])"
   ],
   "metadata": {
    "collapsed": false,
    "ExecuteTime": {
     "end_time": "2023-11-05T21:00:03.039610700Z",
     "start_time": "2023-11-05T21:00:02.973610700Z"
    }
   },
   "id": "8c7fbc9886b83d42"
  },
  {
   "cell_type": "markdown",
   "source": [
    "Ranges will be (-inf, -400), (-400, 0), (0, 400), (400, inf)"
   ],
   "metadata": {
    "collapsed": false
   },
   "id": "fbc2a790b20e7839"
  },
  {
   "cell_type": "markdown",
   "source": [
    "### Calculating"
   ],
   "metadata": {
    "collapsed": false
   },
   "id": "4bcdcaed6ffaf2d2"
  },
  {
   "cell_type": "code",
   "execution_count": 165,
   "outputs": [],
   "source": [
    "categories = [-400, 0, 400]\n",
    "result_thresholds = [-50, 50]\n",
    "risky_move_threshold = 50"
   ],
   "metadata": {
    "collapsed": false,
    "ExecuteTime": {
     "end_time": "2023-11-05T23:21:43.118147100Z",
     "start_time": "2023-11-05T23:21:43.055148800Z"
    }
   },
   "id": "ff6d7183adc133e5"
  },
  {
   "cell_type": "code",
   "execution_count": 166,
   "outputs": [],
   "source": [
    "results = pd.DataFrame(\n",
    "    {\"category\": [\n",
    "        f\"(-inf, {categories[0]})\", \n",
    "        f\"({categories[0]}, {categories[1]})\", \n",
    "        f\"({categories[1]}, {categories[2]})\", \n",
    "        f\"({categories[2]}, inf)\"\n",
    "    ][::-1], \n",
    "     \"positive\": [0, 0, 0, 0], \"neutral\": [0, 0, 0, 0], \"negative\": [0, 0, 0, 0]})"
   ],
   "metadata": {
    "collapsed": false,
    "ExecuteTime": {
     "end_time": "2023-11-05T23:21:43.431027700Z",
     "start_time": "2023-11-05T23:21:43.368027100Z"
    }
   },
   "id": "c7ee971defe1a812"
  },
  {
   "cell_type": "code",
   "execution_count": 167,
   "outputs": [
    {
     "name": "stderr",
     "output_type": "stream",
     "text": [
      "100%|██████████| 95/95 [00:00<00:00, 142.00it/s]\n",
      "100%|██████████| 102/102 [00:00<00:00, 129.94it/s]\n",
      "100%|██████████| 100/100 [00:00<00:00, 158.23it/s]\n",
      "100%|██████████| 100/100 [00:00<00:00, 141.24it/s]\n",
      "100%|██████████| 100/100 [00:00<00:00, 135.50it/s]\n",
      "100%|██████████| 100/100 [00:00<00:00, 155.76it/s]\n"
     ]
    }
   ],
   "source": [
    "data_path = \"../game_logs/ranked_games\"\n",
    "for batch in os.listdir(data_path):\n",
    "    for game_id in tqdm(os.listdir(os.path.join(data_path, batch))):\n",
    "        try:\n",
    "            game = GameHistory.from_file(os.path.join(data_path, batch, game_id, f\"game_{game_id}.log\"))\n",
    "            game_log = os.path.join(data_path, batch, game_id, f\"move_scores_{game_id}.csv\")\n",
    "            df = pd.read_csv(game_log)\n",
    "            \n",
    "            gr_df = df.groupby(\"move_number\")\n",
    "            risky_moves = np.where(gr_df[\"analytical\"].max() - gr_df.first()[\"analytical\"] > risky_move_threshold)[0] + 1\n",
    "            risky_moves\n",
    "            \n",
    "            analytical_scores = gr_df.max()[\"analytical\"]\n",
    "            for move in risky_moves:\n",
    "                category = np.digitize(analytical_scores[move], categories)\n",
    "                if move < len(gr_df):\n",
    "                    result = np.digitize(analytical_scores[move] - analytical_scores[move+1], result_thresholds)\n",
    "                    results.iloc[3-category, result+1] += 1\n",
    "                else:\n",
    "                    result = 2 * (game.get_white_player_name() == \"Zubat\") == game.get_winner_color()\n",
    "                    results.iloc[3-category, result+1] += 1\n",
    "        except:\n",
    "            pass"
   ],
   "metadata": {
    "collapsed": false,
    "ExecuteTime": {
     "end_time": "2023-11-05T23:21:48.080049300Z",
     "start_time": "2023-11-05T23:21:43.820048700Z"
    }
   },
   "id": "c6ed104c9d3c792d"
  },
  {
   "cell_type": "code",
   "execution_count": 168,
   "outputs": [
    {
     "data": {
      "text/plain": "       category  positive  neutral  negative\n0    (400, inf)       323      341       295\n1      (0, 400)       148      141       226\n2     (-400, 0)        93       77       180\n3  (-inf, -400)        97       39       133",
      "text/html": "<div>\n<style scoped>\n    .dataframe tbody tr th:only-of-type {\n        vertical-align: middle;\n    }\n\n    .dataframe tbody tr th {\n        vertical-align: top;\n    }\n\n    .dataframe thead th {\n        text-align: right;\n    }\n</style>\n<table border=\"1\" class=\"dataframe\">\n  <thead>\n    <tr style=\"text-align: right;\">\n      <th></th>\n      <th>category</th>\n      <th>positive</th>\n      <th>neutral</th>\n      <th>negative</th>\n    </tr>\n  </thead>\n  <tbody>\n    <tr>\n      <th>0</th>\n      <td>(400, inf)</td>\n      <td>323</td>\n      <td>341</td>\n      <td>295</td>\n    </tr>\n    <tr>\n      <th>1</th>\n      <td>(0, 400)</td>\n      <td>148</td>\n      <td>141</td>\n      <td>226</td>\n    </tr>\n    <tr>\n      <th>2</th>\n      <td>(-400, 0)</td>\n      <td>93</td>\n      <td>77</td>\n      <td>180</td>\n    </tr>\n    <tr>\n      <th>3</th>\n      <td>(-inf, -400)</td>\n      <td>97</td>\n      <td>39</td>\n      <td>133</td>\n    </tr>\n  </tbody>\n</table>\n</div>"
     },
     "execution_count": 168,
     "metadata": {},
     "output_type": "execute_result"
    }
   ],
   "source": [
    "results"
   ],
   "metadata": {
    "collapsed": false,
    "ExecuteTime": {
     "end_time": "2023-11-05T23:21:48.921707600Z",
     "start_time": "2023-11-05T23:21:48.846710500Z"
    }
   },
   "id": "3c591a5e10ce18b1"
  },
  {
   "cell_type": "code",
   "execution_count": 169,
   "outputs": [
    {
     "data": {
      "text/plain": "       category  positive   neutral  negative\n0    (400, inf)  0.336809  0.355579  0.307612\n1      (0, 400)  0.287379  0.273786  0.438835\n2     (-400, 0)  0.265714  0.220000  0.514286\n3  (-inf, -400)  0.360595  0.144981  0.494424",
      "text/html": "<div>\n<style scoped>\n    .dataframe tbody tr th:only-of-type {\n        vertical-align: middle;\n    }\n\n    .dataframe tbody tr th {\n        vertical-align: top;\n    }\n\n    .dataframe thead th {\n        text-align: right;\n    }\n</style>\n<table border=\"1\" class=\"dataframe\">\n  <thead>\n    <tr style=\"text-align: right;\">\n      <th></th>\n      <th>category</th>\n      <th>positive</th>\n      <th>neutral</th>\n      <th>negative</th>\n    </tr>\n  </thead>\n  <tbody>\n    <tr>\n      <th>0</th>\n      <td>(400, inf)</td>\n      <td>0.336809</td>\n      <td>0.355579</td>\n      <td>0.307612</td>\n    </tr>\n    <tr>\n      <th>1</th>\n      <td>(0, 400)</td>\n      <td>0.287379</td>\n      <td>0.273786</td>\n      <td>0.438835</td>\n    </tr>\n    <tr>\n      <th>2</th>\n      <td>(-400, 0)</td>\n      <td>0.265714</td>\n      <td>0.220000</td>\n      <td>0.514286</td>\n    </tr>\n    <tr>\n      <th>3</th>\n      <td>(-inf, -400)</td>\n      <td>0.360595</td>\n      <td>0.144981</td>\n      <td>0.494424</td>\n    </tr>\n  </tbody>\n</table>\n</div>"
     },
     "execution_count": 169,
     "metadata": {},
     "output_type": "execute_result"
    }
   ],
   "source": [
    "results2 = results.copy()\n",
    "results2[\"positive\"] = results[\"positive\"] / (results[\"positive\"] + results[\"neutral\"] + results[\"negative\"])\n",
    "results2[\"neutral\"] = results[\"neutral\"] / (results[\"positive\"] + results[\"neutral\"] + results[\"negative\"])\n",
    "results2[\"negative\"] = results[\"negative\"] / (results[\"positive\"] + results[\"neutral\"] + results[\"negative\"])\n",
    "results2"
   ],
   "metadata": {
    "collapsed": false,
    "ExecuteTime": {
     "end_time": "2023-11-05T23:21:49.503258500Z",
     "start_time": "2023-11-05T23:21:49.435259Z"
    }
   },
   "id": "bf0e591a6e687c8a"
  },
  {
   "cell_type": "code",
   "execution_count": 172,
   "outputs": [],
   "source": [
    "results.to_csv(\"results.csv\")\n",
    "results2.to_csv(\"results_percentage.csv\")"
   ],
   "metadata": {
    "collapsed": false,
    "ExecuteTime": {
     "end_time": "2023-11-05T23:55:07.513356300Z",
     "start_time": "2023-11-05T23:55:07.444248500Z"
    }
   },
   "id": "2edaa920edb870e8"
  },
  {
   "cell_type": "code",
   "execution_count": null,
   "outputs": [],
   "source": [],
   "metadata": {
    "collapsed": false
   },
   "id": "c9096ee94c474c7d"
  }
 ],
 "metadata": {
  "kernelspec": {
   "display_name": "Python 3",
   "language": "python",
   "name": "python3"
  },
  "language_info": {
   "codemirror_mode": {
    "name": "ipython",
    "version": 2
   },
   "file_extension": ".py",
   "mimetype": "text/x-python",
   "name": "python",
   "nbconvert_exporter": "python",
   "pygments_lexer": "ipython2",
   "version": "2.7.6"
  }
 },
 "nbformat": 4,
 "nbformat_minor": 5
}
